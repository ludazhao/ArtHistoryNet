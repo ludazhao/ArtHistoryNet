{
 "cells": [
  {
   "cell_type": "markdown",
   "metadata": {},
   "source": [
    "# Retagging images that were manually tagged\n",
    "\n",
    "This code is adapted from tensorflow/tensorflow/models/image/imagenet/classify_image.py "
   ]
  },
  {
   "cell_type": "code",
   "execution_count": 23,
   "metadata": {
    "collapsed": false
   },
   "outputs": [
    {
     "name": "stdout",
     "output_type": "stream",
     "text": [
      "The autoreload extension is already loaded. To reload it, use:\n",
      "  %reload_ext autoreload\n"
     ]
    }
   ],
   "source": [
    "import os.path\n",
    "import re\n",
    "import sys\n",
    "import tarfile\n",
    "import time\n",
    "import multiprocessing as mp\n",
    "import itertools\n",
    "import csv\n",
    "\n",
    "import tensorflow.python.platform\n",
    "from six.moves import urllib\n",
    "import numpy as np\n",
    "import tensorflow as tf\n",
    "import h5py\n",
    "\n",
    "import glob\n",
    "import cPickle as pickle\n",
    "import matplotlib as mpl\n",
    "import matplotlib.pyplot as plt\n",
    "import matplotlib.image as mpimg\n",
    "from tensorflow.python.platform import gfile\n",
    "from run_inference import predict_star, predict\n",
    "import seaborn as sns\n",
    "from sklearn.metrics import confusion_matrix\n",
    "\n",
    "plt.style.use('ggplot')\n",
    "\n",
    "%matplotlib inline\n",
    "%load_ext autoreload\n",
    "%autoreload 2"
   ]
  },
  {
   "cell_type": "markdown",
   "metadata": {},
   "source": [
    "## Code to read in a graph + optimal parameters"
   ]
  },
  {
   "cell_type": "code",
   "execution_count": 2,
   "metadata": {
    "collapsed": false
   },
   "outputs": [],
   "source": [
    "def create_graph(pb_file):\n",
    "    \"\"\"\"Creates a graph from saved GraphDef file and returns a Graph object.\n",
    "    Returns:\n",
    "    Graph holding the trained Inception network.\n",
    "    \"\"\"\n",
    "    model_filename = pb_file\n",
    "    with gfile.FastGFile(model_filename, 'rb') as f:\n",
    "        graph_def = tf.GraphDef()\n",
    "        graph_def.ParseFromString(f.read())\n",
    "        tf.import_graph_def(graph_def, name='')"
   ]
  },
  {
   "cell_type": "code",
   "execution_count": 3,
   "metadata": {
    "collapsed": false
   },
   "outputs": [],
   "source": [
    "#graph = create_graph\"/data/retrain_manualtags/output_graph_best.pb\")\n",
    "create_graph(\"/data/retrain_manualtags/output_graph_best.pb\")\n",
    "sess = tf.Session()"
   ]
  },
  {
   "cell_type": "code",
   "execution_count": 4,
   "metadata": {
    "collapsed": false
   },
   "outputs": [
    {
     "name": "stdout",
     "output_type": "stream",
     "text": [
      "(12,)\n",
      "(2048, 12)\n"
     ]
    }
   ],
   "source": [
    "params = pickle.load(open(\"/data/retrain_manualtags1/output_params700.pkl\", 'r'))\n",
    "fw = params[\"final_weights\"]\n",
    "fb = params[\"final_biases\"]\n",
    "print fb.shape\n",
    "print fw.shape"
   ]
  },
  {
   "cell_type": "code",
   "execution_count": 5,
   "metadata": {
    "collapsed": false
   },
   "outputs": [
    {
     "data": {
      "text/plain": [
       "['animals',\n",
       " 'objects',\n",
       " 'maps',\n",
       " 'text',\n",
       " 'nature',\n",
       " 'people',\n",
       " 'seals',\n",
       " 'miniatures',\n",
       " 'diagrams',\n",
       " 'architecture',\n",
       " 'decorations',\n",
       " 'landscape']"
      ]
     },
     "execution_count": 5,
     "metadata": {},
     "output_type": "execute_result"
    }
   ],
   "source": [
    "labels = []\n",
    "with open(\"/data/retrain_manualtags1/output_labels700.txt\", 'r') as ifile:\n",
    "    for line in ifile:\n",
    "        labels.append(line.rstrip())\n",
    "labels"
   ]
  },
  {
   "cell_type": "markdown",
   "metadata": {},
   "source": [
    "## Code to calculate scores on an image"
   ]
  },
  {
   "cell_type": "code",
   "execution_count": 6,
   "metadata": {
    "collapsed": true
   },
   "outputs": [],
   "source": [
    "# from http://www.socouldanyone.com/2013/03/converting-grayscale-to-rgb-with-numpy.html\n",
    "def to_rgb(im):\n",
    "    w, h = im.shape[:2]\n",
    "    ret = np.empty((w, h, 3), dtype=np.uint8)\n",
    "    ret[:, :, 0] = im\n",
    "    ret[:, :, 1] = im\n",
    "    ret[:, :, 2] = im\n",
    "    return ret\n",
    "\n",
    "\n",
    "# from https://gist.github.com/yusugomori/4462221\n",
    "def softmax(x):\n",
    "    e = np.exp(x - np.max(x))  # prevent overflow\n",
    "    if e.ndim == 1:\n",
    "        return e / np.sum(e, axis=0)\n",
    "    else:  \n",
    "        return e / np.array([np.sum(e, axis=1)]).T  # ndim = 2"
   ]
  },
  {
   "cell_type": "code",
   "execution_count": 7,
   "metadata": {
    "collapsed": false
   },
   "outputs": [],
   "source": [
    "def run_inference_on_image(image, fileType, visualize=True, verbose=True):\n",
    "    # Some useful tensors:\n",
    "    # 'softmax:0': A tensor containing the normalized prediction across\n",
    "    #   1000 labels.\n",
    "    # 'pool_3:0': A tensor containing the next-to-last layer containing 2048\n",
    "    #   float description of the image.\n",
    "    # 'DecodeJpeg/contents:0': A tensor containing a string providing JPEG\n",
    "    #   encoding of the image.\n",
    "    # Runs the softmax tensor by feeding the image_data as input to the graph.\n",
    "\n",
    "    softmax_tensor = sess.graph.get_tensor_by_name('pool_3/_reshape:0')\n",
    "    \n",
    "    if fileType=='jpg':\n",
    "        if not gfile.Exists(image):\n",
    "            tf.logging.fatal('File does not exist %s', image)\n",
    "        image_data = gfile.FastGFile(image).read()\n",
    "        predictions = sess.run(softmax_tensor, {'DecodeJpeg/contents:0': image_data})\n",
    "    elif fileType=='arr':\n",
    "        image_data = [to_rgb(image)]\n",
    "        predictions = sess.run(softmax_tensor, {'ExpandDims:0': image_data})\n",
    "    else:\n",
    "        print \"Must be jpg or arr.\"\n",
    "        return\n",
    "\n",
    "    preds = softmax((np.dot(predictions, fw) + fb)[0])\n",
    "    top_k = preds.argsort()[-12:][::-1]\n",
    "    \n",
    "    for node_id in top_k:\n",
    "      score = preds[node_id]\n",
    "      if verbose:\n",
    "            print '%s (score = %.5f)' % (labels[int(node_id)], score)\n",
    "       \n",
    "    if visualize:\n",
    "        if fileType=='jpg': plt.imshow(mpimg.imread(image), cmap=mpl.cm.gray)\n",
    "        else:\n",
    "            plt.imshow(image, cmap=mpl.cm.gray)\n",
    "\n",
    "    return preds"
   ]
  },
  {
   "cell_type": "code",
   "execution_count": 9,
   "metadata": {
    "collapsed": false
   },
   "outputs": [
    {
     "name": "stdout",
     "output_type": "stream",
     "text": [
      "(224, 224)\n",
      "maps (score = 0.67245)\n",
      "text (score = 0.09778)\n",
      "diagrams (score = 0.07885)\n",
      "animals (score = 0.02738)\n",
      "nature (score = 0.02448)\n",
      "seals (score = 0.01955)\n",
      "objects (score = 0.01775)\n",
      "people (score = 0.01623)\n",
      "architecture (score = 0.01362)\n",
      "landscape (score = 0.01197)\n",
      "miniatures (score = 0.01077)\n",
      "decorations (score = 0.00917)\n"
     ]
    },
    {
     "data": {
      "image/png": "[encoded data removed]",
      "text/plain": [
       "<matplotlib.figure.Figure at 0x7f99d767b150>"
      ]
     },
     "metadata": {},
     "output_type": "display_data"
    }
   ],
   "source": [
    "x = mpimg.imread(\"/data/reorg3/Maps/003055002_10_000599_1_.jpg\")\n",
    "print x.shape\n",
    "preds = run_inference_on_image(x, fileType=\"arr\")"
   ]
  },
  {
   "cell_type": "markdown",
   "metadata": {},
   "source": [
    "## Read in 1K images from our hdf5 file, and score their scores in a dict"
   ]
  },
  {
   "cell_type": "code",
   "execution_count": 8,
   "metadata": {
    "collapsed": true
   },
   "outputs": [],
   "source": [
    "# read in hdf5 file\n",
    "image_hdf5 = h5py.File('/data/image_data.hdf5','r')\n",
    "(image_metadata, book_metadata, image_to_idx) = pickle.load(open(\"/data/all_metadata.pkl\", 'r'))"
   ]
  },
  {
   "cell_type": "code",
   "execution_count": 9,
   "metadata": {
    "collapsed": false
   },
   "outputs": [],
   "source": [
    "# pictures in the tagged set\n",
    "tagged = set()\n",
    "for folder in glob.glob(\"/data/reorg3/*/\"):\n",
    "    for fn in glob.glob(folder + (\"/*.jpg\")):\n",
    "        tagged.add(os.path.basename(fn)[:-4])"
   ]
  },
  {
   "cell_type": "code",
   "execution_count": 10,
   "metadata": {
    "collapsed": false
   },
   "outputs": [
    {
     "data": {
      "text/plain": [
       "['002270696_0_000024_1_',\n",
       " '000744317_03_000239_2_',\n",
       " '002483175_09_000298_1_',\n",
       " '000459452_05_000382_1_',\n",
       " '003055019_02_000065_1_']"
      ]
     },
     "execution_count": 10,
     "metadata": {},
     "output_type": "execute_result"
    }
   ],
   "source": [
    "image_to_idx.keys()[:5]"
   ]
  },
  {
   "cell_type": "code",
   "execution_count": 11,
   "metadata": {
    "collapsed": false
   },
   "outputs": [
    {
     "data": {
      "text/plain": [
       "['001102875_03_000244_1_',\n",
       " '000082783_0_000113_1_',\n",
       " '003827942_01_000305_1_',\n",
       " '000890311_02_000381_1_',\n",
       " '000550576_02_000013_1_']"
      ]
     },
     "execution_count": 11,
     "metadata": {},
     "output_type": "execute_result"
    }
   ],
   "source": [
    "# run on tagged images\n",
    "\n",
    "images_for_tagging = list(tagged)\n",
    "images_for_tagging[:5]"
   ]
  },
  {
   "cell_type": "code",
   "execution_count": 12,
   "metadata": {
    "collapsed": false
   },
   "outputs": [
    {
     "name": "stdout",
     "output_type": "stream",
     "text": [
      "0\n",
      "The history saving thread hit an unexpected error (OperationalError('database or disk is full',)).History will not be written to the database.\n",
      "10\n",
      "20\n",
      "30\n",
      "40\n",
      "50\n",
      "60\n",
      "70\n",
      "80\n",
      "90\n",
      "100\n",
      "110\n",
      "120\n",
      "130\n",
      "140\n",
      "150\n",
      "160\n",
      "170\n",
      "180\n",
      "190\n",
      "200\n",
      "210\n",
      "220\n",
      "230\n",
      "240\n",
      "250\n",
      "260\n",
      "270\n",
      "280\n",
      "290\n",
      "300\n",
      "310\n",
      "320\n",
      "330\n",
      "340\n",
      "350\n",
      "360\n",
      "370\n",
      "380\n",
      "390\n",
      "400\n",
      "410\n",
      "420\n",
      "430\n",
      "440\n",
      "450\n",
      "460\n",
      "470\n",
      "480\n",
      "490\n",
      "500\n",
      "510\n",
      "520\n",
      "530\n",
      "540\n",
      "550\n",
      "560\n",
      "570\n",
      "580\n",
      "590\n",
      "600\n",
      "610\n",
      "620\n",
      "630\n",
      "640\n",
      "650\n",
      "660\n",
      "670\n",
      "680\n",
      "690\n",
      "700\n",
      "710\n",
      "720\n",
      "730\n",
      "740\n",
      "750\n",
      "760\n",
      "770\n",
      "780\n",
      "790\n",
      "800\n",
      "810\n",
      "820\n",
      "830\n",
      "840\n",
      "850\n",
      "860\n",
      "870\n",
      "880\n",
      "890\n",
      "900\n",
      "910\n",
      "920\n",
      "930\n",
      "940\n",
      "950\n",
      "960\n",
      "970\n",
      "980\n",
      "990\n",
      "1000\n",
      "1010\n",
      "1020\n",
      "1030\n",
      "1040\n",
      "1050\n",
      "1060\n",
      "1070\n",
      "1080\n",
      "1090\n",
      "1100\n",
      "1110\n",
      "1120\n",
      "1130\n",
      "1140\n",
      "1150\n",
      "1160\n",
      "1170\n",
      "1180\n",
      "1190\n",
      "1200\n",
      "1210\n",
      "1220\n",
      "1230\n",
      "1240\n",
      "1250\n",
      "1260\n",
      "1270\n",
      "1280\n",
      "1290\n",
      "1300\n",
      "1310\n",
      "1320\n",
      "1330\n",
      "1340\n",
      "1350\n",
      "1360\n",
      "1370\n",
      "1380\n",
      "1390\n",
      "1400\n"
     ]
    }
   ],
   "source": [
    "images_to_scores = {}\n",
    "args = {\"images_to_scores\": images_to_scores, \n",
    "        \"image_to_idx\": image_to_idx, \n",
    "        \"image_hdf5\": image_hdf5, \n",
    "        \"fw\": fw, \n",
    "        \"fb\": fb, \n",
    "        \"sess\": sess}\n",
    "for i in range(len(images_for_tagging)):\n",
    "    if i % 10 == 0: print i\n",
    "    img = images_for_tagging[i]\n",
    "    try:\n",
    "        predict_star((img, args))\n",
    "    except:\n",
    "        continue\n"
   ]
  },
  {
   "cell_type": "markdown",
   "metadata": {},
   "source": [
    "## Analysis of Results\n"
   ]
  },
  {
   "cell_type": "markdown",
   "metadata": {},
   "source": [
    "### Get Ground Truth and Prediction, and get Top 3 also\n"
   ]
  },
  {
   "cell_type": "code",
   "execution_count": 19,
   "metadata": {
    "collapsed": false
   },
   "outputs": [
    {
     "name": "stdout",
     "output_type": "stream",
     "text": [
      "Top 3 accuracy: 0.895833333333\n",
      "Top 5 accuracy: 0.96056547619\n"
     ]
    }
   ],
   "source": [
    "image_to_tags_ground = {}\n",
    "\n",
    "f = \"/home/ubuntu/ArtHistoryNet/analysis/20160228_image_to_manual_tags.csv\"\n",
    "with open(f, 'r') as ifile:\n",
    "    reader = csv.reader(ifile, delimiter='|')\n",
    "    reader.next()\n",
    "    for row in reader:\n",
    "        short_names = '_'.join(row[1].split('_')[:4]) + '_'\n",
    "        image_to_tags_ground[short_names] = row[2]\n",
    "\n",
    "num_intop3 = 0\n",
    "num_intop5 = 0\n",
    "num_total = 0\n",
    "image_to_tags = {}\n",
    "for img in images_to_scores:\n",
    "    image_to_tags[img] = labels[np.argmax(images_to_scores[img])]\n",
    "    top_3_tags = np.argsort(images_to_scores[img])[::-1][:3] \n",
    "    top_3_tags = [labels[x].capitalize() for x in top_3_tags]\n",
    "    top_5_tags = np.argsort(images_to_scores[img])[::-1][:5] \n",
    "    top_5_tags = [labels[x].capitalize() for x in top_5_tags]\n",
    "    \n",
    "    if img not in image_to_tags_ground: continue\n",
    "    #print image_to_tags_ground[img], top_3_tags\n",
    "    if image_to_tags_ground[img][1:] in top_3_tags:\n",
    "        num_intop3 += 1\n",
    "    if image_to_tags_ground[img][1:] in top_5_tags:\n",
    "        num_intop5 += 1\n",
    "    num_total += 1\n",
    "\n",
    "print \"Top 3 accuracy: {}\".format(float(num_intop3)/num_total)\n",
    "print \"Top 5 accuracy: {}\".format(float(num_intop5)/num_total)\n",
    "#print images_to_scores.keys()[:2]\n",
    "#print len(set(image_to_tags_ground.keys()) - set(images_to_scores.keys()))\n",
    "\n"
   ]
  },
  {
   "cell_type": "markdown",
   "metadata": {},
   "source": [
    "### Do Analysis\n"
   ]
  },
  {
   "cell_type": "code",
   "execution_count": 20,
   "metadata": {
    "collapsed": false
   },
   "outputs": [
    {
     "name": "stdout",
     "output_type": "stream",
     "text": [
      "63\n"
     ]
    },
    {
     "data": {
      "text/plain": [
       "(12, 12)"
      ]
     },
     "execution_count": 20,
     "metadata": {},
     "output_type": "execute_result"
    }
   ],
   "source": [
    "ground_y = []\n",
    "pred_y = []\n",
    "x = 0\n",
    "for img in image_to_tags_ground:\n",
    "    if img not in image_to_tags:\n",
    "        x+= 1 \n",
    "        continue     \n",
    "    else:\n",
    "        ground_y.append(image_to_tags_ground[img][1:])\n",
    "        pred_y.append(image_to_tags[img].capitalize())\n",
    "    \n",
    "print x\n",
    "confm = confusion_matrix(ground_y, pred_y)\n",
    "confm.shape"
   ]
  },
  {
   "cell_type": "code",
   "execution_count": 31,
   "metadata": {
    "collapsed": false
   },
   "outputs": [
    {
     "data": {
      "text/html": [
       "<div>\n",
       "<table border=\"1\" class=\"dataframe\">\n",
       "  <thead>\n",
       "    <tr style=\"text-align: right;\">\n",
       "      <th></th>\n",
       "      <th>animals</th>\n",
       "      <th>architecture</th>\n",
       "      <th>decorations</th>\n",
       "      <th>diagrams</th>\n",
       "      <th>landscape</th>\n",
       "      <th>maps</th>\n",
       "      <th>miniatures</th>\n",
       "      <th>nature</th>\n",
       "      <th>objects</th>\n",
       "      <th>people</th>\n",
       "      <th>seals</th>\n",
       "      <th>text</th>\n",
       "    </tr>\n",
       "  </thead>\n",
       "  <tbody>\n",
       "    <tr>\n",
       "      <th>animals</th>\n",
       "      <td>70</td>\n",
       "      <td>0</td>\n",
       "      <td>1</td>\n",
       "      <td>0</td>\n",
       "      <td>5</td>\n",
       "      <td>4</td>\n",
       "      <td>1</td>\n",
       "      <td>4</td>\n",
       "      <td>4</td>\n",
       "      <td>6</td>\n",
       "      <td>1</td>\n",
       "      <td>7</td>\n",
       "    </tr>\n",
       "    <tr>\n",
       "      <th>architecture</th>\n",
       "      <td>0</td>\n",
       "      <td>67</td>\n",
       "      <td>0</td>\n",
       "      <td>2</td>\n",
       "      <td>34</td>\n",
       "      <td>4</td>\n",
       "      <td>0</td>\n",
       "      <td>1</td>\n",
       "      <td>7</td>\n",
       "      <td>2</td>\n",
       "      <td>1</td>\n",
       "      <td>9</td>\n",
       "    </tr>\n",
       "    <tr>\n",
       "      <th>decorations</th>\n",
       "      <td>0</td>\n",
       "      <td>0</td>\n",
       "      <td>75</td>\n",
       "      <td>0</td>\n",
       "      <td>0</td>\n",
       "      <td>2</td>\n",
       "      <td>4</td>\n",
       "      <td>1</td>\n",
       "      <td>1</td>\n",
       "      <td>0</td>\n",
       "      <td>6</td>\n",
       "      <td>5</td>\n",
       "    </tr>\n",
       "    <tr>\n",
       "      <th>diagrams</th>\n",
       "      <td>0</td>\n",
       "      <td>0</td>\n",
       "      <td>0</td>\n",
       "      <td>70</td>\n",
       "      <td>0</td>\n",
       "      <td>11</td>\n",
       "      <td>0</td>\n",
       "      <td>0</td>\n",
       "      <td>7</td>\n",
       "      <td>0</td>\n",
       "      <td>1</td>\n",
       "      <td>8</td>\n",
       "    </tr>\n",
       "    <tr>\n",
       "      <th>landscape</th>\n",
       "      <td>1</td>\n",
       "      <td>9</td>\n",
       "      <td>0</td>\n",
       "      <td>0</td>\n",
       "      <td>51</td>\n",
       "      <td>2</td>\n",
       "      <td>0</td>\n",
       "      <td>23</td>\n",
       "      <td>3</td>\n",
       "      <td>1</td>\n",
       "      <td>1</td>\n",
       "      <td>12</td>\n",
       "    </tr>\n",
       "    <tr>\n",
       "      <th>maps</th>\n",
       "      <td>1</td>\n",
       "      <td>0</td>\n",
       "      <td>0</td>\n",
       "      <td>5</td>\n",
       "      <td>0</td>\n",
       "      <td>88</td>\n",
       "      <td>0</td>\n",
       "      <td>1</td>\n",
       "      <td>1</td>\n",
       "      <td>0</td>\n",
       "      <td>0</td>\n",
       "      <td>3</td>\n",
       "    </tr>\n",
       "    <tr>\n",
       "      <th>miniatures</th>\n",
       "      <td>0</td>\n",
       "      <td>0</td>\n",
       "      <td>5</td>\n",
       "      <td>1</td>\n",
       "      <td>0</td>\n",
       "      <td>4</td>\n",
       "      <td>65</td>\n",
       "      <td>0</td>\n",
       "      <td>0</td>\n",
       "      <td>0</td>\n",
       "      <td>13</td>\n",
       "      <td>2</td>\n",
       "    </tr>\n",
       "    <tr>\n",
       "      <th>nature</th>\n",
       "      <td>1</td>\n",
       "      <td>0</td>\n",
       "      <td>10</td>\n",
       "      <td>0</td>\n",
       "      <td>20</td>\n",
       "      <td>3</td>\n",
       "      <td>0</td>\n",
       "      <td>49</td>\n",
       "      <td>4</td>\n",
       "      <td>2</td>\n",
       "      <td>0</td>\n",
       "      <td>8</td>\n",
       "    </tr>\n",
       "    <tr>\n",
       "      <th>objects</th>\n",
       "      <td>1</td>\n",
       "      <td>3</td>\n",
       "      <td>1</td>\n",
       "      <td>10</td>\n",
       "      <td>4</td>\n",
       "      <td>7</td>\n",
       "      <td>0</td>\n",
       "      <td>1</td>\n",
       "      <td>64</td>\n",
       "      <td>3</td>\n",
       "      <td>5</td>\n",
       "      <td>3</td>\n",
       "    </tr>\n",
       "    <tr>\n",
       "      <th>people</th>\n",
       "      <td>13</td>\n",
       "      <td>3</td>\n",
       "      <td>0</td>\n",
       "      <td>1</td>\n",
       "      <td>11</td>\n",
       "      <td>9</td>\n",
       "      <td>1</td>\n",
       "      <td>20</td>\n",
       "      <td>16</td>\n",
       "      <td>139</td>\n",
       "      <td>8</td>\n",
       "      <td>9</td>\n",
       "    </tr>\n",
       "    <tr>\n",
       "      <th>seals</th>\n",
       "      <td>0</td>\n",
       "      <td>1</td>\n",
       "      <td>5</td>\n",
       "      <td>8</td>\n",
       "      <td>0</td>\n",
       "      <td>3</td>\n",
       "      <td>2</td>\n",
       "      <td>0</td>\n",
       "      <td>1</td>\n",
       "      <td>1</td>\n",
       "      <td>72</td>\n",
       "      <td>2</td>\n",
       "    </tr>\n",
       "    <tr>\n",
       "      <th>text</th>\n",
       "      <td>1</td>\n",
       "      <td>0</td>\n",
       "      <td>0</td>\n",
       "      <td>6</td>\n",
       "      <td>1</td>\n",
       "      <td>6</td>\n",
       "      <td>3</td>\n",
       "      <td>1</td>\n",
       "      <td>0</td>\n",
       "      <td>1</td>\n",
       "      <td>4</td>\n",
       "      <td>84</td>\n",
       "    </tr>\n",
       "  </tbody>\n",
       "</table>\n",
       "</div>"
      ],
      "text/plain": [
       "              animals  architecture  decorations  diagrams  landscape  maps  \\\n",
       "animals            70             0            1         0          5     4   \n",
       "architecture        0            67            0         2         34     4   \n",
       "decorations         0             0           75         0          0     2   \n",
       "diagrams            0             0            0        70          0    11   \n",
       "landscape           1             9            0         0         51     2   \n",
       "maps                1             0            0         5          0    88   \n",
       "miniatures          0             0            5         1          0     4   \n",
       "nature              1             0           10         0         20     3   \n",
       "objects             1             3            1        10          4     7   \n",
       "people             13             3            0         1         11     9   \n",
       "seals               0             1            5         8          0     3   \n",
       "text                1             0            0         6          1     6   \n",
       "\n",
       "              miniatures  nature  objects  people  seals  text  \n",
       "animals                1       4        4       6      1     7  \n",
       "architecture           0       1        7       2      1     9  \n",
       "decorations            4       1        1       0      6     5  \n",
       "diagrams               0       0        7       0      1     8  \n",
       "landscape              0      23        3       1      1    12  \n",
       "maps                   0       1        1       0      0     3  \n",
       "miniatures            65       0        0       0     13     2  \n",
       "nature                 0      49        4       2      0     8  \n",
       "objects                0       1       64       3      5     3  \n",
       "people                 1      20       16     139      8     9  \n",
       "seals                  2       0        1       1     72     2  \n",
       "text                   3       1        0       1      4    84  "
      ]
     },
     "execution_count": 31,
     "metadata": {},
     "output_type": "execute_result"
    }
   ],
   "source": [
    "import pandas as pd\n",
    "data = pd.DataFrame(confm)\n",
    "data.columns = sorted(labels)\n",
    "data.index = sorted(labels)\n",
    "data"
   ]
  },
  {
   "cell_type": "code",
   "execution_count": 41,
   "metadata": {
    "collapsed": false
   },
   "outputs": [
    {
     "data": {
      "image/png": "[encoded data removed]",
      "text/plain": [
       "<matplotlib.figure.Figure at 0x7fd21b381210>"
      ]
     },
     "metadata": {},
     "output_type": "display_data"
    }
   ],
   "source": [
    "fig = plt.figure(figsize=(7,6))\n",
    "ax = fig.add_subplot(111)\n",
    "sns.heatmap(data, annot=True, fmt='d')\n",
    "ax.set_xlabel(\"Ground truth\")\n",
    "ax.set_ylabel(\"Prediction\")\n",
    "plt.title(\"Confusion matrix on manually tagged data\")\n",
    "plt.savefig(\"confusion_matrix_manualtag.pdf\", format='pdf')"
   ]
  }
 ],
 "metadata": {
  "kernelspec": {
   "display_name": "Python 2",
   "language": "python",
   "name": "python2"
  },
  "language_info": {
   "codemirror_mode": {
    "name": "ipython",
    "version": 2
   },
   "file_extension": ".py",
   "mimetype": "text/x-python",
   "name": "python",
   "nbconvert_exporter": "python",
   "pygments_lexer": "ipython2",
   "version": "2.7.11"
  }
 },
 "nbformat": 4,
 "nbformat_minor": 0
}
