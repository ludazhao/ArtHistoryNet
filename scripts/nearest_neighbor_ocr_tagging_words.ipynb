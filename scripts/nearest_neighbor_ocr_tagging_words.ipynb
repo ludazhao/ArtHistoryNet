{
 "cells": [
  {
   "cell_type": "markdown",
   "metadata": {},
   "source": [
    "# Getting nouns for every image"
   ]
  },
  {
   "cell_type": "code",
   "execution_count": 1,
   "metadata": {
    "collapsed": false
   },
   "outputs": [],
   "source": [
    "import os.path\n",
    "import re\n",
    "import sys\n",
    "import tarfile\n",
    "import time\n",
    "import multiprocessing as mp\n",
    "import itertools\n",
    "from collections import Counter\n",
    "\n",
    "import tensorflow.python.platform\n",
    "from six.moves import urllib\n",
    "import numpy as np\n",
    "import tensorflow as tf\n",
    "import h5py\n",
    "import glob\n",
    "import cPickle as pickle\n",
    "import matplotlib as mpl\n",
    "import matplotlib.pyplot as plt\n",
    "import matplotlib.image as mpimg\n",
    "from tensorflow.python.platform import gfile\n",
    "\n",
    "from run_inference import predict_star, predict\n",
    "import pandas as pd\n",
    "import seaborn as sns\n",
    "\n",
    "%matplotlib inline\n",
    "%load_ext autoreload\n",
    "%autoreload 2"
   ]
  },
  {
   "cell_type": "markdown",
   "metadata": {},
   "source": [
    "## Make one dictionary of noun phrases"
   ]
  },
  {
   "cell_type": "code",
   "execution_count": 2,
   "metadata": {
    "collapsed": false
   },
   "outputs": [
    {
     "data": {
      "text/plain": [
       "{1: 2, 3: 4, 4: 5, 6: 7}"
      ]
     },
     "execution_count": 2,
     "metadata": {},
     "output_type": "execute_result"
    }
   ],
   "source": [
    "a = {1:2,3:4}\n",
    "b = {4:5,6:7}\n",
    "a.update(b)\n",
    "a"
   ]
  },
  {
   "cell_type": "code",
   "execution_count": 15,
   "metadata": {
    "collapsed": true
   },
   "outputs": [],
   "source": [
    "files = glob.glob(\"/data/nearest_neighbor_tagging/idx_to_noun_phrases_*\")\n",
    "\n",
    "combined_dict = {}\n",
    "for fn in files:\n",
    "    a = pickle.load(open(fn, 'r'))\n",
    "    combined_dict.update(a)\n",
    "    \n",
    "pickle.dump(combined_dict, open(\"/data/idx_to_noun_phrases.pkl\", 'w'))"
   ]
  },
  {
   "cell_type": "markdown",
   "metadata": {},
   "source": [
    "## Calculate tags for all images"
   ]
  },
  {
   "cell_type": "code",
   "execution_count": 2,
   "metadata": {
    "collapsed": true
   },
   "outputs": [],
   "source": [
    "idx_to_noun_phrases = pickle.load(open(\"/data/idx_to_noun_phrases.pkl\", 'r'))"
   ]
  },
  {
   "cell_type": "code",
   "execution_count": 18,
   "metadata": {
    "collapsed": true
   },
   "outputs": [],
   "source": [
    "idx_to_noun_phrases = combined_dict"
   ]
  },
  {
   "cell_type": "code",
   "execution_count": 3,
   "metadata": {
    "collapsed": true
   },
   "outputs": [],
   "source": [
    "import enchant\n",
    "import difflib\n",
    "eng = enchant.Dict(\"en_US\")\n",
    "br = enchant.Dict(\"en_GB\")\n",
    "fr = enchant.Dict(\"fr_FR\")\n",
    "sp = enchant.Dict(\"es\")\n",
    "ger = enchant.Dict(\"de_DE\")\n",
    "\n",
    "from nltk.stem.snowball import SnowballStemmer\n",
    "stemmer = SnowballStemmer(\"english\")\n",
    "\n",
    "from nltk.corpus import stopwords\n",
    "stop_words = set(stopwords.words('english'))"
   ]
  },
  {
   "cell_type": "code",
   "execution_count": null,
   "metadata": {
    "collapsed": false
   },
   "outputs": [
    {
     "name": "stdout",
     "output_type": "stream",
     "text": [
      "/data/nearest_neighbor_tagging/nearest_neighbors/diagrams.pkl\n",
      "1\n",
      "1502\n",
      "[('drama', 12), ('perform', 12), ('domest', 8), ('fellow', 8), ('spring', 7), ('differ', 7), ('gown', 6), ('gold', 6), ('clapper', 6), ('shadow', 6), ('dynasti', 6), ('young', 6), ('nativ', 6), ('bit', 6), ('silk', 6), ('day', 6), ('endless', 6), ('wooden', 6), ('faintest', 6), ('spectat', 6)]\n",
      "2\n",
      "3727\n",
      "[('surfac', 11), ('direct', 10), ('line', 10), ('great', 9), ('part', 9), ('angl', 8), ('mine', 7), ('right', 7), ('name', 6), ('various', 6), ('instrument', 6), ('form', 6), ('origin', 5), ('ancient', 5), ('hand', 5), ('distanc', 5), ('long', 5), ('mass', 5), ('section', 4), ('glass', 4)]\n",
      "3\n",
      "2625\n",
      "[('side', 16), ('great', 14), ('consider', 12), ('mile', 11), ('rock', 11), ('reef', 10), ('island', 10), ('form', 10), ('origin', 9), ('differ', 9), ('local', 9), ('larg', 9), ('general', 9), ('action', 8), ('part', 8), ('various', 8), ('height', 8), ('coral', 8), ('portion', 8), ('mass', 8)]\n",
      "4\n",
      "2546\n",
      "[('great', 12), ('larg', 9), ('side', 8), ('inch', 8), ('small', 7), ('hand', 7), ('practic', 6), ('mine', 6), ('consider', 5), ('upper', 5), ('work', 5), ('good', 5), ('tool', 5), ('part', 5), ('hole', 5), ('pump', 5), ('certain', 5), ('assay', 4), ('use', 4), ('ordinari', 4)]\n",
      "5\n",
      "3936\n",
      "[('distanc', 10), ('work', 8), ('place', 8), ('great', 8), ('direct', 7), ('part', 7), ('water', 7), ('sight', 7), ('section', 6), ('height', 6), ('thick', 6), ('station', 6), ('horizont', 6), ('metal', 6), ('point', 6), ('princip', 6), ('larg', 6), ('line', 6), ('intermedi', 5), ('fall', 5)]\n",
      "6\n",
      "1256\n",
      "[('song', 23), ('young', 5), ('fair', 5), ('bonni', 5), ('cruel', 5), ('ala', 4), ('gang', 4), ('past', 4), ('court', 4), ('green', 4), ('thee', 4), ('john', 4), ('show', 4), ('thou', 4), ('father', 3), ('lord', 3), ('full', 3), ('love', 3), ('till', 3), ('bless', 3)]\n",
      "7\n",
      "1498\n",
      "[('music', 13), ('poetri', 12), (\"o'er\", 7), ('chain', 4), ('children', 4), ('natur', 4), ('section', 4), ('law', 4), ('dream', 4), ('name', 4), ('john', 4), ('manufactur', 4), ('lament', 4), ('couplet', 4), ('touch', 4), ('languag', 4), ('soft', 4), ('lectur', 4), ('heaven', 3), ('tear', 3)]\n",
      "8\n",
      "3757\n",
      "[('great', 7), ('head', 6), ('natur', 5), ('place', 5), ('citi', 5), ('coin', 5), ('local', 5), ('import', 5), ('small', 4), ('town', 4), ('histori', 4), ('term', 4), ('ancient', 4), ('charact', 4), ('lion', 4), ('various', 4), ('roman', 4), ('whole', 4), ('coloni', 4), ('princip', 4)]\n",
      "9\n",
      "3757\n",
      "[('great', 7), ('head', 6), ('natur', 5), ('place', 5), ('citi', 5), ('coin', 5), ('local', 5), ('import', 5), ('small', 4), ('town', 4), ('histori', 4), ('term', 4), ('ancient', 4), ('charact', 4), ('lion', 4), ('various', 4), ('roman', 4), ('whole', 4), ('coloni', 4), ('princip', 4)]\n",
      "10\n",
      "3791\n",
      "[('posit', 15), ('point', 15), ('parallel', 13), ('differ', 12), ('meridian', 11), ('angl', 10), ('line', 10), ('obliqu', 9), ('surfac', 9), ('side', 9), ('circl', 9), ('direct', 8), ('plane', 8), ('correspond', 8), ('diamet', 7), ('motion', 7), ('part', 7), ('entir', 7), ('form', 7), ('polar', 7)]\n",
      "11\n",
      "3230\n",
      "[('part', 9), ('point', 7), ('great', 6), ('surfac', 6), ('larg', 6), ('time', 6), ('consider', 5), ('differ', 5), ('mountain', 5), ('rout', 5), ('whole', 5), ('general', 5), ('forc', 5), ('mass', 5), ('mile', 4), ('disturb', 4), ('direct', 4), ('histori', 4), ('earth', 4), ('result', 4)]\n",
      "12\n",
      "2079\n",
      "[('great', 9), ('small', 7), ('present', 7), ('part', 6), ('import', 6), ('time', 6), ('valu', 5), ('histori', 5), ('good', 5), ('york', 5), ('mine', 5), ('ship', 5), ('explos', 4), ('nation', 4), ('statist', 4), ('result', 4), ('world', 4), ('industri', 4), ('long', 4), ('compani', 3)]\n",
      "13\n",
      "3546\n",
      "[('construct', 7), ('bottom', 7), ('part', 6), ('grand', 6), ('point', 6), ('larg', 6), ('upper', 5), ('door', 5), ('inch', 5), ('wooden', 4), ('water', 4), ('vertic', 4), ('great', 4), ('size', 4), ('san', 4), ('bell', 4), ('piec', 4), ('machin', 4), ('encor', 4), ('fort', 4)]\n",
      "14\n",
      "1266\n",
      "[('angl', 19), ('perpendicular', 18), ('base', 15), ('miner', 10), ('right', 10), ('exampl', 9), ('line', 8), ('length', 8), ('proper', 8), ('form', 8), ('similar', 8), ('face', 7), ('structur', 7), ('layer', 7), ('parallel', 6), ('origin', 6), ('part', 6), ('horizont', 6), ('tabl', 6), ('extrem', 5)]\n",
      "15\n",
      "2963\n",
      "[('form', 10), ('small', 9), ('great', 9), ('vertic', 8), ('differ', 8), ('part', 8), ('mass', 8), ('direct', 7), ('angl', 7), ('long', 7), ('point', 7), ('upper', 6), ('larg', 6), ('number', 5), ('feet', 5), ('horizont', 5), ('quantiti', 5), ('central', 5), ('various', 5), ('head', 5)]\n",
      "16\n",
      "3149\n",
      "[('rock', 10), ('relat', 7), ('format', 7), ('part', 6), ('granit', 6), ('composit', 5), ('place', 5), ('differ', 5), ('charact', 5), ('plan', 5), ('bed', 5), ('period', 5), ('miner', 5), ('form', 5), ('mass', 5), ('crust', 4), ('modif', 4), ('great', 4), ('substanc', 4), ('intrus', 4)]\n",
      "17\n",
      "3305\n",
      "[('metal', 8), ('larg', 8), ('small', 7), ('work', 6), ('differ', 6), ('furnac', 6), ('acid', 5), ('water', 5), ('great', 5), ('oper', 5), ('part', 5), ('wood', 5), ('inch', 5), ('wall', 5), ('assay', 4), ('upper', 4), ('section', 4), ('method', 4), ('amount', 4), ('retort', 4)]\n",
      "18\n",
      "3018\n",
      "[('larg', 14), ('mass', 14), ('part', 13), ('rock', 11), ('form', 10), ('deposit', 9), ('distanc', 9), ('granit', 9), ('vein', 9), ('level', 8), ('small', 8), ('bodi', 8), ('great', 8), ('angl', 8), ('differ', 8), ('cubic', 8), ('similar', 8), ('general', 8), ('natur', 7), ('vertic', 7)]\n",
      "19\n",
      "2879\n",
      "[('upper', 13), ('inch', 13), ('small', 12), ('distanc', 12), ('larg', 11), ('plane', 10), ('angl', 10), ('metal', 10), ('line', 10), ('side', 9), ('length', 9), ('part', 9), ('shaft', 9), ('vertic', 8), ('great', 8), ('high', 8), ('tunnel', 8), ('good', 7), ('differ', 7), ('steel', 7)]\n",
      "20\n",
      "2342\n",
      "[('part', 8), ('small', 7), ('great', 7), ('side', 7), ('mountain', 6), ('river', 6), ('land', 6), ('hemispher', 5), ('direct', 5), ('pass', 5), ('kind', 5), ('coast', 5), ('eastern', 5), ('ocean', 5), ('line', 5), ('mile', 4), ('magnet', 4), ('work', 4), ('pacif', 4), ('water', 4)]\n",
      "21\n",
      "2513\n",
      "[('long', 8), ('mass', 6), ('mile', 5), ('great', 5), ('white', 5), ('coast', 5), ('larg', 5), ('road', 5), ('narrow', 4), ('peopl', 4), ('southern', 4), ('beauti', 4), ('para', 4), ('part', 4), ('clear', 4), ('fine', 4), ('ground', 4), ('view', 4), ('seat', 4), ('northward', 4)]\n",
      "22\n",
      "2499\n",
      "[('differ', 9), ('great', 8), ('present', 7), ('small', 7), ('mine', 7), ('distanc', 7), ('form', 7), ('proport', 7), ('squar', 6), ('consider', 5), ('high', 5), ('work', 5), ('surfac', 5), ('ordinari', 5), ('angl', 5), ('ground', 5), ('wale', 5), ('pillar', 5), ('miner', 5), ('larg', 5)]\n",
      "23\n",
      "3803\n",
      "[('great', 9), ('round', 7), ('differ', 7), ('squar', 7), ('form', 7), ('mile', 6), ('side', 6), ('palac', 6), ('park', 6), ('build', 6), ('chamber', 6), ('larg', 6), ('consider', 5), ('compani', 5), ('hous', 5), ('hill', 5), ('forti', 5), ('angl', 5), ('station', 5), ('whole', 5)]\n",
      "24\n",
      "3420\n",
      "[('work', 13), ('small', 10), ('great', 9), ('general', 9), ('hous', 8), ('side', 8), ('fine', 8), ('whole', 8), ('wall', 8), ('church', 8), ('larg', 7), ('high', 7), ('part', 7), ('hand', 7), ('furnac', 7), ('full', 6), ('base', 6), ('build', 6), ('metal', 6), ('result', 6)]\n",
      "25\n",
      "2911\n",
      "[('great', 9), ('part', 9), ('wall', 9), ('larg', 9), ('time', 8), ('origin', 7), ('long', 7), ('small', 6), ('round', 6), ('work', 6), ('mine', 6), ('certain', 6), ('upper', 5), ('good', 5), ('build', 5), ('church', 5), ('form', 5), ('inclin', 4), ('method', 4), ('water', 4)]\n",
      "26\n",
      "2929\n",
      "[('part', 14), ('motion', 11), ('posit', 11), ('great', 10), ('meridian', 10), ('circl', 10), ('point', 10), ('small', 9), ('surfac', 9), ('vertic', 9), ('angl', 8), ('screw', 8), ('axi', 8), ('opposit', 8), ('time', 8), ('rise', 7), ('upper', 7), ('direct', 7), ('place', 7), ('differ', 7)]\n",
      "27\n",
      "2225\n",
      "[('great', 8), ('side', 7), ('open', 5), ('slag', 5), ('wall', 5), ('furnac', 5), ('consider', 4), ('small', 4), ('method', 4), ('smelter', 4), ('work', 4), ('mark', 4), ('joint', 4), ('portrait', 4), ('cross', 4), ('larg', 4), ('smelt', 4), ('roof', 3), ('full', 3), ('room', 3)]\n",
      "28\n",
      "4912\n",
      "[('circl', 13), ('differ', 11), ('length', 10), ('point', 9), ('condit', 9), ('zone', 8), ('autumn', 8), ('angl', 8), ('geographi', 8), ('whole', 8), ('period', 8), ('dark', 8), ('hemispher', 7), ('vertic', 7), ('great', 7), ('henc', 7), ('number', 7), ('system', 7), ('physic', 7), ('latitud', 7)]\n",
      "29\n",
      "3727\n",
      "[('great', 6), ('small', 4), ('full', 4), ('beauti', 4), ('offic', 4), ('heavi', 4), ('long', 4), ('part', 4), ('john', 4), ('charact', 4), ('fear', 4), ('bodi', 4), ('hand', 4), ('larg', 4), ('similar', 4), ('general', 4), ('consider', 3), ('natur', 3), ('street', 3), ('movement', 3)]\n",
      "30\n",
      "1141\n",
      "[('drama', 12), ('perform', 12), ('domest', 8), ('fellow', 8), ('gown', 6), ('gold', 6), ('clapper', 6), ('shadow', 6), ('dynasti', 6), ('young', 6), ('nativ', 6), ('bit', 6), ('silk', 6), ('day', 6), ('endless', 6), ('wooden', 6), ('faintest', 6), ('spectat', 6), ('spring', 6), ('ardent', 6)]\n",
      "31\n",
      "1940\n",
      "[('small', 6), ('song', 5), ('geolog', 5), ('ground', 5), ('level', 4), ('method', 4), ('vertic', 4), ('amount', 4), ('room', 4), ('stream', 4), ('angl', 4), ('differ', 4), ('atmospher', 4), ('mountain', 4), ('solut', 4), ('water', 4), ('whole', 4), ('basin', 4), ('usual', 4), ('larg', 4)]\n",
      "32\n",
      "5359\n",
      "[('part', 21), ('great', 14), ('river', 13), ('general', 12), ('white', 11), ('land', 11), ('small', 10), ('number', 10), ('larg', 10), ('northern', 10), ('water', 9), ('product', 9), ('southern', 9), ('differ', 9), ('numer', 9), ('whole', 9), ('side', 8), ('countri', 8), ('time', 8), ('upper', 8)]\n",
      "33\n",
      "2490\n",
      "[('larg', 9), ('small', 8), ('great', 8), ('part', 8), ('fine', 8), ('hous', 7), ('plate', 7), ('wall', 7), ('charg', 7), ('water', 6), ('amount', 6), ('work', 6), ('surfac', 6), ('bleach', 6), ('hall', 6), ('feet', 6), ('barrel', 6), ('temperatur', 6), ('chlorin', 6), ('time', 6)]\n",
      "34\n",
      "2933\n",
      "[('small', 7), ('upper', 7), ('part', 7), ('great', 6), ('hous', 6), ('interest', 6), ('inch', 6), ('complet', 6), ('larg', 6), ('water', 5), ('high', 5), ('open', 5), ('posit', 5), ('pipe', 5), ('whole', 5), ('materi', 5), ('furnac', 5), ('time', 5), ('articl', 4), ('manner', 4)]\n",
      "35\n",
      "3002\n",
      "[('small', 10), ('furnac', 10), ('shaft', 7), ('upper', 7), ('direct', 7), ('fig', 7), ('differ', 7), ('mine', 7), ('bottom', 7), ('form', 7), ('work', 6), ('main', 6), ('side', 6), ('pipe', 6), ('opposit', 6), ('various', 6), ('great', 6), ('distanc', 6), ('larg', 6), ('heat', 6)]\n",
      "36\n",
      "2116\n",
      "[('line', 12), ('great', 11), ('high', 9), ('system', 8), ('shaft', 8), ('larg', 8), ('side', 8), ('general', 8), ('small', 7), ('mine', 7), ('water', 6), ('valv', 6), ('doubl', 6), ('ordinari', 6), ('rock', 6), ('engin', 6), ('quantiti', 6), ('whole', 6), ('land', 6), ('similar', 6)]\n",
      "37\n",
      "4458\n",
      "[('rock', 15), ('differ', 13), ('great', 11), ('portion', 11), ('geolog', 10), ('sandston', 10), ('part', 10), ('form', 10), ('bed', 9), ('various', 9), ('larg', 9), ('mass', 9), ('upper', 8), ('natur', 8), ('relat', 8), ('miner', 8), ('certain', 8), ('section', 7), ('distinct', 7), ('thick', 7)]\n",
      "38\n",
      "4035\n",
      "[('rock', 25), ('great', 16), ('sandston', 15), ('geolog', 14), ('part', 14), ('volcan', 13), ('origin', 13), ('differ', 13), ('bed', 13), ('similar', 13), ('section', 12), ('thick', 12), ('form', 12), ('volcano', 11), ('earth', 11), ('upper', 10), ('crust', 10), ('strata', 10), ('place', 10), ('posit', 10)]\n",
      "39\n",
      "3794\n",
      "[('parallel', 19), ('meridian', 18), ('form', 7), ('muss', 7), ('similar', 6), ('radius', 5), ('direct', 4), ('length', 4), ('origin', 4), ('grade', 4), ('number', 4), ('brick', 4), ('point', 4), ('object', 4), ('face', 4), ('quadrant', 4), ('invent', 3), ('right', 3), ('stet', 3), ('pole', 3)]\n",
      "40\n",
      "2439\n",
      "[('differ', 5), ('great', 5), ('line', 5), ('good', 4), ('point', 4), ('larg', 3), ('inclin', 3), ('upper', 3), ('blue', 3), ('proceed', 3), ('name', 3), ('place', 3), ('system', 3), ('fine', 3), ('state', 3), ('experi', 3), ('observ', 3), ('earli', 3), ('dark', 3), ('right', 3)]\n",
      "41\n",
      "1175\n",
      "[('part', 8), ('small', 6), ('form', 4), ('line', 4), ('geograph', 3), ('great', 3), ('town', 3), ('high', 3), ('southern', 3), ('bank', 3), ('rock', 3), ('regular', 3), ('northern', 3), ('secretari', 3), ('river', 3), ('point', 3), ('interest', 3), ('cross', 3), ('larg', 3), ('long', 3)]\n",
      "42\n",
      "1444\n",
      "[('song', 20), ('water', 6), ('blue', 4), ('hous', 4), ('heart', 4), ('coat', 4), ('good', 4), ('thing', 4), ('fair', 4), (\"e'er\", 4), ('wife', 4), ('milk', 3), ('scold', 3), ('lord', 3), ('brave', 3), ('hors', 3), ('father', 3), ('angri', 3), ('pint', 3), ('stoup', 3)]\n",
      "43\n",
      "2064\n",
      "[('pipe', 11), ('furnac', 11), ('small', 8), ('fig', 8), ('feet', 7), ('open', 7), ('larg', 7), ('section', 6), ('retort', 6), ('separ', 6), ('product', 6), ('consider', 5), ('metallurgi', 5), ('shaft', 5), ('muffl', 5), ('water', 5), ('good', 5), ('mine', 5), ('cast-iron', 5), ('flue', 5)]\n",
      "44\n",
      "4414\n",
      "[('great', 15), ('time', 12), ('type', 9), ('centuri', 9), ('present', 8), ('monument', 8), ('rock', 7), ('year', 7), ('feet', 6), ('ancient', 6), ('part', 6), ('pharaoh', 6), ('fine', 6), ('exampl', 6), ('head', 6), ('mass', 6), ('consider', 5), ('dynasti', 5), ('upper', 5), ('famili', 5)]\n",
      "45\n",
      "3954\n",
      "[('great', 11), ('larg', 10), ('long', 8), ('part', 8), ('land', 8), ('small', 7), ('bodi', 7), ('differ', 7), ('ancient', 7), ('charact', 7), ('form', 7), ('portion', 7), ('good', 6), ('modern', 6), ('fine', 6), ('similar', 6), ('certain', 6), ('general', 6), ('upper', 5), ('speci', 5)]\n",
      "46\n",
      "1305\n",
      "[('song', 18), ('thou', 5), ('life', 5), ('young', 4), ('high', 4), ('court', 4), ('thee', 4), ('charm', 4), ('lord', 3), ('past', 3), ('daughter', 3), ('meet', 3), ('heart', 3), ('till', 3), ('maid', 3), ('good', 3), ('john', 3), ('mine', 3), ('fair', 3), ('countri', 3)]\n",
      "47\n",
      "3023\n",
      "[('great', 7), ('larg', 6), ('small', 5), ('water', 5), ('distanc', 5), ('road', 5), ('land', 5), ('mile', 4), ('sand', 4), ('upper', 4), ('peopl', 4), ('work', 4), ('forest', 4), ('good', 4), ('rock', 4), ('hard', 4), ('place', 4), ('differ', 4), ('white', 4), ('manufactur', 4)]\n",
      "48\n",
      "2195\n",
      "[('small', 6), ('great', 6), ('good', 6), ('miner', 5), ('thing', 5), ('shore', 5), ('river', 5), ('territori', 5), ('lake', 5), ('missionari', 4), ('peopl', 4), ('villag', 4), ('return', 4), ('venom', 4), ('john', 4), ('chief', 4), ('larg', 4), ('sheik', 4), ('northern', 4), ('region', 4)]\n",
      "49\n",
      "4623\n",
      "[('point', 13), ('grand', 11), ('form', 9), ('nous', 8), ('terrain', 8), ('surfac', 7), ('thick', 7), ('figur', 7), ('encor', 7), ('great', 6), ('mine', 6), ('portion', 6), ('direct', 5), ('section', 5), ('relat', 5), ('main', 5), ('differ', 5), ('trace', 5), ('marin', 5), ('milieu', 5)]\n",
      "50\n",
      "5260\n"
     ]
    }
   ],
   "source": [
    "image_to_top_words = {}\n",
    "nearest_image_files = glob.glob(\"/data/nearest_neighbor_tagging/nearest_neighbors/*.pkl\")\n",
    "ctr = 0\n",
    "\n",
    "for fn in nearest_image_files:\n",
    "    print fn\n",
    "    idx_to_neighbors = pickle.load(open(fn, 'r'))\n",
    "    for idx in idx_to_neighbors:\n",
    "        ctr += 1\n",
    "        print ctr\n",
    "        if ctr % 10000 == 0: print ctr\n",
    "            \n",
    "        # get words from all neighbors\n",
    "        all_words = list(idx_to_noun_phrases[idx])\n",
    "        for neighbor in idx_to_neighbors[idx]:\n",
    "            all_words.extend(idx_to_noun_phrases[neighbor[0]])  # neighbor = (idx, score)\n",
    "        print len(all_words)\n",
    "\n",
    "        # check for mispellings, stopwords, etc and stem the word\n",
    "        all_words_pared = []\n",
    "        for word in all_words:\n",
    "            #print word\n",
    "            if eng.check(word):  # spelled correctly\n",
    "                if word in stop_words: continue\n",
    "                all_words_pared.append(str(stemmer.stem(word)))\n",
    "            else:  # take the top ranked suggestion\n",
    "                try:\n",
    "                    new_word = br.suggest(word)[0].lower()\n",
    "                    new_score = enchant.utils.levenshtein(word, br_word)\n",
    "                    if new_score > 3: continue  # too far away\n",
    "                except:\n",
    "                    continue  # if there are no suggestions from the English dictionary, the word is probably malformed\n",
    "                if new_word in stop_words: continue \n",
    "                    \n",
    "                # other languages\n",
    "                if fr.check(word) or ger.check(word) or sp.check(word): continue\n",
    "\n",
    "                all_words_pared.append(str(stemmer.stem(new_word)))\n",
    "                \n",
    "        final_tags = Counter(all_words_pared).most_common(20)\n",
    "        image_to_top_words[idx] = final_tags\n",
    "        print final_tags\n",
    "    break"
   ]
  },
  {
   "cell_type": "code",
   "execution_count": 188,
   "metadata": {
    "collapsed": false
   },
   "outputs": [],
   "source": [
    "def process(word):\n",
    "    if eng.check(word) or br.check(word):  # spelled correctly\n",
    "        if word in stop_words: \n",
    "            return\n",
    "    else:  # take the top ranked suggestion\n",
    "        try:\n",
    "            new_word = br.suggest(word)[0].lower()\n",
    "            new_score = enchant.utils.levenshtein(word, new_word)\n",
    "#             eng_word = eng.suggest(word)[0].lower()\n",
    "#             eng_score = enchant.utils.levenshtein(word, eng_word)\n",
    "            \n",
    "#             br_word = br.suggest(word)[0].lower()\n",
    "#             br_score = enchant.utils.levenshtein(word, br_word)\n",
    "            \n",
    "#             if eng_score < br_score:\n",
    "#                 new_word = eng_word\n",
    "#                 new_score = eng_score\n",
    "#             else:\n",
    "#                 new_word = br_word\n",
    "#                 new_score = br_score\n",
    "                \n",
    "#             print new_word, new_score\n",
    "        except:\n",
    "            return  # if there are no suggestions from the English dictionary, the word is probably malformed\n",
    "        if new_word in stop_words: return \n",
    "\n",
    "        # other languages\n",
    "        if fr.check(word) or ger.check(word) or sp.check(word): return\n",
    "        print new_word\n",
    "        \n",
    "#         try:\n",
    "#             fr_word = fr.suggest(word)[0].lower()\n",
    "#             fr_score = enchant.utils.levenshtein(word, fr_word)\n",
    "#             print fr_word, fr_score\n",
    "#             if fr_score < new_score: return  # don't worry about this word\n",
    "#         except: pass\n",
    "\n",
    "#         try:\n",
    "#             ger_word = ger.suggest(word)[0].lower()\n",
    "#             ger_score = enchant.utils.levenshtein(word, ger_word)\n",
    "#             print ger_word, ger_score\n",
    "#             if ger_score < new_score: return\n",
    "#         except: pass\n",
    "\n",
    "#         try:\n",
    "#             sp_word = sp.suggest(word)[0].lower()\n",
    "#             sp_score = enchant.utils.levenshtein(word, sp_word)\n",
    "#             print sp_word, sp_score\n",
    "#             if sp_score < new_score: return  \n",
    "#         except: pass"
   ]
  },
  {
   "cell_type": "code",
   "execution_count": 189,
   "metadata": {
    "collapsed": false
   },
   "outputs": [
    {
     "name": "stdout",
     "output_type": "stream",
     "text": [
      "berliner\n",
      "CPU times: user 1.81 ms, sys: 0 ns, total: 1.81 ms\n",
      "Wall time: 1.45 ms\n"
     ]
    }
   ],
   "source": [
    "%time process(\"berliner\")"
   ]
  },
  {
   "cell_type": "code",
   "execution_count": 192,
   "metadata": {
    "collapsed": false
   },
   "outputs": [
    {
     "data": {
      "text/plain": [
       "1"
      ]
     },
     "execution_count": 192,
     "metadata": {},
     "output_type": "execute_result"
    }
   ],
   "source": [
    "enchant.utils.levenshtein(\"berliner\", \"Berliner\")"
   ]
  },
  {
   "cell_type": "code",
   "execution_count": 187,
   "metadata": {
    "collapsed": false
   },
   "outputs": [
    {
     "name": "stdout",
     "output_type": "stream",
     "text": [
      "CPU times: user 55 ms, sys: 0 ns, total: 55 ms\n",
      "Wall time: 54.5 ms\n"
     ]
    },
    {
     "data": {
      "text/plain": [
       "['Berliner', 'Berlin', 'bilinear']"
      ]
     },
     "execution_count": 187,
     "metadata": {},
     "output_type": "execute_result"
    }
   ],
   "source": [
    "%time eng.suggest(\"berliner\")"
   ]
  },
  {
   "cell_type": "markdown",
   "metadata": {},
   "source": [
    "## Cleaning up set of noun phrases"
   ]
  }
 ],
 "metadata": {
  "kernelspec": {
   "display_name": "Python 2",
   "language": "python",
   "name": "python2"
  },
  "language_info": {
   "codemirror_mode": {
    "name": "ipython",
    "version": 2
   },
   "file_extension": ".py",
   "mimetype": "text/x-python",
   "name": "python",
   "nbconvert_exporter": "python",
   "pygments_lexer": "ipython2",
   "version": "2.7.6"
  }
 },
 "nbformat": 4,
 "nbformat_minor": 0
}
