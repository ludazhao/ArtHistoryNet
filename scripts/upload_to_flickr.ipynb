{
 "cells": [
  {
   "cell_type": "markdown",
   "metadata": {},
   "source": [
    "# Upload to flickr"
   ]
  },
  {
   "cell_type": "code",
   "execution_count": 9,
   "metadata": {
    "collapsed": false
   },
   "outputs": [
    {
     "name": "stdout",
     "output_type": "stream",
     "text": [
      "The autoreload extension is already loaded. To reload it, use:\n",
      "  %reload_ext autoreload\n"
     ]
    }
   ],
   "source": [
    "import os.path\n",
    "import re\n",
    "import sys\n",
    "import tarfile\n",
    "import time\n",
    "import multiprocessing as mp\n",
    "import itertools\n",
    "from collections import Counter\n",
    "\n",
    "import tensorflow.python.platform\n",
    "from six.moves import urllib\n",
    "import numpy as np\n",
    "import tensorflow as tf\n",
    "import h5py\n",
    "import glob\n",
    "import cPickle as pickle\n",
    "import matplotlib as mpl\n",
    "import matplotlib.pyplot as plt\n",
    "import matplotlib.image as mpimg\n",
    "from tensorflow.python.platform import gfile\n",
    "import collections\n",
    "\n",
    "from run_inference import predict_star, predict\n",
    "import pandas as pd\n",
    "import seaborn as sns\n",
    "\n",
    "%matplotlib inline\n",
    "%load_ext autoreload\n",
    "%autoreload 2"
   ]
  },
  {
   "cell_type": "code",
   "execution_count": null,
   "metadata": {
    "collapsed": true
   },
   "outputs": [],
   "source": [
    "# need to map the 20 nearest neighbors also"
   ]
  },
  {
   "cell_type": "markdown",
   "metadata": {},
   "source": [
    "## Login and example of using Flickr API"
   ]
  },
  {
   "cell_type": "code",
   "execution_count": 12,
   "metadata": {
    "collapsed": true
   },
   "outputs": [],
   "source": [
    "import flickrapi"
   ]
  },
  {
   "cell_type": "code",
   "execution_count": 39,
   "metadata": {
    "collapsed": false
   },
   "outputs": [],
   "source": [
    "api_key = u'3fd904198236c855140fb804a819dcab'\n",
    "api_secret = u'e943b596588106ff'\n",
    "\n",
    "flickr = flickrapi.FlickrAPI(api_key, api_secret, format='json')\n",
    "if not flickr.token_valid(perms=u'write'):\n",
    "\n",
    "    # Get a request token\n",
    "    flickr.get_request_token(oauth_callback='oob')\n",
    "\n",
    "    # Open a browser at the authentication URL. Do this however\n",
    "    # you want, as long as the user visits that URL.\n",
    "    authorize_url = flickr.auth_url(perms=u'write')\n",
    "    print authorize_url \n",
    "    \n",
    "    # Get the verifier code from the user. Do this however you\n",
    "    # want, as long as the user gives the application the code.\n",
    "    verifier = unicode(raw_input('Verifier code: '))\n",
    "\n",
    "    # Trade the request token for an access token\n",
    "    flickr.get_access_token(verifier)"
   ]
  },
  {
   "cell_type": "code",
   "execution_count": 62,
   "metadata": {
    "collapsed": false
   },
   "outputs": [
    {
     "data": {
      "text/plain": [
       "'{\"tags\":{\"tag\":[{\"author\":\"12403504@N02\",\"raw\":\"metal\",\"machine_tag\":0,\"_content\":\"metal\",\"authorname\":\"The British Library\",\"full_tag_id\":\"12383156-11303139385-1042\",\"id\":\"1042\"}]},\"stat\":\"ok\"}'"
      ]
     },
     "execution_count": 62,
     "metadata": {},
     "output_type": "execute_result"
    }
   ],
   "source": [
    "flickr.photos.addTags(photo_id=11303139385, tags=\"metal\")"
   ]
  },
  {
   "cell_type": "code",
   "execution_count": 43,
   "metadata": {
    "collapsed": false
   },
   "outputs": [
    {
     "data": {
      "text/plain": [
       "'{\"stat\":\"ok\"}'"
      ]
     },
     "execution_count": 43,
     "metadata": {},
     "output_type": "execute_result"
    }
   ],
   "source": [
    "flickr.photos.removeTag(photo_id=11303139385, tag_id=\"12383156-11303139385-335238\")"
   ]
  },
  {
   "cell_type": "code",
   "execution_count": 55,
   "metadata": {
    "collapsed": false
   },
   "outputs": [
    {
     "name": "stdout",
     "output_type": "stream",
     "text": [
      "{\"photo\":{\"id\":\"11303139385\",\"tags\":{\"tag\":[{\"id\":\"12383156-11303139385-137769045\",\"author\":\"12403504@N02\",\"authorname\":\"The British Library\",\"raw\":\"bldigital\",\"_content\":\"bldigital\",\"machine_tag\":false},{\"id\":\"12383156-11303139385-150790816\",\"author\":\"12403504@N02\",\"authorname\":\"The British Library\",\"raw\":\"date:1895\",\"_content\":\"date1895\",\"machine_tag\":false},{\"id\":\"12383156-11303139385-147784745\",\"author\":\"12403504@N02\",\"authorname\":\"The British Library\",\"raw\":\"pubplace:New York & London\",\"_content\":\"pubplacenewyorklondon\",\"machine_tag\":false},{\"id\":\"12383156-11303139385-136904\",\"author\":\"12403504@N02\",\"authorname\":\"The British Library\",\"raw\":\"public_domain\",\"_content\":\"publicdomain\",\"machine_tag\":false},{\"id\":\"12383156-11303139385-163219536\",\"author\":\"12403504@N02\",\"authorname\":\"The British Library\",\"raw\":\"sysnum:002884871\",\"_content\":\"sysnum002884871\",\"machine_tag\":false},{\"id\":\"12383156-11303139385-162949425\",\"author\":\"12403504@N02\",\"authorname\":\"The British Library\",\"raw\":\"PETERS, Edward Dyer.\",\"_content\":\"petersedwarddyer\",\"machine_tag\":false},{\"id\":\"12383156-11303139385-20924\",\"author\":\"12403504@N02\",\"authorname\":\"The British Library\",\"raw\":\"medium\",\"_content\":\"medium\",\"machine_tag\":false},{\"id\":\"12383156-11303139385-21849367\",\"author\":\"12403504@N02\",\"authorname\":\"The British Library\",\"raw\":\"vol:0\",\"_content\":\"vol0\",\"machine_tag\":false},{\"id\":\"12383156-11303139385-49501814\",\"author\":\"12403504@N02\",\"authorname\":\"The British Library\",\"raw\":\"page:360\",\"_content\":\"page360\",\"machine_tag\":false},{\"id\":\"12383156-11303139385-316817865\",\"author\":\"96003088@N08\",\"authorname\":\"thedodo101\",\"raw\":\"sherlocknet:tag=copper\",\"_content\":\"sherlocknet:tag=copper\",\"machine_tag\":true},{\"id\":\"12383156-11303139385-316817885\",\"author\":\"96003088@N08\",\"authorname\":\"thedodo101\",\"raw\":\"sherlocknet:tag=smelting\",\"_content\":\"sherlocknet:tag=smelting\",\"machine_tag\":true},{\"id\":\"12383156-11303139385-17112\",\"author\":\"96003088@N08\",\"authorname\":\"thedodo101\",\"raw\":\"copper\",\"_content\":\"copper\",\"machine_tag\":false},{\"id\":\"12383156-11303139385-335238\",\"author\":\"96003088@N08\",\"authorname\":\"thedodo101\",\"raw\":\"smelting\",\"_content\":\"smelting\",\"machine_tag\":false}]}},\"stat\":\"ok\"}\n"
     ]
    }
   ],
   "source": [
    "print flickr.tags.getListPhoto(photo_id=11303139385)"
   ]
  },
  {
   "cell_type": "markdown",
   "metadata": {},
   "source": [
    "## Adding tags"
   ]
  },
  {
   "cell_type": "code",
   "execution_count": 10,
   "metadata": {
    "collapsed": true
   },
   "outputs": [],
   "source": [
    "# mapping from index to category\n",
    "(image_metadata, book_metadata, image_to_idx) = pickle.load(open(\"/data/all_metadata_1M_tags.pkl\", 'r'))"
   ]
  },
  {
   "cell_type": "code",
   "execution_count": 11,
   "metadata": {
    "collapsed": false
   },
   "outputs": [
    {
     "data": {
      "text/plain": [
       "970218"
      ]
     },
     "execution_count": 11,
     "metadata": {},
     "output_type": "execute_result"
    }
   ],
   "source": [
    "# mapping from index to URL\n",
    "(idx_to_url, blid_to_url) = pickle.load(open(\"/data/image_to_url_mappings.pkl\"))\n",
    "len(idx_to_url.keys())"
   ]
  },
  {
   "cell_type": "code",
   "execution_count": null,
   "metadata": {
    "collapsed": false
   },
   "outputs": [
    {
     "name": "stdout",
     "output_type": "stream",
     "text": [
      "diagrams\n",
      "0\n"
     ]
    }
   ],
   "source": [
    "tag_files = glob.glob(\"/data/nearest_neighbor_tagging/tags/*_final.pkl\")\n",
    "for fn in tag_files:\n",
    "    category = os.path.basename(fn)[:-10]\n",
    "    if category == \"people\" or category == \"animals\":\n",
    "        category = \"mammal\"\n",
    "        continue\n",
    "    print category\n",
    "    \n",
    "    img_to_tag = pickle.load(open(fn, 'r'))\n",
    "    ctr = 0\n",
    "    for img in img_to_tag:\n",
    "        if ctr % 2000 == 0: print ctr\n",
    "        ctr += 1\n",
    "        flickr_id = int(idx_to_url[img])\n",
    "        our_tags = ', '.join([\"sherlocknet:tag=\\\"{}\\\"\".format(tag[0]) for tag in img_to_tag[img]])\n",
    "        our_tags = our_tags + ', sherlocknet:category=\\\"{}\\\"'.format(category)\n",
    "        flickr.photos.addTags(photo_id=flickr_id, tags=our_tags)\n",
    "    break\n"
   ]
  },
  {
   "cell_type": "code",
   "execution_count": 30,
   "metadata": {
    "collapsed": false
   },
   "outputs": [
    {
     "name": "stdout",
     "output_type": "stream",
     "text": [
      "Verifier code: 2-3\n",
      "2-3\n"
     ]
    }
   ],
   "source": [
    "verifier = str(raw_input('Verifier code: '))\n",
    "print verifier"
   ]
  }
 ],
 "metadata": {
  "kernelspec": {
   "display_name": "Python 2",
   "language": "python",
   "name": "python2"
  },
  "language_info": {
   "codemirror_mode": {
    "name": "ipython",
    "version": 2
   },
   "file_extension": ".py",
   "mimetype": "text/x-python",
   "name": "python",
   "nbconvert_exporter": "python",
   "pygments_lexer": "ipython2",
   "version": "2.7.6"
  }
 },
 "nbformat": 4,
 "nbformat_minor": 0
}
