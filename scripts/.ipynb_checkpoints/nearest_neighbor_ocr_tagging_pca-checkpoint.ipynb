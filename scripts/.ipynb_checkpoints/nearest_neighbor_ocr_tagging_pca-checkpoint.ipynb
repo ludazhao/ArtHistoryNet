{
 "cells": [
  {
   "cell_type": "markdown",
   "metadata": {},
   "source": [
    "# Reducing score dimensionality and finding similar images"
   ]
  },
  {
   "cell_type": "code",
   "execution_count": 1,
   "metadata": {
    "collapsed": false
   },
   "outputs": [],
   "source": [
    "import os.path\n",
    "import re\n",
    "import sys\n",
    "import tarfile\n",
    "import time\n",
    "import multiprocessing as mp\n",
    "import itertools\n",
    "\n",
    "import tensorflow.python.platform\n",
    "from six.moves import urllib\n",
    "import numpy as np\n",
    "import tensorflow as tf\n",
    "import h5py\n",
    "import glob\n",
    "import cPickle as pickle\n",
    "import matplotlib as mpl\n",
    "import matplotlib.pyplot as plt\n",
    "import matplotlib.image as mpimg\n",
    "from tensorflow.python.platform import gfile\n",
    "import collections\n",
    "\n",
    "from run_inference import predict_star, predict\n",
    "import pandas as pd\n",
    "import seaborn as sns\n",
    "from sklearn.decomposition import PCA\n",
    "\n",
    "%matplotlib inline\n",
    "%load_ext autoreload\n",
    "%autoreload 2"
   ]
  },
  {
   "cell_type": "code",
   "execution_count": 2,
   "metadata": {
    "collapsed": false
   },
   "outputs": [],
   "source": [
    "# read in hdf5 file\n",
    "# image_hdf5 = h5py.File('/data/image_data.hdf5','r')\n",
    "(image_metadata, book_metadata, image_to_idx) = pickle.load(open(\"/data/all_metadata_1M_tags.pkl\", 'r'))"
   ]
  },
  {
   "cell_type": "code",
   "execution_count": 3,
   "metadata": {
    "collapsed": false
   },
   "outputs": [
    {
     "name": "stdout",
     "output_type": "stream",
     "text": [
      "[  3.11982818e-02   8.32416627e-05   5.60833097e-01   2.79666303e-04\n",
      "   8.79068300e-02   4.45149913e-02   1.96852779e-04   6.89041018e-02\n",
      "   5.22559458e-05   2.01110378e-01   3.77605017e-03   1.14434422e-03]\n",
      "0.560833096504\n"
     ]
    }
   ],
   "source": [
    "# read in scores\n",
    "# 'animals', 'nature', 'text', 'maps', 'people', 'seals', 'miniatures', \n",
    "# 'objects', 'architecture', 'decorations', 'landscapes', 'diagrams'\n",
    "scores_data = h5py.File('/data/all_scores_12class.hdf5','r')\n",
    "print scores_data[\"Chunk1\"][400]\n",
    "print np.max(scores_data[\"Chunk1\"][400])"
   ]
  },
  {
   "cell_type": "markdown",
   "metadata": {},
   "source": [
    "## Fixing the image_metadata"
   ]
  },
  {
   "cell_type": "code",
   "execution_count": 7,
   "metadata": {
    "collapsed": true
   },
   "outputs": [],
   "source": [
    "categories = ['animals', 'nature', 'text', 'maps', 'people', 'seals', 'miniatures', \\\n",
    "'objects', 'architecture', 'decorations', 'landscapes', 'diagrams']\n",
    "for idx in range(970000, 970218):\n",
    "    chk = idx/5000\n",
    "    i = idx % 5000\n",
    "    scores = scores_data[\"Chunk{}\".format(chk)][i]\n",
    "    image_metadata[idx][-1] = categories[np.argmax(scores)]"
   ]
  },
  {
   "cell_type": "code",
   "execution_count": 10,
   "metadata": {
    "collapsed": false
   },
   "outputs": [
    {
     "data": {
      "text/plain": [
       "['000733402_0_000003_1_', '1946', 'e', 'decorations']"
      ]
     },
     "execution_count": 10,
     "metadata": {},
     "output_type": "execute_result"
    }
   ],
   "source": [
    "image_metadata[970217]"
   ]
  },
  {
   "cell_type": "code",
   "execution_count": 12,
   "metadata": {
    "collapsed": false
   },
   "outputs": [],
   "source": [
    "pickle.dump((image_metadata, book_metadata, image_to_idx), open(\"/data/all_metadata_1M_tags.pkl\", 'w'))"
   ]
  },
  {
   "cell_type": "markdown",
   "metadata": {
    "collapsed": true
   },
   "source": [
    "## Make hdf5 file for all_scores_pool3"
   ]
  },
  {
   "cell_type": "code",
   "execution_count": 4,
   "metadata": {
    "collapsed": false
   },
   "outputs": [
    {
     "name": "stdout",
     "output_type": "stream",
     "text": [
      "[5000, 10000, 15000, 20000, 25000, 30000, 35000, 40000, 45000, 50000, 55000, 60000, 65000, 70000, 75000, 80000, 85000, 90000, 95000, 100000, 105000, 110000, 115000, 120000, 125000, 130000, 135000, 140000, 145000, 150000, 155000, 160000, 165000, 170000, 175000, 180000, 185000, 190000, 195000, 200000, 205000, 210000, 215000, 220000, 225000, 230000, 235000, 240000, 245000, 250000, 255000, 260000, 265000, 270000, 275000, 280000, 285000, 290000, 295000, 300000, 305000, 310000, 315000, 320000, 325000, 330000, 335000, 340000, 345000, 350000, 355000, 360000, 365000, 370000, 375000, 380000, 385000, 390000, 395000, 400000, 405000, 410000, 415000, 420000, 425000, 430000, 435000, 440000, 445000, 450000, 455000, 460000, 465000, 470000, 475000, 480000, 485000, 490000, 495000, 500000, 505000, 510000, 515000, 520000, 525000, 530000, 535000, 540000, 545000, 550000, 555000, 560000, 565000, 570000, 575000, 580000, 585000, 590000, 595000, 600000, 605000, 610000, 615000, 620000, 625000, 630000, 635000, 640000, 645000, 650000, 655000, 660000, 665000, 670000, 675000, 680000, 685000, 690000, 695000, 700000, 705000, 710000, 715000, 720000, 725000, 730000, 735000, 740000, 745000, 750000, 755000, 760000, 765000, 770000, 775000, 780000, 785000, 790000, 795000, 800000, 805000, 810000, 815000, 820000, 825000, 830000, 835000, 840000, 845000, 850000, 855000, 860000, 865000, 870000, 875000, 880000, 885000, 890000, 895000, 900000, 905000, 910000, 915000, 920000, 925000, 930000, 935000, 940000, 945000, 950000, 955000, 960000, 965000, 970000, 970217]\n"
     ]
    }
   ],
   "source": [
    "indices = range(0, 970217, 5000)[1:]\n",
    "indices.append(970217)\n",
    "print indices"
   ]
  },
  {
   "cell_type": "code",
   "execution_count": 5,
   "metadata": {
    "collapsed": false
   },
   "outputs": [
    {
     "name": "stdout",
     "output_type": "stream",
     "text": [
      "[0, 1, 2, 3, 4, 5, 6, 7, 8, 9, 10, 11, 12, 13, 14, 15, 16, 17, 18, 19, 20, 21, 22, 23, 24, 25, 26, 27, 28, 29, 30, 31, 32, 33, 34, 35, 36, 37, 38, 39, 40, 41, 42, 43, 44, 45, 46, 47, 48, 49, 50, 51, 52, 53, 54, 55, 56, 57, 58, 59, 60, 61, 62, 63, 64, 65, 66, 67, 68, 69, 70, 71, 72, 73, 74, 75, 76, 77, 78, 79, 80, 81, 82, 83, 84, 85, 86, 87, 88, 89, 90, 91, 92, 93, 94, 95, 96, 97, 98, 99, 100, 101, 102, 103, 104, 105, 106, 107, 108, 109, 110, 111, 112, 113, 114, 115, 116, 117, 118, 119, 120, 121, 122, 123, 124, 125, 126, 127, 128, 129, 130, 131, 132, 133, 134, 135, 136, 137, 138, 139, 140, 141, 142, 143, 144, 145, 146, 147, 148, 149, 150, 151, 152, 153, 154, 155, 156, 157, 158, 159, 160, 161, 162, 163, 164, 165, 166, 167, 168, 169, 170, 171, 172, 173, 174, 175, 176, 177, 178, 179, 180, 181, 182, 183, 184, 185, 186, 187, 188, 189, 190, 191, 192, 193, 194]\n"
     ]
    }
   ],
   "source": [
    "chunk_nums = [(i+4999)/5000 - 1 for i in indices]\n",
    "print chunk_nums"
   ]
  },
  {
   "cell_type": "code",
   "execution_count": 31,
   "metadata": {
    "collapsed": false
   },
   "outputs": [
    {
     "name": "stdout",
     "output_type": "stream",
     "text": [
      "20000\n",
      "40000\n",
      "60000\n",
      "80000\n",
      "100000\n",
      "120000\n",
      "140000\n",
      "160000\n",
      "180000\n",
      "200000\n",
      "220000\n",
      "240000\n",
      "260000\n",
      "280000\n",
      "300000\n",
      "320000\n",
      "340000\n",
      "360000\n",
      "380000\n",
      "400000\n",
      "420000\n",
      "440000\n",
      "460000\n",
      "480000\n",
      "500000\n",
      "520000\n",
      "540000\n",
      "560000\n",
      "580000\n",
      "600000\n",
      "620000\n",
      "640000\n",
      "660000\n",
      "680000\n",
      "700000\n",
      "720000\n",
      "740000\n",
      "760000\n",
      "780000\n",
      "800000\n",
      "820000\n",
      "840000\n",
      "860000\n",
      "880000\n",
      "900000\n",
      "920000\n",
      "940000\n",
      "960000\n"
     ]
    }
   ],
   "source": [
    "## Make hdf5 file for all scores\n",
    "all_scores = h5py.File(\"/data/all_scores_pool3.hdf5\", 'w')\n",
    "for i in indices:  # looping over each pickle\n",
    "    if i % 20000 == 0: print i\n",
    "\n",
    "    try:\n",
    "        chunk_file = \"/data/nearest_neighbor_tagging/pool3_softmax_scores_new/scores_{}.pkl\".format(i)\n",
    "        scores = pickle.load(open(chunk_file, 'r'))    \n",
    "    except:\n",
    "        continue\n",
    "    temp = np.empty((5000,2048))\n",
    "    for index in range(5000):\n",
    "        score_index = i - 5000 + index  # Chunk 2: temp[5] = scores[15000 - 5000 + 5] = scores[10005]\n",
    "        if score_index not in scores: continue\n",
    "        temp[index] = scores[score_index]\n",
    "        \n",
    "    chunk_num = (i+4999)/5000 - 1 # see above -- mapping so we get chunks 0 to 194\n",
    "    all_scores.create_dataset(\"Chunk{}\".format(chunk_num), data=temp)\n",
    "\n",
    "all_scores.close()"
   ]
  },
  {
   "cell_type": "code",
   "execution_count": 20,
   "metadata": {
    "collapsed": false
   },
   "outputs": [
    {
     "data": {
      "text/plain": [
       "array([ 0.0918475 ,  0.00499424,  0.07765165, ...,  0.42414767,\n",
       "        0.00180882,  0.93171066], dtype=float32)"
      ]
     },
     "execution_count": 20,
     "metadata": {},
     "output_type": "execute_result"
    }
   ],
   "source": [
    "chunk_file = \"/data/nearest_neighbor_tagging/pool3_softmax_scores_new/scores_{}.pkl\".format(15000)\n",
    "scores = pickle.load(open(chunk_file, 'r'))    \n",
    "scores[10500]"
   ]
  },
  {
   "cell_type": "code",
   "execution_count": 24,
   "metadata": {
    "collapsed": false
   },
   "outputs": [
    {
     "ename": "ValueError",
     "evalue": "Not a file id (Not a file id)",
     "output_type": "error",
     "traceback": [
      "\u001b[1;31m---------------------------------------------------------------------------\u001b[0m",
      "\u001b[1;31mValueError\u001b[0m                                Traceback (most recent call last)",
      "\u001b[1;32m<ipython-input-24-96743d0fbe74>\u001b[0m in \u001b[0;36m<module>\u001b[1;34m()\u001b[0m\n\u001b[1;32m----> 1\u001b[1;33m \u001b[0mall_scores\u001b[0m\u001b[1;33m.\u001b[0m\u001b[0mclose\u001b[0m\u001b[1;33m(\u001b[0m\u001b[1;33m)\u001b[0m\u001b[1;33m\u001b[0m\u001b[0m\n\u001b[0m",
      "\u001b[1;32m/usr/local/lib/python2.7/dist-packages/h5py/_hl/files.pyc\u001b[0m in \u001b[0;36mclose\u001b[1;34m(self)\u001b[0m\n\u001b[0;32m    274\u001b[0m             \u001b[1;31m# Close file-resident objects first, then the files.\u001b[0m\u001b[1;33m\u001b[0m\u001b[1;33m\u001b[0m\u001b[0m\n\u001b[0;32m    275\u001b[0m             \u001b[1;31m# Otherwise we get errors in MPI mode.\u001b[0m\u001b[1;33m\u001b[0m\u001b[1;33m\u001b[0m\u001b[0m\n\u001b[1;32m--> 276\u001b[1;33m             \u001b[0mid_list\u001b[0m \u001b[1;33m=\u001b[0m \u001b[0mh5f\u001b[0m\u001b[1;33m.\u001b[0m\u001b[0mget_obj_ids\u001b[0m\u001b[1;33m(\u001b[0m\u001b[0mself\u001b[0m\u001b[1;33m.\u001b[0m\u001b[0mid\u001b[0m\u001b[1;33m,\u001b[0m \u001b[1;33m~\u001b[0m\u001b[0mh5f\u001b[0m\u001b[1;33m.\u001b[0m\u001b[0mOBJ_FILE\u001b[0m\u001b[1;33m)\u001b[0m\u001b[1;33m\u001b[0m\u001b[0m\n\u001b[0m\u001b[0;32m    277\u001b[0m             \u001b[0mfile_list\u001b[0m \u001b[1;33m=\u001b[0m \u001b[0mh5f\u001b[0m\u001b[1;33m.\u001b[0m\u001b[0mget_obj_ids\u001b[0m\u001b[1;33m(\u001b[0m\u001b[0mself\u001b[0m\u001b[1;33m.\u001b[0m\u001b[0mid\u001b[0m\u001b[1;33m,\u001b[0m \u001b[0mh5f\u001b[0m\u001b[1;33m.\u001b[0m\u001b[0mOBJ_FILE\u001b[0m\u001b[1;33m)\u001b[0m\u001b[1;33m\u001b[0m\u001b[0m\n\u001b[0;32m    278\u001b[0m \u001b[1;33m\u001b[0m\u001b[0m\n",
      "\u001b[1;32mh5py/_objects.pyx\u001b[0m in \u001b[0;36mh5py._objects.with_phil.wrapper (/tmp/pip_build_root/h5py/h5py/_objects.c:2574)\u001b[1;34m()\u001b[0m\n",
      "\u001b[1;32mh5py/_objects.pyx\u001b[0m in \u001b[0;36mh5py._objects.with_phil.wrapper (/tmp/pip_build_root/h5py/h5py/_objects.c:2533)\u001b[1;34m()\u001b[0m\n",
      "\u001b[1;32mh5py/h5f.pyx\u001b[0m in \u001b[0;36mh5py.h5f.get_obj_ids (/tmp/pip_build_root/h5py/h5py/h5f.c:3154)\u001b[1;34m()\u001b[0m\n",
      "\u001b[1;31mValueError\u001b[0m: Not a file id (Not a file id)"
     ]
    }
   ],
   "source": [
    "all_scores.close()"
   ]
  },
  {
   "cell_type": "markdown",
   "metadata": {},
   "source": [
    "## What is the distribution of scores for each category? "
   ]
  },
  {
   "cell_type": "code",
   "execution_count": 5,
   "metadata": {
    "collapsed": true
   },
   "outputs": [],
   "source": [
    "max_scores = collections.defaultdict(lambda: [])\n",
    "for idx in range(970218):\n",
    "    chk = idx/5000\n",
    "    i = idx % 5000\n",
    "    scores = scores_data[\"Chunk{}\".format(chk)][i]\n",
    "    max_scores[np.argmax(scores)].append(np.max(scores))"
   ]
  },
  {
   "cell_type": "code",
   "execution_count": 5,
   "metadata": {
    "collapsed": false
   },
   "outputs": [
    {
     "name": "stdout",
     "output_type": "stream",
     "text": [
      "0 17301 0.307666316931\n",
      "1 21526 0.268873344991\n",
      "2 22701 0.502746157594\n",
      "3 38167 0.652873759836\n",
      "4 118582 0.62226863416\n",
      "5 25653 0.460358193956\n",
      "6 24489 0.684069387413\n",
      "7 22545 0.315120764844\n",
      "8 57362 0.548818875037\n",
      "9 68692 0.706300896603\n",
      "10 32259 0.271503837867\n",
      "11 30566 0.544955338836\n"
     ]
    }
   ],
   "source": [
    "for category in max_scores:\n",
    "    num = np.sum(np.array(max_scores[category]) > 0.9)\n",
    "    pct = float(num)/len(max_scores[category])\n",
    "    print category, num, pct"
   ]
  },
  {
   "cell_type": "code",
   "execution_count": 47,
   "metadata": {
    "collapsed": false
   },
   "outputs": [
    {
     "data": {
      "text/plain": [
       "<matplotlib.axes._subplots.AxesSubplot at 0x7f12741e2e10>"
      ]
     },
     "execution_count": 47,
     "metadata": {},
     "output_type": "execute_result"
    },
    {
     "data": {
      "image/png": "[encoded data removed]",
      "text/plain": [
       "<matplotlib.figure.Figure at 0x7f12742586d0>"
      ]
     },
     "metadata": {},
     "output_type": "display_data"
    }
   ],
   "source": [
    "sns.distplot(np.array(max_scores[10]))"
   ]
  },
  {
   "cell_type": "markdown",
   "metadata": {
    "collapsed": true
   },
   "source": [
    "## Getting matrices for all categories, running PCA, and making distance matrices: Test"
   ]
  },
  {
   "cell_type": "code",
   "execution_count": 6,
   "metadata": {
    "collapsed": false
   },
   "outputs": [
    {
     "data": {
      "text/plain": [
       "array([[ 1.05541706,  0.00310066,  0.05723139, ...,  0.22937153,\n",
       "         0.01113083,  0.00978714],\n",
       "       [ 0.76485813,  0.        ,  0.07829402, ...,  0.00653851,\n",
       "         0.05295077,  0.01116185],\n",
       "       [ 1.0298841 ,  0.21995971,  0.11545297, ...,  0.0188979 ,\n",
       "         0.04670588,  0.        ],\n",
       "       ..., \n",
       "       [ 0.37604493,  0.25639302,  1.87961304, ...,  0.44600505,\n",
       "         0.02618813,  0.33498245],\n",
       "       [ 1.0336951 ,  0.04561228,  0.60564977, ...,  0.00628665,\n",
       "         0.54624897,  0.61161304],\n",
       "       [ 0.37604493,  0.25639302,  1.87961304, ...,  0.44600505,\n",
       "         0.02618813,  0.33498245]])"
      ]
     },
     "execution_count": 6,
     "metadata": {},
     "output_type": "execute_result"
    }
   ],
   "source": [
    "all_scores = h5py.File(\"/data/all_scores_pool3.hdf5\", 'r')\n",
    "all_scores[\"Chunk0\"][:10]"
   ]
  },
  {
   "cell_type": "code",
   "execution_count": 19,
   "metadata": {
    "collapsed": true
   },
   "outputs": [],
   "source": [
    "categories = ['animals', 'nature', 'text', 'maps', 'people', 'seals', 'miniatures', \\\n",
    "'objects', 'architecture', 'decorations', 'landscapes', 'diagrams']\n",
    "def process_category(cat):\n",
    "    # make the matrix\n",
    "    category_name = categories[cat]\n",
    "    mat = np.zeros((len(max_scores[cat]), 2048))\n",
    "    idx_in_cat = []\n",
    "    \n",
    "    ctr = 0\n",
    "    for idx in xrange(100000):\n",
    "        chk = idx/5000\n",
    "        i = idx % 5000\n",
    "        if category_name == image_metadata[idx][-1]: \n",
    "            mat[ctr,:] = all_scores[\"Chunk{}\".format(chk)][i]\n",
    "            idx_in_cat.append(idx)\n",
    "            ctr += 1\n",
    "            \n",
    "    mat = mat[0:ctr,:]\n",
    "            \n",
    "    return mat, idx_in_cat"
   ]
  },
  {
   "cell_type": "code",
   "execution_count": 20,
   "metadata": {
    "collapsed": false
   },
   "outputs": [
    {
     "name": "stdout",
     "output_type": "stream",
     "text": [
      "CPU times: user 1.43 s, sys: 178 ms, total: 1.6 s\n",
      "Wall time: 6.69 s\n"
     ]
    }
   ],
   "source": [
    "%time mat, indices = process_category(1)"
   ]
  },
  {
   "cell_type": "code",
   "execution_count": 21,
   "metadata": {
    "collapsed": false
   },
   "outputs": [
    {
     "data": {
      "text/plain": [
       "(6113, 2048)"
      ]
     },
     "execution_count": 21,
     "metadata": {},
     "output_type": "execute_result"
    }
   ],
   "source": [
    "mat.shape"
   ]
  },
  {
   "cell_type": "code",
   "execution_count": 22,
   "metadata": {
    "collapsed": false
   },
   "outputs": [
    {
     "name": "stdout",
     "output_type": "stream",
     "text": [
      "CPU times: user 38.4 ms, sys: 4.11 ms, total: 42.5 ms\n",
      "Wall time: 43.7 ms\n"
     ]
    },
    {
     "data": {
      "text/plain": [
       "PCA(copy=True, n_components=40, whiten=True)"
      ]
     },
     "execution_count": 22,
     "metadata": {},
     "output_type": "execute_result"
    }
   ],
   "source": [
    "pca = PCA(n_components=40, whiten=True)\n",
    "np.random.seed(5)\n",
    "rand_rows = np.random.random_integers(0, np.shape(mat)[0], 100)  # take 10k rows randomly from the whole matrix\n",
    "%time pca.fit(mat[rand_rows,:])"
   ]
  },
  {
   "cell_type": "code",
   "execution_count": 23,
   "metadata": {
    "collapsed": false
   },
   "outputs": [
    {
     "name": "stdout",
     "output_type": "stream",
     "text": [
      "CPU times: user 776 ms, sys: 24 ms, total: 800 ms\n",
      "Wall time: 799 ms\n"
     ]
    }
   ],
   "source": [
    "%time pool3_pca_scores = pca.transform(mat)"
   ]
  },
  {
   "cell_type": "code",
   "execution_count": 24,
   "metadata": {
    "collapsed": false
   },
   "outputs": [
    {
     "data": {
      "text/plain": [
       "(6113, 40)"
      ]
     },
     "execution_count": 24,
     "metadata": {},
     "output_type": "execute_result"
    }
   ],
   "source": [
    "pool3_pca_scores.shape"
   ]
  },
  {
   "cell_type": "code",
   "execution_count": 25,
   "metadata": {
    "collapsed": false
   },
   "outputs": [
    {
     "name": "stdout",
     "output_type": "stream",
     "text": [
      "CPU times: user 349 ms, sys: 28.2 ms, total: 377 ms\n",
      "Wall time: 460 ms\n"
     ]
    },
    {
     "data": {
      "text/plain": [
       "(1000, 1000)"
      ]
     },
     "execution_count": 25,
     "metadata": {},
     "output_type": "execute_result"
    }
   ],
   "source": [
    "from sklearn.metrics.pairwise import pairwise_distances\n",
    "%time dist = pairwise_distances(pool3_pca_scores[0:1000,:], n_jobs=-1)\n",
    "dist.shape"
   ]
  },
  {
   "cell_type": "code",
   "execution_count": 33,
   "metadata": {
    "collapsed": false
   },
   "outputs": [
    {
     "name": "stdout",
     "output_type": "stream",
     "text": [
      "Calculating the distance matrix\n",
      "0\n",
      "2000\n",
      "4000\n",
      "6000\n"
     ]
    }
   ],
   "source": [
    "\n",
    "# distance matrix + get the nearest \n",
    "print \"Calculating the distance matrix\"\n",
    "dist = pairwise_distances(pool3_pca_scores, n_jobs=-1)\n",
    "idx_to_neighbors = {}\n",
    "for i in range(dist.shape[0]):\n",
    "    if i % 2000 == 0: print i\n",
    "    idx = indices[i]\n",
    "\n",
    "    neighbor_ranks = np.array(dist[i,:]).argsort()  # returns a list of the column indices in order from smallest to largest\n",
    "    idx_to_neighbors[idx] = [(indices[z], dist[i,z]) for z in neighbor_ranks[1:20]]  # skip the first one (distance = 0)\n"
   ]
  },
  {
   "cell_type": "code",
   "execution_count": 26,
   "metadata": {
    "collapsed": false
   },
   "outputs": [
    {
     "name": "stdout",
     "output_type": "stream",
     "text": [
      "0\n"
     ]
    }
   ],
   "source": [
    "idx_to_neighbors = {}\n",
    "for i in range(dist.shape[0]):\n",
    "    if i % 2000 == 0: print i\n",
    "    idx = indices[i]\n",
    "\n",
    "    neighbor_ranks = np.array(dist[i,:]).argsort()  # returns a list of the column indices in order from smallest to largest\n",
    "    idx_to_neighbors[idx] = [(indices[z], dist[i,z]) for z in neighbor_ranks[1:20]]  # skip the first one (distance = 0)"
   ]
  },
  {
   "cell_type": "markdown",
   "metadata": {},
   "source": [
    "## Getting matrices for all categories, running PCA, and making distance matrices: run for all"
   ]
  },
  {
   "cell_type": "code",
   "execution_count": 4,
   "metadata": {
    "collapsed": false
   },
   "outputs": [
    {
     "data": {
      "text/plain": [
       "array([[ 1.05541706,  0.00310066,  0.05723139, ...,  0.22937153,\n",
       "         0.01113083,  0.00978714],\n",
       "       [ 0.76485813,  0.        ,  0.07829402, ...,  0.00653851,\n",
       "         0.05295077,  0.01116185],\n",
       "       [ 1.0298841 ,  0.21995971,  0.11545297, ...,  0.0188979 ,\n",
       "         0.04670588,  0.        ],\n",
       "       ..., \n",
       "       [ 0.37604493,  0.25639302,  1.87961304, ...,  0.44600505,\n",
       "         0.02618813,  0.33498245],\n",
       "       [ 1.0336951 ,  0.04561228,  0.60564977, ...,  0.00628665,\n",
       "         0.54624897,  0.61161304],\n",
       "       [ 0.37604493,  0.25639302,  1.87961304, ...,  0.44600505,\n",
       "         0.02618813,  0.33498245]])"
      ]
     },
     "execution_count": 4,
     "metadata": {},
     "output_type": "execute_result"
    }
   ],
   "source": [
    "all_scores = h5py.File(\"/data/all_scores_pool3.hdf5\", 'r')\n",
    "all_scores[\"Chunk0\"][:10]"
   ]
  },
  {
   "cell_type": "code",
   "execution_count": 5,
   "metadata": {
    "collapsed": false
   },
   "outputs": [
    {
     "data": {
      "text/plain": [
       "defaultdict(<function __main__.<lambda>>,\n",
       "            {'animals': 56233,\n",
       "             'architecture': 104519,\n",
       "             'decorations': 97256,\n",
       "             'diagrams': 56089,\n",
       "             'landscapes': 118816,\n",
       "             'maps': 58460,\n",
       "             'miniatures': 35799,\n",
       "             'nature': 80060,\n",
       "             'objects': 71544,\n",
       "             'people': 190564,\n",
       "             'seals': 55724,\n",
       "             'text': 45154})"
      ]
     },
     "execution_count": 5,
     "metadata": {},
     "output_type": "execute_result"
    }
   ],
   "source": [
    "num_images = collections.defaultdict(lambda: 0)\n",
    "for idx in xrange(970218):\n",
    "    chk = idx/5000\n",
    "    i = idx % 5000\n",
    "    num_images[image_metadata[idx][-1]] += 1\n",
    "num_images"
   ]
  },
  {
   "cell_type": "code",
   "execution_count": 6,
   "metadata": {
    "collapsed": true
   },
   "outputs": [],
   "source": [
    "from sklearn.metrics.pairwise import pairwise_distances\n",
    "from scipy.spatial.distance import cdist\n",
    "categories = ['animals', 'nature', 'text', 'maps', 'people', 'seals', 'miniatures', \\\n",
    "'objects', 'architecture', 'decorations', 'landscapes', 'diagrams']\n",
    "\n",
    "def process_category_with_pca(cat, cross=False):\n",
    "    # make the matrix\n",
    "    print \"Making matrix\"\n",
    "    category_name = categories[cat]\n",
    "    mat = np.zeros((num_images[category_name], 2048))\n",
    "    true_indices = []\n",
    "    \n",
    "    ctr = 0\n",
    "    for idx in xrange(970218):\n",
    "    #for idx in xrange(20000):  ###test\n",
    "        chk = idx/5000\n",
    "        i = idx % 5000\n",
    "        if category_name == image_metadata[idx][-1]: \n",
    "            mat[ctr,:] = all_scores[\"Chunk{}\".format(chk)][i]\n",
    "            true_indices.append(idx)\n",
    "            ctr += 1\n",
    "    #mat = mat[0:ctr,:]  ###test\n",
    "    print len(true_indices), mat.shape\n",
    "\n",
    "    # do PCA\n",
    "    print \"Doing PCA\"\n",
    "    pca = PCA(n_components=40, whiten=True)\n",
    "    np.random.seed(5)\n",
    "    rand_rows = np.random.random_integers(0, np.shape(mat)[0], 10000)  # take 10k rows randomly from the whole matrix\n",
    "    #rand_rows = np.random.random_integers(0, np.shape(mat)[0], 100) ### test # take 10k rows randomly from the whole matrix\n",
    "    pca.fit(mat[rand_rows,:])\n",
    "    pool3_pca_scores = pca.transform(mat)\n",
    "    \n",
    "    # distance matrix + get the nearest \n",
    "    print \"Calculating the distance matrix\"\n",
    "    \n",
    "    if not cross:\n",
    "        dist = pairwise_distances(pool3_pca_scores, n_jobs=-1)\n",
    "        print dist.shape[0]\n",
    "\n",
    "        idx_to_neighbors = {}\n",
    "        for i in range(dist.shape[0]):\n",
    "            if i % 2000 == 0: print i\n",
    "            idx = true_indices[i]\n",
    "\n",
    "            neighbor_ranks = np.array(dist[i,:]).argsort()  # returns a list of the column indices in order from smallest to largest\n",
    "            idx_to_neighbors[idx] = [(true_indices[z], dist[i,z]) for z in neighbor_ranks[1:20]]  # skip the first one (distance = 0)\n",
    "    else:\n",
    "        idx_to_neighbors = {}\n",
    "\n",
    "        # do in chunks of 10K\n",
    "        chksz = 10000\n",
    "        nrows = np.shape(pool3_pca_scores)[0]\n",
    "        for j in range(0, nrows, chksz):\n",
    "            print \"Processing {} to {}\".format(j, j+chksz)\n",
    "            dist = cdist(pool3_pca_scores[j:(j+chksz),:], pool3_pca_scores)\n",
    "            for i in range(dist.shape[0]):\n",
    "                if i % 2000 == 0: print i\n",
    "                idx = true_indices[j + i]  # j+i is the true index\n",
    "\n",
    "                neighbor_ranks = np.array(dist[i,:]).argsort()  # returns a list of the column indices in order from smallest to largest\n",
    "                idx_to_neighbors[idx] = [(true_indices[z], dist[i,z]) for z in neighbor_ranks[1:20]]  # skip the first one (distance = 0)\n",
    "\n",
    "    pickle.dump(idx_to_neighbors, open(\"/data/nearest_neighbor_tagging/nearest_neighbors/{}.pkl\".format(category_name), 'w'))"
   ]
  },
  {
   "cell_type": "code",
   "execution_count": 8,
   "metadata": {
    "collapsed": true
   },
   "outputs": [],
   "source": [
    "a = np.random.rand(1005,10)"
   ]
  },
  {
   "cell_type": "code",
   "execution_count": 11,
   "metadata": {
    "collapsed": false
   },
   "outputs": [
    {
     "name": "stdout",
     "output_type": "stream",
     "text": [
      "(100, 1005)\n",
      "(100, 1005)\n",
      "(100, 1005)\n",
      "(100, 1005)\n",
      "(100, 1005)\n",
      "(100, 1005)\n",
      "(100, 1005)\n",
      "(100, 1005)\n",
      "(100, 1005)\n",
      "(100, 1005)\n",
      "(5, 1005)\n"
     ]
    }
   ],
   "source": [
    "from scipy.spatial.distance import cdist\n",
    "for i in range(0, a.shape[0], 100):\n",
    "    print cdist(a[i:(i+100),:], a).shape"
   ]
  },
  {
   "cell_type": "code",
   "execution_count": 7,
   "metadata": {
    "collapsed": false
   },
   "outputs": [
    {
     "name": "stdout",
     "output_type": "stream",
     "text": [
      "3 maps\n",
      "Making matrix\n",
      "58460 (58460, 2048)\n",
      "Doing PCA\n"
     ]
    },
    {
     "ename": "IndexError",
     "evalue": "index 58460 is out of bounds for axis 0 with size 58460",
     "output_type": "error",
     "traceback": [
      "\u001b[1;31m---------------------------------------------------------------------------\u001b[0m",
      "\u001b[1;31mIndexError\u001b[0m                                Traceback (most recent call last)",
      "\u001b[1;32m<ipython-input-7-df2e8d123349>\u001b[0m in \u001b[0;36m<module>\u001b[1;34m()\u001b[0m\n\u001b[0;32m      2\u001b[0m \u001b[1;32mfor\u001b[0m \u001b[0mn\u001b[0m \u001b[1;32min\u001b[0m \u001b[1;33m[\u001b[0m\u001b[1;36m3\u001b[0m\u001b[1;33m,\u001b[0m\u001b[1;36m5\u001b[0m\u001b[1;33m,\u001b[0m\u001b[1;36m8\u001b[0m\u001b[1;33m,\u001b[0m\u001b[1;36m10\u001b[0m\u001b[1;33m,\u001b[0m\u001b[1;36m4\u001b[0m\u001b[1;33m]\u001b[0m\u001b[1;33m:\u001b[0m\u001b[1;33m\u001b[0m\u001b[0m\n\u001b[0;32m      3\u001b[0m     \u001b[1;32mprint\u001b[0m \u001b[0mn\u001b[0m\u001b[1;33m,\u001b[0m \u001b[0mcategories\u001b[0m\u001b[1;33m[\u001b[0m\u001b[0mn\u001b[0m\u001b[1;33m]\u001b[0m\u001b[1;33m\u001b[0m\u001b[0m\n\u001b[1;32m----> 4\u001b[1;33m     \u001b[0mprocess_category_with_pca\u001b[0m\u001b[1;33m(\u001b[0m\u001b[0mn\u001b[0m\u001b[1;33m)\u001b[0m\u001b[1;33m\u001b[0m\u001b[0m\n\u001b[0m",
      "\u001b[1;32m<ipython-input-6-905a8d216d7f>\u001b[0m in \u001b[0;36mprocess_category_with_pca\u001b[1;34m(cat)\u001b[0m\n\u001b[0;32m     27\u001b[0m     \u001b[0mrand_rows\u001b[0m \u001b[1;33m=\u001b[0m \u001b[0mnp\u001b[0m\u001b[1;33m.\u001b[0m\u001b[0mrandom\u001b[0m\u001b[1;33m.\u001b[0m\u001b[0mrandom_integers\u001b[0m\u001b[1;33m(\u001b[0m\u001b[1;36m0\u001b[0m\u001b[1;33m,\u001b[0m \u001b[0mnp\u001b[0m\u001b[1;33m.\u001b[0m\u001b[0mshape\u001b[0m\u001b[1;33m(\u001b[0m\u001b[0mmat\u001b[0m\u001b[1;33m)\u001b[0m\u001b[1;33m[\u001b[0m\u001b[1;36m0\u001b[0m\u001b[1;33m]\u001b[0m\u001b[1;33m,\u001b[0m \u001b[1;36m10000\u001b[0m\u001b[1;33m)\u001b[0m  \u001b[1;31m# take 10k rows randomly from the whole matrix\u001b[0m\u001b[1;33m\u001b[0m\u001b[0m\n\u001b[0;32m     28\u001b[0m     \u001b[1;31m#rand_rows = np.random.random_integers(0, np.shape(mat)[0], 100) ### test # take 10k rows randomly from the whole matrix\u001b[0m\u001b[1;33m\u001b[0m\u001b[1;33m\u001b[0m\u001b[0m\n\u001b[1;32m---> 29\u001b[1;33m     \u001b[0mpca\u001b[0m\u001b[1;33m.\u001b[0m\u001b[0mfit\u001b[0m\u001b[1;33m(\u001b[0m\u001b[0mmat\u001b[0m\u001b[1;33m[\u001b[0m\u001b[0mrand_rows\u001b[0m\u001b[1;33m,\u001b[0m\u001b[1;33m:\u001b[0m\u001b[1;33m]\u001b[0m\u001b[1;33m)\u001b[0m\u001b[1;33m\u001b[0m\u001b[0m\n\u001b[0m\u001b[0;32m     30\u001b[0m     \u001b[0mpool3_pca_scores\u001b[0m \u001b[1;33m=\u001b[0m \u001b[0mpca\u001b[0m\u001b[1;33m.\u001b[0m\u001b[0mtransform\u001b[0m\u001b[1;33m(\u001b[0m\u001b[0mmat\u001b[0m\u001b[1;33m)\u001b[0m\u001b[1;33m\u001b[0m\u001b[0m\n\u001b[0;32m     31\u001b[0m \u001b[1;33m\u001b[0m\u001b[0m\n",
      "\u001b[1;31mIndexError\u001b[0m: index 58460 is out of bounds for axis 0 with size 58460"
     ]
    }
   ],
   "source": [
    "#for n in [0,11,3,5,7,1,8,10,4]:\n",
    "for n in [3]:\n",
    "    print n, categories[n]\n",
    "    process_category_with_pca(n)\n",
    "\n",
    "for n in [8,10,4]:\n",
    "    print n, categories[n]\n",
    "    process_category_with_pca(n, cross=True)  # use cdist"
   ]
  },
  {
   "cell_type": "code",
   "execution_count": 38,
   "metadata": {
    "collapsed": false
   },
   "outputs": [
    {
     "data": {
      "text/plain": [
       "[(16560, 3.7932589193500288),\n",
       " (13040, 3.9077419150296553),\n",
       " (19823, 4.140770041911833),\n",
       " (19835, 4.2449127086567726),\n",
       " (16690, 4.3044998076104424),\n",
       " (17090, 4.3226346564148797),\n",
       " (16232, 4.3883997044819809),\n",
       " (19721, 4.4493194308885409),\n",
       " (16154, 4.5035298068897003),\n",
       " (16515, 4.5059631101841493),\n",
       " (13136, 4.516982477926696),\n",
       " (16695, 4.5256733290217834),\n",
       " (18978, 4.5583337908771897),\n",
       " (13835, 4.5602216209920439),\n",
       " (14783, 4.6331595284182692),\n",
       " (12918, 4.638452835603859),\n",
       " (13765, 4.6434420435090695),\n",
       " (15393, 4.6891390119449792),\n",
       " (13045, 4.7113897407261547)]"
      ]
     },
     "execution_count": 38,
     "metadata": {},
     "output_type": "execute_result"
    }
   ],
   "source": [
    "idx_to_neighbors[16473]"
   ]
  },
  {
   "cell_type": "markdown",
   "metadata": {},
   "source": [
    "## Testing PCA"
   ]
  },
  {
   "cell_type": "code",
   "execution_count": 41,
   "metadata": {
    "collapsed": true
   },
   "outputs": [],
   "source": [
    "mat = np.random.rand(20000, 2048)"
   ]
  },
  {
   "cell_type": "code",
   "execution_count": 42,
   "metadata": {
    "collapsed": false
   },
   "outputs": [
    {
     "name": "stdout",
     "output_type": "stream",
     "text": [
      "CPU times: user 22.6 s, sys: 119 ms, total: 22.7 s\n",
      "Wall time: 22.7 s\n"
     ]
    },
    {
     "data": {
      "text/plain": [
       "RandomizedPCA(copy=True, iterated_power=3, n_components=1, random_state=None,\n",
       "       whiten=False)"
      ]
     },
     "execution_count": 42,
     "metadata": {},
     "output_type": "execute_result"
    }
   ],
   "source": [
    "pca = PCA(n_components=1, svd)\n",
    "%time pca.fit(mat)"
   ]
  },
  {
   "cell_type": "code",
   "execution_count": 43,
   "metadata": {
    "collapsed": false
   },
   "outputs": [
    {
     "name": "stdout",
     "output_type": "stream",
     "text": [
      "CPU times: user 31.4 s, sys: 141 ms, total: 31.6 s\n",
      "Wall time: 31.6 s\n"
     ]
    },
    {
     "data": {
      "text/plain": [
       "RandomizedPCA(copy=True, iterated_power=3, n_components=5, random_state=None,\n",
       "       whiten=False)"
      ]
     },
     "execution_count": 43,
     "metadata": {},
     "output_type": "execute_result"
    }
   ],
   "source": [
    "pca2 = RandomizedPCA(n_components=5)\n",
    "%time pca2.fit(mat)"
   ]
  },
  {
   "cell_type": "code",
   "execution_count": 40,
   "metadata": {
    "collapsed": false
   },
   "outputs": [
    {
     "name": "stdout",
     "output_type": "stream",
     "text": [
      "CPU times: user 171 ms, sys: 28.3 ms, total: 199 ms\n",
      "Wall time: 199 ms\n"
     ]
    }
   ],
   "source": [
    "%time pca_scores = pca2.transform(mat)"
   ]
  },
  {
   "cell_type": "code",
   "execution_count": null,
   "metadata": {
    "collapsed": true
   },
   "outputs": [],
   "source": [
    "# empirically: doing RandomizedPCA on a matrix with m rows will take (m/10000)(10 + n) seconds, where n = # of components\n",
    "# and transforming it to get a list of scores is trivial"
   ]
  },
  {
   "cell_type": "code",
   "execution_count": null,
   "metadata": {
    "collapsed": true
   },
   "outputs": [],
   "source": []
  }
 ],
 "metadata": {
  "kernelspec": {
   "display_name": "Python 2",
   "language": "python",
   "name": "python2"
  },
  "language_info": {
   "codemirror_mode": {
    "name": "ipython",
    "version": 2
   },
   "file_extension": ".py",
   "mimetype": "text/x-python",
   "name": "python",
   "nbconvert_exporter": "python",
   "pygments_lexer": "ipython2",
   "version": "2.7.6"
  }
 },
 "nbformat": 4,
 "nbformat_minor": 0
}
