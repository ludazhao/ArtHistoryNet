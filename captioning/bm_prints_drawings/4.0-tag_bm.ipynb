{
 "cells": [
  {
   "cell_type": "code",
   "execution_count": 1,
   "metadata": {
    "collapsed": true
   },
   "outputs": [],
   "source": [
    "import numpy as np\n",
    "import tensorflow as tf\n",
    "import os\n",
    "import json"
   ]
  },
  {
   "cell_type": "markdown",
   "metadata": {},
   "source": [
    "# Tagging Using the BM Dataset\n",
    "Using the BM dataset tags, we use a pretrained InceptionNet train a classifer to tag images"
   ]
  },
  {
   "cell_type": "code",
   "execution_count": 2,
   "metadata": {
    "collapsed": true
   },
   "outputs": [],
   "source": [
    "\n",
    "ROOT_DIR = '/data/images_raw_1M/'\n",
    "MODEL_ROOT = '/tmp/'\n",
    "#ROOT_DIR = '/data/captioning/img_100_gs/'\n",
    "#ROOT_DIR = '/Users/luda/Projects/SherlockNet/img_100_gs/'\n",
    "#MODEL_ROOT = '/Users/luda/Projects/SherlockNet/tmp/boat/'\n"
   ]
  },
  {
   "cell_type": "code",
   "execution_count": 6,
   "metadata": {
    "collapsed": false
   },
   "outputs": [],
   "source": [
    "\n",
    "def create_graph(modelFullPath):\n",
    "    \"\"\"Creates a graph from saved GraphDef file and returns a saver.\"\"\"\n",
    "    # Creates graph from saved graph_def.pb.\n",
    "    with tf.gfile.FastGFile(modelFullPath, 'rb') as f:\n",
    "        graph_def = tf.GraphDef()\n",
    "        graph_def.ParseFromString(f.read())\n",
    "        _ = tf.import_graph_def(graph_def, name='')\n",
    "\n",
    "\n",
    "def run_inference_on_images(imageFns, c, tag):\n",
    "    print \"category: \", c\n",
    "    print \"tag: \", tag\n",
    "    res = []\n",
    "#     if not tf.gfile.Exists(imagePath):\n",
    "#         tf.logging.fatal('File does not exist %s', imagePath)\n",
    "#         return answer\n",
    "    modelFullPath = MODEL_ROOT + tag + '/output_graph.pb'\n",
    "    labelsFullPath = MODEL_ROOT + tag + '/output_labels.txt'\n",
    "\n",
    "    f = open(labelsFullPath, 'rb')\n",
    "    lines = f.readlines()\n",
    "    labels = [str(w).replace(\"\\n\", \"\") for w in lines]\n",
    "    # Creates graph from saved GraphDef.\n",
    "    create_graph(modelFullPath)\n",
    "    res.append((len(imageFns), labels[0], labels[1]))\n",
    "\n",
    "    with tf.Session() as sess:\n",
    "        count = 0\n",
    "        softmax_tensor = sess.graph.get_tensor_by_name('final_result:0')\n",
    "        for imageFn in imageFns:\n",
    "            count +=1\n",
    "            image_data = tf.gfile.FastGFile(ROOT_DIR + c + '/'  + imageFn, 'rb').read()\n",
    "            predictions = sess.run(softmax_tensor,\n",
    "                                   {'DecodeJpeg/contents:0': image_data})\n",
    "            predictions = np.squeeze(predictions)\n",
    "\n",
    "            top_k = predictions.argsort()[-2:][::-1]  # Getting 2 scores\n",
    "            res.append((imageFn, predictions[top_k[0]], predictions[top_k[1]]))\n",
    "\n",
    "            print res\n",
    "            for node_id in top_k:\n",
    "                human_string = labels[node_id]\n",
    "                score = predictions[node_id]\n",
    "                print('%s (score = %.5f)' % (human_string, score))\n",
    "            if (count % 100 == 0):\n",
    "                print count\n",
    "\n",
    "    return res, labels"
   ]
  },
  {
   "cell_type": "code",
   "execution_count": 7,
   "metadata": {
    "collapsed": false
   },
   "outputs": [
    {
     "name": "stdout",
     "output_type": "stream",
     "text": [
      "category:  landscapes\n",
      "tag:  boat\n",
      "[(118816, 'not boat', 'boat'), ('000579900_0_000115_1_.jpg', 0.50186419, 0.49813583)]\n",
      "not boat (score = 0.50186)\n",
      "boat (score = 0.49814)\n",
      "[(118816, 'not boat', 'boat'), ('000579900_0_000115_1_.jpg', 0.50186419, 0.49813583), ('003914899_02_000606_1_.jpg', 0.78092724, 0.21907276)]\n",
      "boat (score = 0.78093)\n",
      "not boat (score = 0.21907)\n",
      "[(118816, 'not boat', 'boat'), ('000579900_0_000115_1_.jpg', 0.50186419, 0.49813583), ('003914899_02_000606_1_.jpg', 0.78092724, 0.21907276), ('003885107_0_000065_1_.jpg', 0.66353935, 0.33646065)]\n",
      "not boat (score = 0.66354)\n",
      "boat (score = 0.33646)\n",
      "[(118816, 'not boat', 'boat'), ('000579900_0_000115_1_.jpg', 0.50186419, 0.49813583), ('003914899_02_000606_1_.jpg', 0.78092724, 0.21907276), ('003885107_0_000065_1_.jpg', 0.66353935, 0.33646065), ('000735816_0_000172_1_.jpg', 0.73402327, 0.26597673)]\n",
      "not boat (score = 0.73402)\n",
      "boat (score = 0.26598)\n",
      "[(118816, 'not boat', 'boat'), ('000579900_0_000115_1_.jpg', 0.50186419, 0.49813583), ('003914899_02_000606_1_.jpg', 0.78092724, 0.21907276), ('003885107_0_000065_1_.jpg', 0.66353935, 0.33646065), ('000735816_0_000172_1_.jpg', 0.73402327, 0.26597673), ('003360220_0_000212_1_.jpg', 0.72201407, 0.2779859)]\n",
      "boat (score = 0.72201)\n",
      "not boat (score = 0.27799)\n",
      "[(118816, 'not boat', 'boat'), ('000579900_0_000115_1_.jpg', 0.50186419, 0.49813583), ('003914899_02_000606_1_.jpg', 0.78092724, 0.21907276), ('003885107_0_000065_1_.jpg', 0.66353935, 0.33646065), ('000735816_0_000172_1_.jpg', 0.73402327, 0.26597673), ('003360220_0_000212_1_.jpg', 0.72201407, 0.2779859), ('001597922_0_000317_1_.jpg', 0.51093531, 0.48906475)]\n",
      "not boat (score = 0.51094)\n",
      "boat (score = 0.48906)\n",
      "[(118816, 'not boat', 'boat'), ('000579900_0_000115_1_.jpg', 0.50186419, 0.49813583), ('003914899_02_000606_1_.jpg', 0.78092724, 0.21907276), ('003885107_0_000065_1_.jpg', 0.66353935, 0.33646065), ('000735816_0_000172_1_.jpg', 0.73402327, 0.26597673), ('003360220_0_000212_1_.jpg', 0.72201407, 0.2779859), ('001597922_0_000317_1_.jpg', 0.51093531, 0.48906475), ('003507008_0_000070_1_.jpg', 0.58703583, 0.4129642)]\n",
      "boat (score = 0.58704)\n",
      "not boat (score = 0.41296)\n",
      "[(118816, 'not boat', 'boat'), ('000579900_0_000115_1_.jpg', 0.50186419, 0.49813583), ('003914899_02_000606_1_.jpg', 0.78092724, 0.21907276), ('003885107_0_000065_1_.jpg', 0.66353935, 0.33646065), ('000735816_0_000172_1_.jpg', 0.73402327, 0.26597673), ('003360220_0_000212_1_.jpg', 0.72201407, 0.2779859), ('001597922_0_000317_1_.jpg', 0.51093531, 0.48906475), ('003507008_0_000070_1_.jpg', 0.58703583, 0.4129642), ('003153101_0_000065_1_.jpg', 0.91268122, 0.0873188)]\n",
      "boat (score = 0.91268)\n",
      "not boat (score = 0.08732)\n"
     ]
    },
    {
     "ename": "KeyboardInterrupt",
     "evalue": "",
     "output_type": "error",
     "traceback": [
      "\u001b[1;31m---------------------------------------------------------------------------\u001b[0m",
      "\u001b[1;31mKeyboardInterrupt\u001b[0m                         Traceback (most recent call last)",
      "\u001b[1;32m<ipython-input-7-a839c3d52892>\u001b[0m in \u001b[0;36m<module>\u001b[1;34m()\u001b[0m\n\u001b[0;32m      5\u001b[0m \u001b[1;32mfor\u001b[0m \u001b[0mc\u001b[0m \u001b[1;32min\u001b[0m \u001b[0mcategories\u001b[0m\u001b[1;33m:\u001b[0m\u001b[1;33m\u001b[0m\u001b[0m\n\u001b[0;32m      6\u001b[0m     \u001b[1;32mfor\u001b[0m \u001b[0mtag\u001b[0m \u001b[1;32min\u001b[0m \u001b[0mtags\u001b[0m\u001b[1;33m:\u001b[0m\u001b[1;33m\u001b[0m\u001b[0m\n\u001b[1;32m----> 7\u001b[1;33m         \u001b[0mres\u001b[0m\u001b[1;33m,\u001b[0m \u001b[0mlabels\u001b[0m \u001b[1;33m=\u001b[0m \u001b[0mrun_inference_on_images\u001b[0m\u001b[1;33m(\u001b[0m\u001b[0mos\u001b[0m\u001b[1;33m.\u001b[0m\u001b[0mlistdir\u001b[0m\u001b[1;33m(\u001b[0m\u001b[0mROOT_DIR\u001b[0m \u001b[1;33m+\u001b[0m \u001b[0mc\u001b[0m\u001b[1;33m)\u001b[0m\u001b[1;33m,\u001b[0m \u001b[0mc\u001b[0m\u001b[1;33m,\u001b[0m \u001b[0mtag\u001b[0m\u001b[1;33m)\u001b[0m\u001b[1;33m\u001b[0m\u001b[0m\n\u001b[0m\u001b[0;32m      8\u001b[0m         \u001b[1;32mwith\u001b[0m \u001b[0mopen\u001b[0m\u001b[1;33m(\u001b[0m\u001b[1;34m'/data/captioning/bm_tagging_'\u001b[0m \u001b[1;33m+\u001b[0m \u001b[0mc\u001b[0m \u001b[1;33m+\u001b[0m \u001b[1;34m'_'\u001b[0m \u001b[1;33m+\u001b[0m \u001b[0mtag\u001b[0m \u001b[1;33m+\u001b[0m \u001b[1;34m'.json'\u001b[0m\u001b[1;33m,\u001b[0m \u001b[1;34m'w'\u001b[0m\u001b[1;33m)\u001b[0m \u001b[1;32mas\u001b[0m \u001b[0moutfile\u001b[0m\u001b[1;33m:\u001b[0m\u001b[1;33m\u001b[0m\u001b[0m\n\u001b[0;32m      9\u001b[0m             \u001b[0mjson\u001b[0m\u001b[1;33m.\u001b[0m\u001b[0mdump\u001b[0m\u001b[1;33m(\u001b[0m\u001b[0mres\u001b[0m\u001b[1;33m,\u001b[0m \u001b[0moutfile\u001b[0m\u001b[1;33m)\u001b[0m\u001b[1;33m\u001b[0m\u001b[0m\n",
      "\u001b[1;32m<ipython-input-6-670940498323>\u001b[0m in \u001b[0;36mrun_inference_on_images\u001b[1;34m(imageFns, c, tag)\u001b[0m\n\u001b[0;32m     33\u001b[0m             \u001b[0mimage_data\u001b[0m \u001b[1;33m=\u001b[0m \u001b[0mtf\u001b[0m\u001b[1;33m.\u001b[0m\u001b[0mgfile\u001b[0m\u001b[1;33m.\u001b[0m\u001b[0mFastGFile\u001b[0m\u001b[1;33m(\u001b[0m\u001b[0mROOT_DIR\u001b[0m \u001b[1;33m+\u001b[0m \u001b[0mc\u001b[0m \u001b[1;33m+\u001b[0m \u001b[1;34m'/'\u001b[0m  \u001b[1;33m+\u001b[0m \u001b[0mimageFn\u001b[0m\u001b[1;33m,\u001b[0m \u001b[1;34m'rb'\u001b[0m\u001b[1;33m)\u001b[0m\u001b[1;33m.\u001b[0m\u001b[0mread\u001b[0m\u001b[1;33m(\u001b[0m\u001b[1;33m)\u001b[0m\u001b[1;33m\u001b[0m\u001b[0m\n\u001b[0;32m     34\u001b[0m             predictions = sess.run(softmax_tensor,\n\u001b[1;32m---> 35\u001b[1;33m                                    {'DecodeJpeg/contents:0': image_data})\n\u001b[0m\u001b[0;32m     36\u001b[0m             \u001b[0mpredictions\u001b[0m \u001b[1;33m=\u001b[0m \u001b[0mnp\u001b[0m\u001b[1;33m.\u001b[0m\u001b[0msqueeze\u001b[0m\u001b[1;33m(\u001b[0m\u001b[0mpredictions\u001b[0m\u001b[1;33m)\u001b[0m\u001b[1;33m\u001b[0m\u001b[0m\n\u001b[0;32m     37\u001b[0m \u001b[1;33m\u001b[0m\u001b[0m\n",
      "\u001b[1;32m/usr/local/lib/python2.7/dist-packages/tensorflow/python/client/session.pyc\u001b[0m in \u001b[0;36mrun\u001b[1;34m(self, fetches, feed_dict, options, run_metadata)\u001b[0m\n\u001b[0;32m    715\u001b[0m     \u001b[1;32mtry\u001b[0m\u001b[1;33m:\u001b[0m\u001b[1;33m\u001b[0m\u001b[0m\n\u001b[0;32m    716\u001b[0m       result = self._run(None, fetches, feed_dict, options_ptr,\n\u001b[1;32m--> 717\u001b[1;33m                          run_metadata_ptr)\n\u001b[0m\u001b[0;32m    718\u001b[0m       \u001b[1;32mif\u001b[0m \u001b[0mrun_metadata\u001b[0m\u001b[1;33m:\u001b[0m\u001b[1;33m\u001b[0m\u001b[0m\n\u001b[0;32m    719\u001b[0m         \u001b[0mproto_data\u001b[0m \u001b[1;33m=\u001b[0m \u001b[0mtf_session\u001b[0m\u001b[1;33m.\u001b[0m\u001b[0mTF_GetBuffer\u001b[0m\u001b[1;33m(\u001b[0m\u001b[0mrun_metadata_ptr\u001b[0m\u001b[1;33m)\u001b[0m\u001b[1;33m\u001b[0m\u001b[0m\n",
      "\u001b[1;32m/usr/local/lib/python2.7/dist-packages/tensorflow/python/client/session.pyc\u001b[0m in \u001b[0;36m_run\u001b[1;34m(self, handle, fetches, feed_dict, options, run_metadata)\u001b[0m\n\u001b[0;32m    913\u001b[0m     \u001b[1;32mif\u001b[0m \u001b[0mfinal_fetches\u001b[0m \u001b[1;32mor\u001b[0m \u001b[0mfinal_targets\u001b[0m\u001b[1;33m:\u001b[0m\u001b[1;33m\u001b[0m\u001b[0m\n\u001b[0;32m    914\u001b[0m       results = self._do_run(handle, final_targets, final_fetches,\n\u001b[1;32m--> 915\u001b[1;33m                              feed_dict_string, options, run_metadata)\n\u001b[0m\u001b[0;32m    916\u001b[0m     \u001b[1;32melse\u001b[0m\u001b[1;33m:\u001b[0m\u001b[1;33m\u001b[0m\u001b[0m\n\u001b[0;32m    917\u001b[0m       \u001b[0mresults\u001b[0m \u001b[1;33m=\u001b[0m \u001b[1;33m[\u001b[0m\u001b[1;33m]\u001b[0m\u001b[1;33m\u001b[0m\u001b[0m\n",
      "\u001b[1;32m/usr/local/lib/python2.7/dist-packages/tensorflow/python/client/session.pyc\u001b[0m in \u001b[0;36m_do_run\u001b[1;34m(self, handle, target_list, fetch_list, feed_dict, options, run_metadata)\u001b[0m\n\u001b[0;32m    963\u001b[0m     \u001b[1;32mif\u001b[0m \u001b[0mhandle\u001b[0m \u001b[1;32mis\u001b[0m \u001b[0mNone\u001b[0m\u001b[1;33m:\u001b[0m\u001b[1;33m\u001b[0m\u001b[0m\n\u001b[0;32m    964\u001b[0m       return self._do_call(_run_fn, self._session, feed_dict, fetch_list,\n\u001b[1;32m--> 965\u001b[1;33m                            target_list, options, run_metadata)\n\u001b[0m\u001b[0;32m    966\u001b[0m     \u001b[1;32melse\u001b[0m\u001b[1;33m:\u001b[0m\u001b[1;33m\u001b[0m\u001b[0m\n\u001b[0;32m    967\u001b[0m       return self._do_call(_prun_fn, self._session, handle, feed_dict,\n",
      "\u001b[1;32m/usr/local/lib/python2.7/dist-packages/tensorflow/python/client/session.pyc\u001b[0m in \u001b[0;36m_do_call\u001b[1;34m(self, fn, *args)\u001b[0m\n\u001b[0;32m    970\u001b[0m   \u001b[1;32mdef\u001b[0m \u001b[0m_do_call\u001b[0m\u001b[1;33m(\u001b[0m\u001b[0mself\u001b[0m\u001b[1;33m,\u001b[0m \u001b[0mfn\u001b[0m\u001b[1;33m,\u001b[0m \u001b[1;33m*\u001b[0m\u001b[0margs\u001b[0m\u001b[1;33m)\u001b[0m\u001b[1;33m:\u001b[0m\u001b[1;33m\u001b[0m\u001b[0m\n\u001b[0;32m    971\u001b[0m     \u001b[1;32mtry\u001b[0m\u001b[1;33m:\u001b[0m\u001b[1;33m\u001b[0m\u001b[0m\n\u001b[1;32m--> 972\u001b[1;33m       \u001b[1;32mreturn\u001b[0m \u001b[0mfn\u001b[0m\u001b[1;33m(\u001b[0m\u001b[1;33m*\u001b[0m\u001b[0margs\u001b[0m\u001b[1;33m)\u001b[0m\u001b[1;33m\u001b[0m\u001b[0m\n\u001b[0m\u001b[0;32m    973\u001b[0m     \u001b[1;32mexcept\u001b[0m \u001b[0merrors\u001b[0m\u001b[1;33m.\u001b[0m\u001b[0mOpError\u001b[0m \u001b[1;32mas\u001b[0m \u001b[0me\u001b[0m\u001b[1;33m:\u001b[0m\u001b[1;33m\u001b[0m\u001b[0m\n\u001b[0;32m    974\u001b[0m       \u001b[0mmessage\u001b[0m \u001b[1;33m=\u001b[0m \u001b[0mcompat\u001b[0m\u001b[1;33m.\u001b[0m\u001b[0mas_text\u001b[0m\u001b[1;33m(\u001b[0m\u001b[0me\u001b[0m\u001b[1;33m.\u001b[0m\u001b[0mmessage\u001b[0m\u001b[1;33m)\u001b[0m\u001b[1;33m\u001b[0m\u001b[0m\n",
      "\u001b[1;32m/usr/local/lib/python2.7/dist-packages/tensorflow/python/client/session.pyc\u001b[0m in \u001b[0;36m_run_fn\u001b[1;34m(session, feed_dict, fetch_list, target_list, options, run_metadata)\u001b[0m\n\u001b[0;32m    952\u001b[0m         return tf_session.TF_Run(session, options,\n\u001b[0;32m    953\u001b[0m                                  \u001b[0mfeed_dict\u001b[0m\u001b[1;33m,\u001b[0m \u001b[0mfetch_list\u001b[0m\u001b[1;33m,\u001b[0m \u001b[0mtarget_list\u001b[0m\u001b[1;33m,\u001b[0m\u001b[1;33m\u001b[0m\u001b[0m\n\u001b[1;32m--> 954\u001b[1;33m                                  status, run_metadata)\n\u001b[0m\u001b[0;32m    955\u001b[0m \u001b[1;33m\u001b[0m\u001b[0m\n\u001b[0;32m    956\u001b[0m     \u001b[1;32mdef\u001b[0m \u001b[0m_prun_fn\u001b[0m\u001b[1;33m(\u001b[0m\u001b[0msession\u001b[0m\u001b[1;33m,\u001b[0m \u001b[0mhandle\u001b[0m\u001b[1;33m,\u001b[0m \u001b[0mfeed_dict\u001b[0m\u001b[1;33m,\u001b[0m \u001b[0mfetch_list\u001b[0m\u001b[1;33m)\u001b[0m\u001b[1;33m:\u001b[0m\u001b[1;33m\u001b[0m\u001b[0m\n",
      "\u001b[1;31mKeyboardInterrupt\u001b[0m: "
     ]
    }
   ],
   "source": [
    "tf.reset_default_graph()\n",
    "tags = ['boat', 'mountain', 'river', 'bridge']\n",
    "categories = ['landscapes', 'nature']\n",
    "#tags = ['boat']\n",
    "for c in categories:\n",
    "    for tag in tags:\n",
    "        res, labels = run_inference_on_images(os.listdir(ROOT_DIR + c), c, tag)\n",
    "        with open('/data/captioning/bm_tagging_' + c + '_' + tag + '.json', 'w') as outfile:\n",
    "            json.dump(res, outfile)"
   ]
  },
  {
   "cell_type": "code",
   "execution_count": 8,
   "metadata": {
    "collapsed": false
   },
   "outputs": [],
   "source": [
    "\n",
    "c = 'test'\n",
    "tag = 'test'\n",
    "res = ['test']\n",
    "with open('/data/captioning/bm_tagging_' + c + '_' + tag + '.json', 'w') as outfile:\n",
    "    json.dump(res, outfile)"
   ]
  },
  {
   "cell_type": "code",
   "execution_count": null,
   "metadata": {
    "collapsed": true
   },
   "outputs": [],
   "source": []
  }
 ],
 "metadata": {
  "kernelspec": {
   "display_name": "Python 2",
   "language": "python",
   "name": "python2"
  },
  "language_info": {
   "codemirror_mode": {
    "name": "ipython",
    "version": 2
   },
   "file_extension": ".py",
   "mimetype": "text/x-python",
   "name": "python",
   "nbconvert_exporter": "python",
   "pygments_lexer": "ipython2",
   "version": "2.7.6"
  }
 },
 "nbformat": 4,
 "nbformat_minor": 0
}
