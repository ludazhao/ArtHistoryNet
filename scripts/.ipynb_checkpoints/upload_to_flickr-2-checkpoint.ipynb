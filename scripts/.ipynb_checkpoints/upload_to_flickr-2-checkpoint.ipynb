{
 "cells": [
  {
   "cell_type": "markdown",
   "metadata": {},
   "source": [
    "# Upload to flickr"
   ]
  },
  {
   "cell_type": "code",
   "execution_count": null,
   "metadata": {
    "collapsed": false
   },
   "outputs": [],
   "source": [
    "import os.path\n",
    "import re\n",
    "import sys\n",
    "import tarfile\n",
    "import time\n",
    "import json\n",
    "# import multiprocessing as mp\n",
    "import itertools\n",
    "from collections import Counter\n",
    "\n",
    "# import tensorflow.python.platform\n",
    "# from six.moves import urllib\n",
    "import numpy as np\n",
    "# import tensorflow as tf\n",
    "# import h5py\n",
    "import glob\n",
    "import cPickle as pickle\n",
    "# import matplotlib as mpl\n",
    "# import matplotlib.pyplot as plt\n",
    "# import matplotlib.image as mpimg\n",
    "#from tensorflow.python.platform import gfile\n",
    "import collections\n",
    "\n",
    "#from run_inference import predict_star, predict\n",
    "# import pandas as pd\n",
    "# import seaborn as sns\n",
    "\n",
    "%matplotlib inline\n",
    "%load_ext autoreload\n",
    "%autoreload 2"
   ]
  },
  {
   "cell_type": "code",
   "execution_count": null,
   "metadata": {
    "collapsed": true
   },
   "outputs": [],
   "source": [
    "# need to map the 20 nearest neighbors also"
   ]
  },
  {
   "cell_type": "markdown",
   "metadata": {},
   "source": [
    "## Login and example of using Flickr API"
   ]
  },
  {
   "cell_type": "code",
   "execution_count": null,
   "metadata": {
    "collapsed": true
   },
   "outputs": [],
   "source": [
    "import flickrapi"
   ]
  },
  {
   "cell_type": "code",
   "execution_count": null,
   "metadata": {
    "collapsed": false
   },
   "outputs": [],
   "source": [
    "api_key = u'3fd904198236c855140fb804a819dcab'\n",
    "api_secret = u'e943b596588106ff'\n",
    "\n",
    "flickr = flickrapi.FlickrAPI(api_key, api_secret, format='json')\n",
    "if not flickr.token_valid(perms=u'write'):\n",
    "\n",
    "    # Get a request token\n",
    "    flickr.get_request_token(oauth_callback='oob')\n",
    "\n",
    "    # Open a browser at the authentication URL. Do this however\n",
    "    # you want, as long as the user visits that URL.\n",
    "    authorize_url = flickr.auth_url(perms=u'write')\n",
    "    print authorize_url \n",
    "    \n",
    "    # Get the verifier code from the user. Do this however you\n",
    "    # want, as long as the user gives the application the code.\n",
    "    verifier = unicode(raw_input('Verifier code: '))\n",
    "\n",
    "    # Trade the request token for an access token\n",
    "    flickr.get_access_token(verifier)"
   ]
  },
  {
   "cell_type": "code",
   "execution_count": 4,
   "metadata": {
    "collapsed": false
   },
   "outputs": [
    {
     "data": {
      "text/plain": [
       "'{\"tags\":{\"tag\":[{\"author\":\"12403504@N02\",\"raw\":\"metalworking\",\"machine_tag\":0,\"_content\":\"metalworking\",\"authorname\":\"The British Library\",\"full_tag_id\":\"12383156-11303139385-134180\",\"id\":\"134180\"}]},\"stat\":\"ok\"}'"
      ]
     },
     "execution_count": 4,
     "metadata": {},
     "output_type": "execute_result"
    }
   ],
   "source": [
    "flickr.photos.addTags(photo_id=11303139385, tags=\"metalworking\")"
   ]
  },
  {
   "cell_type": "code",
   "execution_count": 43,
   "metadata": {
    "collapsed": false
   },
   "outputs": [
    {
     "data": {
      "text/plain": [
       "'{\"stat\":\"ok\"}'"
      ]
     },
     "execution_count": 43,
     "metadata": {},
     "output_type": "execute_result"
    }
   ],
   "source": [
    "flickr.photos.removeTag(photo_id=11303139385, tag_id=\"12383156-11303139385-335238\")"
   ]
  },
  {
   "cell_type": "code",
   "execution_count": 50,
   "metadata": {
    "collapsed": false
   },
   "outputs": [
    {
     "name": "stdout",
     "output_type": "stream",
     "text": [
      "bldigital 12383156-11303139385-137769045\n",
      "date1895 12383156-11303139385-150790816\n",
      "pubplacenewyorklondon 12383156-11303139385-147784745\n",
      "publicdomain 12383156-11303139385-136904\n",
      "sysnum002884871 12383156-11303139385-163219536\n",
      "petersedwarddyer 12383156-11303139385-162949425\n",
      "medium 12383156-11303139385-20924\n",
      "vol0 12383156-11303139385-21849367\n",
      "page360 12383156-11303139385-49501814\n",
      "sherlocknet:tag=copper 12383156-11303139385-316817865\n",
      "sherlocknet:tag=smelting 12383156-11303139385-316817885\n",
      "copper 12383156-11303139385-17112\n",
      "smelting 12383156-11303139385-335238\n",
      "slag 12383156-11303139385-5195\n",
      "metal 12383156-11303139385-1042\n",
      "sherlocknet:tag=inch 12383156-11303139385-301075764\n",
      "sherlocknet:tag=mine 12383156-11303139385-307188051\n",
      "sherlocknet:tag=vertices 12383156-11303139385-304425810\n",
      "sherlocknet:tag=lamp 12383156-11303139385-307145032\n",
      "sherlocknet:tag=plate 12383156-11303139385-307188421\n",
      "sherlocknet:tag=metal 12383156-11303139385-301100043\n",
      "sherlocknet:tag=shaft 12383156-11303139385-301076064\n",
      "sherlocknet:tag=upper 12383156-11303139385-316818175\n",
      "sherlocknet:tag=cylinder 12383156-11303139385-316821905\n",
      "sherlocknet:tag=outer 12383156-11303139385-307191061\n",
      "sherlocknet:tag=thick 12383156-11303139385-316259926\n",
      "sherlocknet:tag=posit 12383156-11303139385-307187841\n",
      "sherlocknet:tag=gauze 12383156-11303139385-307145172\n",
      "sherlocknet:tag=main 12383156-11303139385-316818185\n",
      "sherlocknet:category=diagrams 12383156-11303139385-307190341\n",
      "metalworking 12383156-11303139385-134180\n"
     ]
    }
   ],
   "source": [
    "old_tags = json.loads(flickr.tags.getListPhoto(photo_id=11303139385))[\"photo\"][\"tags\"][\"tag\"]\n",
    "for tag in old_tags:\n",
    "       print tag[\"_content\"], tag[\"id\"]"
   ]
  },
  {
   "cell_type": "markdown",
   "metadata": {},
   "source": [
    "## Adding tags"
   ]
  },
  {
   "cell_type": "code",
   "execution_count": 29,
   "metadata": {
    "collapsed": true
   },
   "outputs": [],
   "source": [
    "# mapping from index to category\n",
    "(image_metadata, book_metadata, image_to_idx) = pickle.load(open(\"/data/all_metadata_1M_tags.pkl\", 'r'))"
   ]
  },
  {
   "cell_type": "code",
   "execution_count": 30,
   "metadata": {
    "collapsed": false
   },
   "outputs": [
    {
     "data": {
      "text/plain": [
       "970218"
      ]
     },
     "execution_count": 30,
     "metadata": {},
     "output_type": "execute_result"
    }
   ],
   "source": [
    "# mapping from index to URL\n",
    "(idx_to_url, blid_to_url) = pickle.load(open(\"/data/image_to_url_mappings.pkl\"))\n",
    "len(idx_to_url.keys())"
   ]
  },
  {
   "cell_type": "code",
   "execution_count": 31,
   "metadata": {
    "collapsed": false
   },
   "outputs": [
    {
     "name": "stdout",
     "output_type": "stream",
     "text": [
      "/data/nearest_neighbor_tagging/tags/animals_final.pkl\n",
      "/data/nearest_neighbor_tagging/tags/diagrams_final.pkl\n",
      "/data/nearest_neighbor_tagging/tags/architecture_final.pkl\n",
      "/data/nearest_neighbor_tagging/tags/text_final.pkl\n",
      "/data/nearest_neighbor_tagging/tags/landscapes_final.pkl\n",
      "/data/nearest_neighbor_tagging/tags/maps_final.pkl\n",
      "/data/nearest_neighbor_tagging/tags/nature_final.pkl\n",
      "/data/nearest_neighbor_tagging/tags/people_final.pkl\n",
      "/data/nearest_neighbor_tagging/tags/objects_final.pkl\n",
      "/data/nearest_neighbor_tagging/tags/seals_final.pkl\n"
     ]
    }
   ],
   "source": [
    "tag_files = glob.glob(\"/data/nearest_neighbor_tagging/tags/*_final.pkl\")\n",
    "for fn in tag_files:\n",
    "    print fn"
   ]
  },
  {
   "cell_type": "code",
   "execution_count": null,
   "metadata": {
    "collapsed": false
   },
   "outputs": [
    {
     "name": "stdout",
     "output_type": "stream",
     "text": [
      "animals\n",
      "0\n"
     ]
    }
   ],
   "source": [
    "tag_files = glob.glob(\"/data/nearest_neighbor_tagging/tags/*_final.pkl\")\n",
    "for fn in tag_files:\n",
    "    category = os.path.basename(fn)[:-10]\n",
    "    print category\n",
    "    if category == \"people\" or category == \"animals\":\n",
    "        category = \"organism\"\n",
    "    if category == \"diagrams\" or category == \"architecture\": continue\n",
    "    img_to_tag = pickle.load(open(fn, 'r'))\n",
    "    ctr = 0\n",
    "    for img in img_to_tag:\n",
    "        if ctr % 2000 == 0: print ctr\n",
    "        ctr += 1\n",
    "        flickr_id = int(idx_to_url[img])\n",
    "        if category == \"organism\" and ctr < 1000:\n",
    "            old_tags = json.loads(flickr.tags.getListPhoto(photo_id=flickr_id))[\"photo\"][\"tags\"][\"tag\"]\n",
    "            for tag in old_tags:\n",
    "                if tag[\"_content\"] == \"sherlocknet:category=mammal\":\n",
    "                    flickr.photos.removeTag(photo_id=flickr_id, tag_id=tag[\"id\"])\n",
    "        our_tags = ', '.join([\"sherlocknet:tag=\\\"{}\\\"\".format(tag[0]) for tag in img_to_tag[img]])\n",
    "        our_tags = our_tags + ', sherlocknet:category=\\\"{}\\\"'.format(category)\n",
    "        flickr.photos.addTags(photo_id=flickr_id, tags=our_tags)"
   ]
  },
  {
   "cell_type": "code",
   "execution_count": 30,
   "metadata": {
    "collapsed": false
   },
   "outputs": [
    {
     "name": "stdout",
     "output_type": "stream",
     "text": [
      "Verifier code: 2-3\n",
      "2-3\n"
     ]
    }
   ],
   "source": [
    "verifier = str(raw_input('Verifier code: '))\n",
    "print verifier"
   ]
  },
  {
   "cell_type": "code",
   "execution_count": 53,
   "metadata": {
    "collapsed": false
   },
   "outputs": [],
   "source": [
    "        if category == \"organism\" and ctr < 1000:\n",
    "            old_tags = json.loads(flickr.tags.getListPhoto(photo_id=flickr_id))[\"photo\"][\"tags\"][\"tag\"]\n",
    "            for tag in old_tags:\n",
    "                if tag[\"_content\"] == \"sherlocknet:category=mammal\":\n",
    "                    flickr.photos.removeTag(photo_id=flickr_id, tag_id=tag[\"id\"])\n",
    "        our_tags = ', '.join([\"sherlocknet:tag=\\\"{}\\\"\".format(tag[0]) for tag in img_to_tag[img]])\n",
    "        our_tags = our_tags + ', sherlocknet:category=\\\"{}\\\"'.format(category)\n",
    "        flickr.photos.addTags(photo_id=flickr_id, tags=our_tags)"
   ]
  }
 ],
 "metadata": {
  "kernelspec": {
   "display_name": "Python 2",
   "language": "python",
   "name": "python2"
  },
  "language_info": {
   "codemirror_mode": {
    "name": "ipython",
    "version": 2
   },
   "file_extension": ".py",
   "mimetype": "text/x-python",
   "name": "python",
   "nbconvert_exporter": "python",
   "pygments_lexer": "ipython2",
   "version": "2.7.6"
  }
 },
 "nbformat": 4,
 "nbformat_minor": 0
}
