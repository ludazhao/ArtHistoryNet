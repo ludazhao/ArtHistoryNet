{
 "cells": [
  {
   "cell_type": "code",
   "execution_count": 7,
   "metadata": {
    "collapsed": true
   },
   "outputs": [],
   "source": [
    "import cPickle as pickle\n",
    "import glob\n",
    "import pandas as pd\n",
    "import csv\n",
    "csv.register_dialect(\"textdialect\", delimiter='\\t')"
   ]
  },
  {
   "cell_type": "code",
   "execution_count": 3,
   "metadata": {
    "collapsed": false
   },
   "outputs": [
    {
     "data": {
      "text/plain": [
       "770"
      ]
     },
     "execution_count": 3,
     "metadata": {},
     "output_type": "execute_result"
    }
   ],
   "source": [
    "folder = \"/Volumes/My Passport/MechanicalCuratorReleaseData/imagedirectory/imagedirectory-master\"\n",
    "files = glob.glob(folder + \"/*.tsv\")\n",
    "len(files)"
   ]
  },
  {
   "cell_type": "code",
   "execution_count": 8,
   "metadata": {
    "collapsed": false
   },
   "outputs": [],
   "source": [
    "(image_metadata, book_metadata, image_to_idx) = pickle.load(open(\"/Volumes/My Passport/project_data/all_metadata_1M_tags.pkl\", 'r'))"
   ]
  },
  {
   "cell_type": "code",
   "execution_count": 12,
   "metadata": {
    "collapsed": false
   },
   "outputs": [
    {
     "data": {
      "text/plain": [
       "['002270696_0_000024_1_',\n",
       " '000744317_03_000239_2_',\n",
       " '002483175_09_000298_1_',\n",
       " '000459452_05_000382_1_',\n",
       " '003055019_02_000065_1_',\n",
       " '001997988_0_000319_1_',\n",
       " '003157844_0_000187_1_',\n",
       " '000787943_0_000038_2_',\n",
       " '003628790_03_000640_1_',\n",
       " '002819694_01_000578_2_',\n",
       " '001968594_0_000363_1_',\n",
       " '002126093_0_000047_1_',\n",
       " '002715813_0_000340_1_',\n",
       " '002668463_02_000377_1_',\n",
       " '001967527_0_000423_1_',\n",
       " '002364436_0_000775_1_',\n",
       " '003529115_04_000399_1_',\n",
       " '000443745_0_000205_1_',\n",
       " '001564165_02_000554_1_',\n",
       " '000890311_02_000479_1_']"
      ]
     },
     "execution_count": 12,
     "metadata": {},
     "output_type": "execute_result"
    }
   ],
   "source": [
    "image_to_idx.keys()[:20]"
   ]
  },
  {
   "cell_type": "code",
   "execution_count": 14,
   "metadata": {
    "collapsed": false
   },
   "outputs": [
    {
     "name": "stdout",
     "output_type": "stream",
     "text": [
      "0\n",
      "50\n",
      "100\n",
      "150\n",
      "200\n",
      "250\n",
      "300\n",
      "350\n",
      "400\n",
      "450\n",
      "500\n",
      "550\n",
      "600\n",
      "650\n",
      "700\n",
      "750\n"
     ]
    }
   ],
   "source": [
    "img_to_flickrid = {}\n",
    "ctr = 0\n",
    "for fn in files:\n",
    "    if ctr % 50 == 0: print ctr\n",
    "    ctr += 1\n",
    "    with open(fn, 'r') as ifile:\n",
    "        reader = csv.reader(ifile, 'textdialect')\n",
    "        reader.next()\n",
    "        \n",
    "        for row in reader:\n",
    "            vol = row[0]\n",
    "            vol = vol if vol == '0' else vol.zfill(2)\n",
    "            \n",
    "            book = row[6].zfill(8)\n",
    "            page = row[11].zfill(6)\n",
    "            image = row[10]\n",
    "            \n",
    "            name = '{}_{}_{}_{}_'.format(book, vol, page, image)\n",
    "            flickrid = row[12]\n",
    "            img_to_flickrid[name] = flickrid"
   ]
  },
  {
   "cell_type": "code",
   "execution_count": 15,
   "metadata": {
    "collapsed": false
   },
   "outputs": [
    {
     "data": {
      "text/plain": [
       "1018433"
      ]
     },
     "execution_count": 15,
     "metadata": {},
     "output_type": "execute_result"
    }
   ],
   "source": [
    "len(img_to_flickrid.keys())"
   ]
  },
  {
   "cell_type": "code",
   "execution_count": 17,
   "metadata": {
    "collapsed": false
   },
   "outputs": [
    {
     "name": "stdout",
     "output_type": "stream",
     "text": [
      "970204\n"
     ]
    }
   ],
   "source": [
    "ctr = 0\n",
    "for img in image_to_idx:\n",
    "    if img in img_to_flickrid: ctr += 1\n",
    "    else:\n",
    "        print img\n",
    "print ctr"
   ]
  },
  {
   "cell_type": "code",
   "execution_count": 21,
   "metadata": {
    "collapsed": false
   },
   "outputs": [
    {
     "name": "stdout",
     "output_type": "stream",
     "text": [
      "8 000840022_0_000009_1_ 10997229003\n",
      "9 000840022_0_000008_1_ 10997098106\n",
      "26 001080196_0_000012_1_ 10997096956\n",
      "5284 001733931_0_000029_1_ 11218946265\n",
      "29257 002330539_0_000455_1_ 11001940955\n",
      "274890 001406129_0_000006_1_ 11060022194\n",
      "549362 003316541_0_000276_1_ 11306459993\n",
      "549363 003316541_0_000276_1_ 11306459993\n",
      "893457 000242750_01_000598_1_ 11146512634\n",
      "894229 000242750_01_000161_3_ 11146316613\n",
      "896773 000242750_01_000600_1_ 11145125006\n",
      "897727 000242750_01_000202_1_ 11144629685\n",
      "897979 000242750_01_000161_2_ 11144546526\n",
      "898254 000242750_01_000556_1_ 11144379275\n",
      "970204\n"
     ]
    }
   ],
   "source": [
    "a = set()\n",
    "for img in image_metadata:\n",
    "    if image_metadata[img][0] in a: \n",
    "        print img, image_metadata[img][0], img_to_flickrid[image_metadata[img][0]]\n",
    "    a.add(image_metadata[img][0])\n",
    "print len(a)"
   ]
  },
  {
   "cell_type": "markdown",
   "metadata": {},
   "source": [
    "So apparently 14 images are duplicates of others -- this is ok"
   ]
  },
  {
   "cell_type": "code",
   "execution_count": 23,
   "metadata": {
    "collapsed": false
   },
   "outputs": [],
   "source": [
    "idx_to_url = {}\n",
    "blid_to_url = {}\n",
    "for img in image_metadata:\n",
    "    blid = image_metadata[img][0]\n",
    "    url = img_to_flickrid[blid]\n",
    "    idx_to_url[img] = url\n",
    "    blid_to_url[blid] = url"
   ]
  },
  {
   "cell_type": "code",
   "execution_count": 25,
   "metadata": {
    "collapsed": false
   },
   "outputs": [],
   "source": [
    "pickle.dump((idx_to_url, blid_to_url), open(\"/Users/bdo/Documents/Projects/SherlockNet/data/image_to_url_mappings.pkl\", 'w'))"
   ]
  }
 ],
 "metadata": {
  "kernelspec": {
   "display_name": "Python 2",
   "language": "python",
   "name": "python2"
  },
  "language_info": {
   "codemirror_mode": {
    "name": "ipython",
    "version": 2
   },
   "file_extension": ".py",
   "mimetype": "text/x-python",
   "name": "python",
   "nbconvert_exporter": "python",
   "pygments_lexer": "ipython2",
   "version": "2.7.11"
  }
 },
 "nbformat": 4,
 "nbformat_minor": 0
}
