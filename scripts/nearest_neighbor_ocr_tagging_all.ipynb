{
 "cells": [
  {
   "cell_type": "markdown",
   "metadata": {},
   "source": [
    "# Using nearest neighbor OCR data to expand tag sets"
   ]
  },
  {
   "cell_type": "code",
   "execution_count": 2,
   "metadata": {
    "collapsed": true
   },
   "outputs": [],
   "source": [
    "import os.path\n",
    "import re\n",
    "import sys\n",
    "import tarfile\n",
    "import time\n",
    "import multiprocessing as mp\n",
    "import itertools\n",
    "\n",
    "import tensorflow.python.platform\n",
    "from six.moves import urllib\n",
    "import numpy as np\n",
    "import tensorflow as tf\n",
    "import h5py\n",
    "import glob\n",
    "import cPickle as pickle\n",
    "import matplotlib as mpl\n",
    "import matplotlib.pyplot as plt\n",
    "import matplotlib.image as mpimg\n",
    "from tensorflow.python.platform import gfile\n",
    "\n",
    "from run_inference import predict_star, predict\n",
    "import pandas as pd\n",
    "import seaborn as sns\n",
    "\n",
    "%matplotlib inline\n",
    "%load_ext autoreload\n",
    "%autoreload 2"
   ]
  },
  {
   "cell_type": "markdown",
   "metadata": {},
   "source": [
    "## Getting pool3 scores"
   ]
  },
  {
   "cell_type": "code",
   "execution_count": 3,
   "metadata": {
    "collapsed": true
   },
   "outputs": [],
   "source": [
    "def create_graph(pb_file):\n",
    "    \"\"\"\"Creates a graph from saved GraphDef file and returns a Graph object.\n",
    "    Returns:\n",
    "    Graph holding the trained Inception network.\n",
    "    \"\"\"\n",
    "    model_filename = pb_file\n",
    "    with gfile.FastGFile(model_filename, 'rb') as f:\n",
    "        graph_def = tf.GraphDef()\n",
    "        graph_def.ParseFromString(f.read())\n",
    "        tf.import_graph_def(graph_def, name='')"
   ]
  },
  {
   "cell_type": "code",
   "execution_count": 4,
   "metadata": {
    "collapsed": false
   },
   "outputs": [],
   "source": [
    "#create_graph(\"/data/retrain_manualtags1/output_graphfinal.pb\")\n",
    "create_graph(\"/data/classify_image_graph_def.pb\")\n",
    "sess = tf.Session()"
   ]
  },
  {
   "cell_type": "code",
   "execution_count": 5,
   "metadata": {
    "collapsed": false
   },
   "outputs": [
    {
     "name": "stdout",
     "output_type": "stream",
     "text": [
      "(12,)\n",
      "(2048, 12)\n"
     ]
    }
   ],
   "source": [
    "params = pickle.load(open(\"/data/10k_aug_outputs/output_params_lr1e-3_adam9800.pkl\", 'r'))\n",
    "fw = params[\"final_weights\"]\n",
    "fb = params[\"final_biases\"]\n",
    "print fb.shape\n",
    "print fw.shape"
   ]
  },
  {
   "cell_type": "code",
   "execution_count": 6,
   "metadata": {
    "collapsed": true
   },
   "outputs": [],
   "source": [
    "# from http://www.socouldanyone.com/2013/03/converting-grayscale-to-rgb-with-numpy.html\n",
    "def to_rgb(im):\n",
    "    w, h = im.shape[:2]\n",
    "    ret = np.empty((w, h, 3), dtype=np.uint8)\n",
    "    ret[:, :, 0] = im\n",
    "    ret[:, :, 1] = im\n",
    "    ret[:, :, 2] = im\n",
    "    return ret\n",
    "\n",
    "# from http://www.socouldanyone.com/2013/03/converting-grayscale-to-rgb-with-numpy.html\n",
    "def to_rgbs(im):\n",
    "    n, w, h = im.shape[:3]\n",
    "    ret = np.empty((n, w, h, 3), dtype=np.uint8)\n",
    "    ret[:, :, :, 0] = im[:,:,:,0]\n",
    "    ret[:, :, :, 1] = im[:,:,:,0]\n",
    "    ret[:, :, :, 2] = im[:,:,:,0]\n",
    "    return ret\n",
    "\n",
    "# from https://gist.github.com/yusugomori/4462221\n",
    "def softmax(x):\n",
    "    e = np.exp(x - np.max(x))  # prevent overflow\n",
    "    if e.ndim == 1:\n",
    "        return e / np.sum(e, axis=0)\n",
    "    else:  \n",
    "        return e / np.array([np.sum(e, axis=1)]).T  # ndim = 2"
   ]
  },
  {
   "cell_type": "code",
   "execution_count": 3,
   "metadata": {
    "collapsed": false
   },
   "outputs": [],
   "source": [
    "# read in hdf5 file\n",
    "image_hdf5 = h5py.File('/data/image_data.hdf5','r')\n",
    "(image_metadata, book_metadata, image_to_idx) = pickle.load(open(\"/data/all_metadata_1M_tags.pkl\", 'r'))"
   ]
  },
  {
   "cell_type": "code",
   "execution_count": 20,
   "metadata": {
    "collapsed": false
   },
   "outputs": [
    {
     "data": {
      "text/plain": [
       "['001760870_01_000259_1_', '1833', 'p', 'people']"
      ]
     },
     "execution_count": 20,
     "metadata": {},
     "output_type": "execute_result"
    }
   ],
   "source": [
    "image_metadata[43000]"
   ]
  },
  {
   "cell_type": "code",
   "execution_count": 4,
   "metadata": {
    "collapsed": false
   },
   "outputs": [
    {
     "data": {
      "text/plain": [
       "['002270696_0_000024_1_',\n",
       " '000744317_03_000239_2_',\n",
       " '002483175_09_000298_1_',\n",
       " '000459452_05_000382_1_',\n",
       " '003055019_02_000065_1_',\n",
       " '001997988_0_000319_1_',\n",
       " '003157844_0_000187_1_',\n",
       " '001656230_0_000262_1_',\n",
       " '000787943_0_000038_2_',\n",
       " '003628790_03_000640_1_',\n",
       " '002819694_01_000578_2_',\n",
       " '002107587_0_000190_1_',\n",
       " '002126093_0_000047_1_',\n",
       " '002715813_0_000340_1_',\n",
       " '002668463_02_000377_1_',\n",
       " '001967527_0_000423_1_',\n",
       " '002364436_0_000775_1_',\n",
       " '003529115_04_000399_1_',\n",
       " '000443745_0_000205_1_',\n",
       " '001564165_02_000554_1_',\n",
       " '000890311_02_000479_1_',\n",
       " '000931556_0_000672_1_',\n",
       " '001493736_02_000095_1_',\n",
       " '000517253_0_000104_1_',\n",
       " '001544493_0_000010_1_',\n",
       " '003112345_0_000168_1_',\n",
       " '002706361_0_001153_1_',\n",
       " '001529131_0_000288_2_',\n",
       " '002208827_0_000091_1_',\n",
       " '000772834_0_000405_1_',\n",
       " '001384296_0_000214_1_',\n",
       " '002810116_0_000538_1_',\n",
       " '003228212_01_000334_1_',\n",
       " '003555115_01_000435_1_',\n",
       " '000879248_0_000213_1_',\n",
       " '003952824_02_000563_1_',\n",
       " '001245481_0_000002_1_',\n",
       " '001975928_01_000463_1_',\n",
       " '000882992_0_000071_1_',\n",
       " '000069084_0_000204_1_',\n",
       " '000931072_06_000298_1_',\n",
       " '004159563_01_000525_1_',\n",
       " '001913884_01_000509_1_',\n",
       " '002168772_0_000481_1_',\n",
       " '002732343_02_000194_1_',\n",
       " '003958589_03_000561_1_',\n",
       " '003420059_0_000281_1_',\n",
       " '002107587_0_000200_1_',\n",
       " '000654971_02_000303_1_',\n",
       " '003555115_04_000432_1_']"
      ]
     },
     "execution_count": 4,
     "metadata": {},
     "output_type": "execute_result"
    }
   ],
   "source": [
    "image_to_idx.keys()[:50]"
   ]
  },
  {
   "cell_type": "markdown",
   "metadata": {},
   "source": [
    "Here we calculate scores for all images"
   ]
  },
  {
   "cell_type": "code",
   "execution_count": null,
   "metadata": {
    "collapsed": false
   },
   "outputs": [
    {
     "name": "stdout",
     "output_type": "stream",
     "text": [
      "0\n"
     ]
    }
   ],
   "source": [
    "indices = xrange(970218)\n",
    "idx_to_pool3_scores = {}\n",
    "pool3_tensor = sess.graph.get_tensor_by_name('pool_3:0')\n",
    "\n",
    "for idx in indices:\n",
    "    if idx % 5000 == 0: \n",
    "        print idx\n",
    "        pickle.dump(idx_to_pool3_scores, open(\"/data/nearest_neighbor_tagging/pool3_softmax_scores_new/scores_{}.pkl\".format(idx), 'w'))\n",
    "        idx_to_pool3_scores = {}\n",
    "    chk = idx/5000\n",
    "    chunk = \"Chunk\" + str(chk)\n",
    "    i = idx % 5000\n",
    "    if chunk not in image_hdf5: continue\n",
    "\n",
    "    a = [to_rgb(image_hdf5[chunk][i][:,:,0])]\n",
    "    predictions = sess.run(pool3_tensor, {'ExpandDims:0': a})[:,0,0,:]\n",
    "    idx_to_pool3_scores[idx] = predictions[0]\n",
    "\n",
    "pickle.dump(idx_to_pool3_scores, open(\"/data/nearest_neighbor_tagging/pool3_softmax_scores_new/scores_{}.pkl\".format(idx), 'w'))"
   ]
  },
  {
   "cell_type": "markdown",
   "metadata": {},
   "source": [
    "## Obtain noun phrases"
   ]
  },
  {
   "cell_type": "code",
   "execution_count": 4,
   "metadata": {
    "collapsed": true
   },
   "outputs": [],
   "source": [
    "ocr_hdf5 = h5py.File('/data/ocr_data.hdf5','r')"
   ]
  },
  {
   "cell_type": "code",
   "execution_count": 5,
   "metadata": {
    "collapsed": false
   },
   "outputs": [],
   "source": [
    "# coding=UTF-8\n",
    "import nltk\n",
    "from nltk.corpus import brown\n",
    "\n",
    "# This is a fast and simple noun phrase extractor (based on NLTK)\n",
    "# Feel free to use it, just keep a link back to this post\n",
    "# http://thetokenizer.com/2013/05/09/efficient-way-to-extract-the-main-topics-of-a-sentence/\n",
    "# Create by Shlomi Babluki\n",
    "# May, 2013\n",
    "\n",
    "# This is our fast Part of Speech tagger\n",
    "#############################################################################\n",
    "brown_train = brown.tagged_sents(categories='news')\n",
    "regexp_tagger = nltk.RegexpTagger(\n",
    "    [(r'^-?[0-9]+(.[0-9]+)?$', 'CD'),\n",
    "     (r'(-|:|;)$', ':'),\n",
    "     (r'\\'*$', 'MD'),\n",
    "     (r'(The|the|A|a|An|an)$', 'AT'),\n",
    "     (r'.*able$', 'JJ'),\n",
    "     (r'^[A-Z].*$', 'NNP'),\n",
    "     (r'.*ness$', 'NN'),\n",
    "     (r'.*ly$', 'RB'),\n",
    "     (r'.*s$', 'NNS'),\n",
    "     (r'.*ing$', 'VBG'),\n",
    "     (r'.*ed$', 'VBD'),\n",
    "     (r'.*', 'NN')\n",
    "])\n",
    "unigram_tagger = nltk.UnigramTagger(brown_train, backoff=regexp_tagger)\n",
    "bigram_tagger = nltk.BigramTagger(brown_train, backoff=unigram_tagger)\n",
    "#############################################################################\n",
    "\n",
    "\n",
    "# This is our semi-CFG; Extend it according to your own needs\n",
    "#############################################################################\n",
    "cfg = {}\n",
    "cfg[\"NNP+NNP\"] = \"NNP\"\n",
    "cfg[\"NN+NN\"] = \"NNI\"\n",
    "cfg[\"NNI+NN\"] = \"NNI\"\n",
    "cfg[\"JJ+JJ\"] = \"JJ\"\n",
    "cfg[\"JJ+NN\"] = \"NNI\"\n",
    "#############################################################################\n",
    "\n",
    "\n",
    "class NPExtractor(object):\n",
    "\n",
    "    def __init__(self, sentence):\n",
    "        self.sentence = sentence\n",
    "\n",
    "    # Split the sentence into singlw words/tokens\n",
    "    def tokenize_sentence(self, sentence):\n",
    "        tokens = nltk.word_tokenize(sentence)\n",
    "        return tokens\n",
    "\n",
    "    # Normalize brown corpus' tags (\"NN\", \"NN-PL\", \"NNS\" > \"NN\")\n",
    "    def normalize_tags(self, tagged):\n",
    "        n_tagged = []\n",
    "        for t in tagged:\n",
    "            if t[1] == \"NP-TL\" or t[1] == \"NP\":\n",
    "                n_tagged.append((t[0], \"NNP\"))\n",
    "                continue\n",
    "            if t[1].endswith(\"-TL\"):\n",
    "                n_tagged.append((t[0], t[1][:-3]))\n",
    "                continue\n",
    "            if t[1].endswith(\"S\"):\n",
    "                n_tagged.append((t[0], t[1][:-1]))\n",
    "                continue\n",
    "            n_tagged.append((t[0], t[1]))\n",
    "        return n_tagged\n",
    "\n",
    "    # Extract the main topics from the sentence\n",
    "    def extract(self):\n",
    "\n",
    "        tokens = self.tokenize_sentence(self.sentence)\n",
    "        tags = self.normalize_tags(bigram_tagger.tag(tokens))\n",
    "\n",
    "        merge = True\n",
    "        while merge:\n",
    "            merge = False\n",
    "            for x in range(0, len(tags) - 1):\n",
    "                t1 = tags[x]\n",
    "                t2 = tags[x + 1]\n",
    "                key = \"%s+%s\" % (t1[1], t2[1])\n",
    "                value = cfg.get(key, '')\n",
    "                if value:\n",
    "                    merge = True\n",
    "                    tags.pop(x)\n",
    "                    tags.pop(x)\n",
    "                    match = \"%s %s\" % (t1[0], t2[0])\n",
    "                    pos = value\n",
    "                    tags.insert(x, (match, pos))\n",
    "                    break\n",
    "\n",
    "        matches = []\n",
    "        for t in tags:\n",
    "            if t[1] == \"NNP\" or t[1] == \"NNI\":\n",
    "            #if t[1] == \"NNP\" or t[1] == \"NNI\" or t[1] == \"NN\":\n",
    "                matches.append(t[0])\n",
    "        return matches"
   ]
  },
  {
   "cell_type": "code",
   "execution_count": 6,
   "metadata": {
    "collapsed": true
   },
   "outputs": [],
   "source": [
    "def get_noun_phrases_from_img(chunk, img):\n",
    "    chunk = int(chunk)\n",
    "    img = int(img)\n",
    "    \n",
    "    phrase = ' '.join(ocr_hdf5['Chunk{}'.format(chunk)][img][1:]).decode(\"ascii\", errors=\"ignore\")\n",
    "    np_extractor = NPExtractor(phrase)\n",
    "    multiword_res = [x.lower() for x in np_extractor.extract()]\n",
    "    \n",
    "    res = []\n",
    "    for word in multiword_res:\n",
    "        res.extend(word.split(' '))\n",
    "        \n",
    "    # number of items in the set divided by total length; a marker of English or not-English\n",
    "    pct_np = float(len(set(res)))/len(phrase)\n",
    "    \n",
    "    # get the words that appear most often\n",
    "    #print Counter(res).most_common(10)\n",
    "\n",
    "    return pct_np, res\n",
    "\n",
    "def get_noun_phrases_from_text(txt):\n",
    "    np_extractor = NPExtractor(txt)\n",
    "    multiword_res = [x.lower() for x in np_extractor.extract()]\n",
    "    \n",
    "    res = []\n",
    "    for word in multiword_res:\n",
    "        res.extend(word.split(' '))\n",
    "    \n",
    "    res = [x for x in res if len(x) > 3]\n",
    "    return res"
   ]
  },
  {
   "cell_type": "code",
   "execution_count": 13,
   "metadata": {
    "collapsed": false
   },
   "outputs": [],
   "source": [
    "idx_to_noun_phrases = {}\n",
    "for idx in indices:\n",
    "    chk = idx/5000\n",
    "    i = idx % 5000\n",
    "    pct_np, res = get_noun_phrases_from_img(chk, i)\n",
    "    idx_to_noun_phrases[idx] = set(res)"
   ]
  },
  {
   "cell_type": "code",
   "execution_count": 14,
   "metadata": {
    "collapsed": true
   },
   "outputs": [],
   "source": [
    "pickle.dump(idx_to_noun_phrases, open(\"/data/nearest_neighbor_tagging/idx_to_noun_phrases_animals.pkl\", 'w'))"
   ]
  },
  {
   "cell_type": "markdown",
   "metadata": {},
   "source": [
    "## Reduce dimensionality of scores"
   ]
  },
  {
   "cell_type": "code",
   "execution_count": 7,
   "metadata": {
    "collapsed": false
   },
   "outputs": [],
   "source": [
    "import glob\n",
    "res = {}\n",
    "pkl_files = glob.glob(\"/data/nearest_neighbor_tagging/pool3_softmax_scores_animals_*.pkl\")\n",
    "for pkl in pkl_files:\n",
    "    res.update(pickle.load(open(pkl, 'r')))"
   ]
  },
  {
   "cell_type": "code",
   "execution_count": 8,
   "metadata": {
    "collapsed": false
   },
   "outputs": [
    {
     "data": {
      "text/plain": [
       "(56220, 2048)"
      ]
     },
     "execution_count": 8,
     "metadata": {},
     "output_type": "execute_result"
    }
   ],
   "source": [
    "pool3_arr = []\n",
    "for idx in indices:\n",
    "    pool3_arr.append(res[idx])\n",
    "pool3_arr = np.array(pool3_arr)\n",
    "pool3_arr.shape"
   ]
  },
  {
   "cell_type": "code",
   "execution_count": 34,
   "metadata": {
    "collapsed": false
   },
   "outputs": [
    {
     "data": {
      "text/plain": [
       "(2048, 993)"
      ]
     },
     "execution_count": 34,
     "metadata": {},
     "output_type": "execute_result"
    }
   ],
   "source": [
    "#pool3_df = pd.DataFrame.from_dict(idx_to_pool3_scores)  # each image vector is a column\n",
    "#pool3_df.shape"
   ]
  },
  {
   "cell_type": "code",
   "execution_count": 74,
   "metadata": {
    "collapsed": false
   },
   "outputs": [
    {
     "data": {
      "text/plain": [
       "(993, 2048)"
      ]
     },
     "execution_count": 74,
     "metadata": {},
     "output_type": "execute_result"
    }
   ],
   "source": [
    "#pool3_arr = np.array(pool3_df).T\n",
    "#pool3_arr.shape"
   ]
  },
  {
   "cell_type": "code",
   "execution_count": 9,
   "metadata": {
    "collapsed": false
   },
   "outputs": [
    {
     "name": "stdout",
     "output_type": "stream",
     "text": [
      "CPU times: user 2min 1s, sys: 367 ms, total: 2min 1s\n",
      "Wall time: 2min 1s\n"
     ]
    }
   ],
   "source": [
    "from sklearn.decomposition import PCA\n",
    "pca = PCA(n_components=40, whiten=True)\n",
    "%time pool3_pca = pca.fit(pool3_arr)"
   ]
  },
  {
   "cell_type": "code",
   "execution_count": 10,
   "metadata": {
    "collapsed": false
   },
   "outputs": [
    {
     "name": "stdout",
     "output_type": "stream",
     "text": [
      "CPU times: user 20.9 s, sys: 108 ms, total: 21 s\n",
      "Wall time: 21 s\n"
     ]
    }
   ],
   "source": [
    "%time pool3_pca_scores = pool3_pca.transform(pool3_arr)"
   ]
  },
  {
   "cell_type": "code",
   "execution_count": 11,
   "metadata": {
    "collapsed": false
   },
   "outputs": [
    {
     "data": {
      "text/plain": [
       "(56220, 40)"
      ]
     },
     "execution_count": 11,
     "metadata": {},
     "output_type": "execute_result"
    }
   ],
   "source": [
    "pool3_pca_scores.shape"
   ]
  },
  {
   "cell_type": "code",
   "execution_count": 55,
   "metadata": {
    "collapsed": true
   },
   "outputs": [],
   "source": [
    "pickle.dump((pool3_arr, pool3_pca_scores), open(\"/data/nearest_neighbor_tagging/pool3_animals_pca.pkl\", 'w'))"
   ]
  },
  {
   "cell_type": "markdown",
   "metadata": {},
   "source": [
    "## All scores"
   ]
  },
  {
   "cell_type": "code",
   "execution_count": 143,
   "metadata": {
    "collapsed": false
   },
   "outputs": [],
   "source": [
    "scores_data = h5py.File('/data/all_scores_12class.hdf5','w')"
   ]
  },
  {
   "cell_type": "code",
   "execution_count": 144,
   "metadata": {
    "collapsed": false
   },
   "outputs": [
    {
     "name": "stdout",
     "output_type": "stream",
     "text": [
      "0\n",
      "20\n",
      "40\n",
      "60\n",
      "80\n",
      "100\n",
      "120\n",
      "140\n",
      "160\n",
      "180\n"
     ]
    }
   ],
   "source": [
    "for i in range(200):  # looping over each pickle\n",
    "    if i % 20 == 0: print i\n",
    "    try:\n",
    "        chunk_file = \"/data/1M_tags/Chunk{}.pkl\".format(i)\n",
    "        scores = pickle.load(open(chunk_file, 'r'))    \n",
    "    except:\n",
    "        continue\n",
    "    temp = np.empty((5000,12))\n",
    "    for index in range(5000):\n",
    "        if index not in scores: continue\n",
    "        temp[index] = scores[index]\n",
    "    scores_data.create_dataset(\"Chunk{}\".format(i), data=temp)\n",
    "\n",
    "scores_data.close()"
   ]
  },
  {
   "cell_type": "code",
   "execution_count": 12,
   "metadata": {
    "collapsed": false
   },
   "outputs": [
    {
     "data": {
      "text/plain": [
       "array([  3.11982818e-02,   8.32416627e-05,   5.60833097e-01,\n",
       "         2.79666303e-04,   8.79068300e-02,   4.45149913e-02,\n",
       "         1.96852779e-04,   6.89041018e-02,   5.22559458e-05,\n",
       "         2.01110378e-01,   3.77605017e-03,   1.14434422e-03])"
      ]
     },
     "execution_count": 12,
     "metadata": {},
     "output_type": "execute_result"
    }
   ],
   "source": [
    "scores_data = h5py.File('/data/all_scores_12class.hdf5','r')\n",
    "scores_data[\"Chunk1\"][400]"
   ]
  },
  {
   "cell_type": "code",
   "execution_count": 13,
   "metadata": {
    "collapsed": false
   },
   "outputs": [],
   "source": [
    "animal_scores = []\n",
    "for idx in indices:\n",
    "    chk = idx/5000\n",
    "    i = idx % 5000\n",
    "    animal_scores.append(scores_data[\"Chunk{}\".format(chk)][i][0])"
   ]
  },
  {
   "cell_type": "code",
   "execution_count": 14,
   "metadata": {
    "collapsed": false
   },
   "outputs": [],
   "source": [
    "scores_data.close()"
   ]
  },
  {
   "cell_type": "code",
   "execution_count": 15,
   "metadata": {
    "collapsed": false
   },
   "outputs": [
    {
     "data": {
      "text/plain": [
       "<matplotlib.axes._subplots.AxesSubplot at 0x7fc13c872650>"
      ]
     },
     "execution_count": 15,
     "metadata": {},
     "output_type": "execute_result"
    },
    {
     "data": {
      "image/png": "[encoded data removed]",
      "text/plain": [
       "<matplotlib.figure.Figure at 0x7fc14e0ec610>"
      ]
     },
     "metadata": {},
     "output_type": "display_data"
    }
   ],
   "source": [
    "sns.distplot(animal_scores)"
   ]
  },
  {
   "cell_type": "code",
   "execution_count": 16,
   "metadata": {
    "collapsed": false
   },
   "outputs": [
    {
     "data": {
      "text/plain": [
       "17299"
      ]
     },
     "execution_count": 16,
     "metadata": {},
     "output_type": "execute_result"
    }
   ],
   "source": [
    "animal_scores = np.array(animal_scores)\n",
    "np.sum(animal_scores>0.9)"
   ]
  },
  {
   "cell_type": "code",
   "execution_count": 17,
   "metadata": {
    "collapsed": false
   },
   "outputs": [
    {
     "data": {
      "text/plain": [
       "array([False,  True, False, False, False, False,  True, False, False, False], dtype=bool)"
      ]
     },
     "execution_count": 17,
     "metadata": {},
     "output_type": "execute_result"
    }
   ],
   "source": [
    "(animal_scores>0.9)[:10]"
   ]
  },
  {
   "cell_type": "markdown",
   "metadata": {},
   "source": [
    "## Calculate similarity neighborhoods for each image"
   ]
  },
  {
   "cell_type": "code",
   "execution_count": 18,
   "metadata": {
    "collapsed": false
   },
   "outputs": [
    {
     "data": {
      "text/plain": [
       "(17299, 40)"
      ]
     },
     "execution_count": 18,
     "metadata": {},
     "output_type": "execute_result"
    }
   ],
   "source": [
    "pool3_pca_scores = np.array(pool3_pca_scores)\n",
    "pool3_pca_scores_trunc = pool3_pca_scores[(animal_scores>0.9),:]\n",
    "pool3_pca_scores_trunc.shape"
   ]
  },
  {
   "cell_type": "code",
   "execution_count": 19,
   "metadata": {
    "collapsed": false
   },
   "outputs": [
    {
     "name": "stdout",
     "output_type": "stream",
     "text": [
      "CPU times: user 1.98 s, sys: 1.33 s, total: 3.32 s\n",
      "Wall time: 8.89 s\n"
     ]
    },
    {
     "data": {
      "text/plain": [
       "(17299, 17299)"
      ]
     },
     "execution_count": 19,
     "metadata": {},
     "output_type": "execute_result"
    }
   ],
   "source": [
    "from sklearn.metrics.pairwise import pairwise_distances\n",
    "%time dist = pairwise_distances(pool3_pca_scores_trunc, n_jobs=-1)\n",
    "dist.shape"
   ]
  },
  {
   "cell_type": "code",
   "execution_count": 30,
   "metadata": {
    "collapsed": true
   },
   "outputs": [],
   "source": [
    "indices = np.array(indices)\n",
    "indices_trunc = indices[animal_scores>0.9]"
   ]
  },
  {
   "cell_type": "code",
   "execution_count": 35,
   "metadata": {
    "collapsed": false
   },
   "outputs": [
    {
     "data": {
      "text/plain": [
       "array([536678, 536739, 537005, 537072, 537096, 537107, 537343, 537426,\n",
       "       537597, 537694])"
      ]
     },
     "execution_count": 35,
     "metadata": {},
     "output_type": "execute_result"
    }
   ],
   "source": [
    "indices_trunc[10000:10010]"
   ]
  },
  {
   "cell_type": "code",
   "execution_count": 39,
   "metadata": {
    "collapsed": false
   },
   "outputs": [
    {
     "name": "stdout",
     "output_type": "stream",
     "text": [
      "0\n",
      "2000\n",
      "4000\n",
      "6000\n",
      "8000\n",
      "10000\n",
      "12000\n",
      "14000\n",
      "16000\n"
     ]
    }
   ],
   "source": [
    "idx_to_neighbors = {}\n",
    "for i in range(dist.shape[0]):\n",
    "    if i % 2000 == 0: print i\n",
    "    idx = indices_trunc[i]\n",
    "\n",
    "    neighbor_ranks = np.array(dist[i,:]).argsort()  # returns a list of the column indices in order from smallest to largest\n",
    "    idx_to_neighbors[indices_trunc[i]] = [(indices_trunc[z], dist[i,z]) for z in neighbor_ranks[:20]]  # skip the first one (distance = 0)"
   ]
  },
  {
   "cell_type": "code",
   "execution_count": 156,
   "metadata": {
    "collapsed": false
   },
   "outputs": [
    {
     "name": "stdout",
     "output_type": "stream",
     "text": [
      "0\n"
     ]
    },
    {
     "ename": "KeyboardInterrupt",
     "evalue": "",
     "output_type": "error",
     "traceback": [
      "\u001b[1;31m---------------------------------------------------------------------------\u001b[0m",
      "\u001b[1;31mKeyboardInterrupt\u001b[0m                         Traceback (most recent call last)",
      "\u001b[1;32m<ipython-input-156-63611b1cd6f5>\u001b[0m in \u001b[0;36m<module>\u001b[1;34m()\u001b[0m\n\u001b[0;32m      4\u001b[0m     \u001b[0mdists\u001b[0m \u001b[1;33m=\u001b[0m \u001b[1;33m[\u001b[0m\u001b[1;33m]\u001b[0m\u001b[1;33m\u001b[0m\u001b[0m\n\u001b[0;32m      5\u001b[0m     \u001b[1;32mfor\u001b[0m \u001b[0mj\u001b[0m \u001b[1;32min\u001b[0m \u001b[0mrange\u001b[0m\u001b[1;33m(\u001b[0m\u001b[0mpool3_pca_scores_90pct\u001b[0m\u001b[1;33m.\u001b[0m\u001b[0mshape\u001b[0m\u001b[1;33m[\u001b[0m\u001b[1;36m0\u001b[0m\u001b[1;33m]\u001b[0m\u001b[1;33m)\u001b[0m\u001b[1;33m:\u001b[0m\u001b[1;33m\u001b[0m\u001b[0m\n\u001b[1;32m----> 6\u001b[1;33m         \u001b[0mdists\u001b[0m\u001b[1;33m.\u001b[0m\u001b[0mappend\u001b[0m\u001b[1;33m(\u001b[0m\u001b[0mnp\u001b[0m\u001b[1;33m.\u001b[0m\u001b[0mlinalg\u001b[0m\u001b[1;33m.\u001b[0m\u001b[0mnorm\u001b[0m\u001b[1;33m(\u001b[0m\u001b[0mpool3_pca_scores_90pct\u001b[0m\u001b[1;33m[\u001b[0m\u001b[0mi\u001b[0m\u001b[1;33m,\u001b[0m\u001b[1;33m:\u001b[0m\u001b[1;33m]\u001b[0m\u001b[1;33m-\u001b[0m\u001b[0mpool3_pca_scores_90pct\u001b[0m\u001b[1;33m[\u001b[0m\u001b[0mj\u001b[0m\u001b[1;33m,\u001b[0m\u001b[1;33m:\u001b[0m\u001b[1;33m]\u001b[0m\u001b[1;33m)\u001b[0m\u001b[1;33m)\u001b[0m\u001b[1;33m\u001b[0m\u001b[0m\n\u001b[0m\u001b[0;32m      7\u001b[0m \u001b[1;33m\u001b[0m\u001b[0m\n\u001b[0;32m      8\u001b[0m     \u001b[0mneighbor_ranks\u001b[0m \u001b[1;33m=\u001b[0m \u001b[0mnp\u001b[0m\u001b[1;33m.\u001b[0m\u001b[0marray\u001b[0m\u001b[1;33m(\u001b[0m\u001b[0mdists\u001b[0m\u001b[1;33m)\u001b[0m\u001b[1;33m.\u001b[0m\u001b[0margsort\u001b[0m\u001b[1;33m(\u001b[0m\u001b[1;33m)\u001b[0m  \u001b[1;31m# returns a list of the column indices in order from smallest to largest\u001b[0m\u001b[1;33m\u001b[0m\u001b[0m\n",
      "\u001b[1;31mKeyboardInterrupt\u001b[0m: "
     ]
    }
   ],
   "source": [
    "# calculate distance one at a time if the matrix is too large\n",
    "\n",
    "# idx_to_neighbors = {}\n",
    "# for i in range(pool3_pca_scores_90pct.shape[0]):\n",
    "#     if i % 500 == 0: print i\n",
    "#     dists = []\n",
    "#     for j in range(pool3_pca_scores_90pct.shape[0]):\n",
    "#         dists.append(np.linalg.norm(pool3_pca_scores_90pct[i,:]-pool3_pca_scores_90pct[j,:]))\n",
    "\n",
    "#     neighbor_ranks = np.array(dists).argsort()  # returns a list of the column indices in order from smallest to largest\n",
    "#     idx_to_neighbors[indices[i]] = [(indices[z], dists[z]) for z in neighbor_ranks[:20]]  # skip the first one (distance = 0)"
   ]
  },
  {
   "cell_type": "code",
   "execution_count": 40,
   "metadata": {
    "collapsed": false
   },
   "outputs": [
    {
     "data": {
      "text/plain": [
       "[(884736,\n",
       "  [(884736, 0.0),\n",
       "   (645778, 3.7124333),\n",
       "   (80793, 3.8042459),\n",
       "   (710182, 4.2788916),\n",
       "   (315346, 4.3147759),\n",
       "   (686023, 4.346312),\n",
       "   (396585, 4.3861289),\n",
       "   (138365, 4.4119916),\n",
       "   (503130, 4.4159999),\n",
       "   (431255, 4.4429622),\n",
       "   (236185, 4.4977322),\n",
       "   (433309, 4.5180869),\n",
       "   (482790, 4.5336628),\n",
       "   (144239, 4.5487571),\n",
       "   (713864, 4.5644608),\n",
       "   (591786, 4.5872469),\n",
       "   (890176, 4.6024256),\n",
       "   (236893, 4.6183376),\n",
       "   (251407, 4.6231594),\n",
       "   (269918, 4.6335554)]),\n",
       " (393218,\n",
       "  [(393218, 0.0),\n",
       "   (616611, 4.7709064),\n",
       "   (429496, 4.8603897),\n",
       "   (761940, 4.8977704),\n",
       "   (287439, 4.9463224),\n",
       "   (69660, 5.0266285),\n",
       "   (135586, 5.0453424),\n",
       "   (620623, 5.0900259),\n",
       "   (892512, 5.0981765),\n",
       "   (756223, 5.2388992),\n",
       "   (373475, 5.2475033),\n",
       "   (496071, 5.2707219),\n",
       "   (18166, 5.2932377),\n",
       "   (122630, 5.3101692),\n",
       "   (569406, 5.3154836),\n",
       "   (729440, 5.3529453),\n",
       "   (121988, 5.3616586),\n",
       "   (822419, 5.3738427),\n",
       "   (128305, 5.4241753),\n",
       "   (666836, 5.425746)]),\n",
       " (458756,\n",
       "  [(458756, 0.0),\n",
       "   (872292, 5.4295988),\n",
       "   (550071, 5.4393978),\n",
       "   (770792, 5.522975),\n",
       "   (548780, 5.5556602),\n",
       "   (359021, 5.5737314),\n",
       "   (597097, 5.5947151),\n",
       "   (382513, 5.6040101),\n",
       "   (707539, 5.6342072),\n",
       "   (189971, 5.702764),\n",
       "   (842227, 5.7206717),\n",
       "   (85241, 5.7318125),\n",
       "   (710628, 5.7409773),\n",
       "   (688757, 5.7920222),\n",
       "   (315334, 5.7949734),\n",
       "   (231221, 5.7954984),\n",
       "   (864557, 5.7978678),\n",
       "   (234087, 5.8110204),\n",
       "   (772798, 5.8611636),\n",
       "   (936540, 5.8791366)]),\n",
       " (294917,\n",
       "  [(294917, 0.0),\n",
       "   (299244, 2.2668471),\n",
       "   (22906, 2.2726018),\n",
       "   (122798, 2.5060945),\n",
       "   (297733, 2.581831),\n",
       "   (23040, 2.6872289),\n",
       "   (879740, 2.7338016),\n",
       "   (826091, 2.8055868),\n",
       "   (23174, 2.8370631),\n",
       "   (298928, 2.8461676),\n",
       "   (297516, 2.9164114),\n",
       "   (298908, 2.9180341),\n",
       "   (832220, 2.9295638),\n",
       "   (935980, 2.9475634),\n",
       "   (297331, 2.9693141),\n",
       "   (87945, 3.0305037),\n",
       "   (43546, 3.0891294),\n",
       "   (69500, 3.090066),\n",
       "   (661777, 3.0979562),\n",
       "   (733872, 3.1001656)]),\n",
       " (294918,\n",
       "  [(294918, 0.0033829117),\n",
       "   (537072, 3.7063098),\n",
       "   (392204, 3.829674),\n",
       "   (486007, 4.5004988),\n",
       "   (677825, 4.5378375),\n",
       "   (356680, 4.6385798),\n",
       "   (571171, 4.6580682),\n",
       "   (900461, 4.6951299),\n",
       "   (343892, 4.7446218),\n",
       "   (770063, 4.7837033),\n",
       "   (55048, 4.8078866),\n",
       "   (583126, 4.8092537),\n",
       "   (642673, 4.816081),\n",
       "   (633847, 4.8659353),\n",
       "   (455503, 4.8890305),\n",
       "   (505796, 4.9101171),\n",
       "   (776432, 4.9195137),\n",
       "   (218160, 4.9569731),\n",
       "   (743478, 4.9666195),\n",
       "   (505491, 4.9694686)]),\n",
       " (711417,\n",
       "  [(711417, 0.0027621358),\n",
       "   (873130, 2.4510536),\n",
       "   (902381, 2.6608996),\n",
       "   (713741, 2.8068116),\n",
       "   (870262, 2.8464949),\n",
       "   (837131, 2.9245327),\n",
       "   (821124, 2.9311688),\n",
       "   (706314, 3.049515),\n",
       "   (830195, 3.1074286),\n",
       "   (788960, 3.1223774),\n",
       "   (450251, 3.1770794),\n",
       "   (790781, 3.1823311),\n",
       "   (881083, 3.2410231),\n",
       "   (884565, 3.3309674),\n",
       "   (275342, 3.3659179),\n",
       "   (939970, 3.3773327),\n",
       "   (507013, 3.4016469),\n",
       "   (784955, 3.4078097),\n",
       "   (346672, 3.4568288),\n",
       "   (936966, 3.4684696)]),\n",
       " (196621,\n",
       "  [(196621, 0.0),\n",
       "   (858621, 4.6257186),\n",
       "   (144584, 4.887857),\n",
       "   (639857, 5.0510149),\n",
       "   (514583, 5.0579896),\n",
       "   (215528, 5.0754809),\n",
       "   (352086, 5.0831661),\n",
       "   (387792, 5.1102991),\n",
       "   (486842, 5.2183032),\n",
       "   (965181, 5.2235618),\n",
       "   (220145, 5.2250328),\n",
       "   (389322, 5.3033676),\n",
       "   (958446, 5.3733029),\n",
       "   (410134, 5.3743463),\n",
       "   (621818, 5.4446349),\n",
       "   (862758, 5.4542594),\n",
       "   (898240, 5.4717407),\n",
       "   (863165, 5.4869475),\n",
       "   (930410, 5.5046358),\n",
       "   (6610, 5.5051045)]),\n",
       " (196622,\n",
       "  [(196622, 0.0),\n",
       "   (569199, 5.6374035),\n",
       "   (826895, 6.2529902),\n",
       "   (763710, 6.2987862),\n",
       "   (863620, 6.3212857),\n",
       "   (66146, 6.4151015),\n",
       "   (194453, 6.4493952),\n",
       "   (95030, 6.4732838),\n",
       "   (79667, 6.4936323),\n",
       "   (796216, 6.5841036),\n",
       "   (513520, 6.6513658),\n",
       "   (108550, 6.7127914),\n",
       "   (774814, 6.7401147),\n",
       "   (785228, 6.7581911),\n",
       "   (859899, 6.7817011),\n",
       "   (889174, 6.8424168),\n",
       "   (118159, 6.8602157),\n",
       "   (196125, 6.8617134),\n",
       "   (754017, 6.8675103),\n",
       "   (669445, 6.8707733)]),\n",
       " (819217,\n",
       "  [(819217, 0.00390625),\n",
       "   (304059, 4.797214),\n",
       "   (359866, 4.8384891),\n",
       "   (279358, 4.9301262),\n",
       "   (645661, 5.044426),\n",
       "   (435594, 5.0962095),\n",
       "   (266907, 5.165946),\n",
       "   (214781, 5.2069483),\n",
       "   (279705, 5.2698708),\n",
       "   (596153, 5.2948804),\n",
       "   (570695, 5.3532948),\n",
       "   (487255, 5.3755388),\n",
       "   (206061, 5.3761835),\n",
       "   (923645, 5.4254632),\n",
       "   (2687, 5.4723177),\n",
       "   (173663, 5.4932933),\n",
       "   (916210, 5.5154862),\n",
       "   (597753, 5.5376635),\n",
       "   (523865, 5.5394731),\n",
       "   (622459, 5.5532961)]),\n",
       " (819218,\n",
       "  [(819218, 0.0),\n",
       "   (898283, 3.6627381),\n",
       "   (753876, 3.754518),\n",
       "   (886969, 3.7577953),\n",
       "   (96084, 3.7681992),\n",
       "   (293930, 3.8190422),\n",
       "   (100448, 3.8200459),\n",
       "   (890772, 3.9187973),\n",
       "   (709982, 4.0160012),\n",
       "   (598155, 4.1056633),\n",
       "   (640120, 4.1110435),\n",
       "   (490188, 4.1149297),\n",
       "   (858425, 4.1207943),\n",
       "   (750723, 4.1945348),\n",
       "   (743199, 4.2244325),\n",
       "   (730301, 4.2259607),\n",
       "   (497335, 4.2388811),\n",
       "   (146298, 4.2408667),\n",
       "   (599320, 4.2478585),\n",
       "   (74241, 4.2644033)]),\n",
       " (196627,\n",
       "  [(196627, 0.0027621358),\n",
       "   (412055, 5.8086882),\n",
       "   (270781, 6.2724538),\n",
       "   (956059, 6.2876406),\n",
       "   (257645, 6.3372755),\n",
       "   (753975, 6.3811178),\n",
       "   (426960, 6.4007726),\n",
       "   (855771, 6.4767146),\n",
       "   (472607, 6.5213852),\n",
       "   (238275, 6.6500659),\n",
       "   (695357, 6.7033582),\n",
       "   (854694, 6.7183609),\n",
       "   (237390, 6.757453),\n",
       "   (226750, 6.76196),\n",
       "   (152869, 6.7952223),\n",
       "   (331993, 6.8332896),\n",
       "   (567749, 6.8521004),\n",
       "   (475874, 6.8529758),\n",
       "   (167740, 6.8535848),\n",
       "   (356211, 6.8575134)]),\n",
       " (775794,\n",
       "  [(775794, 0.0),\n",
       "   (342375, 6.3127398),\n",
       "   (875961, 6.4027767),\n",
       "   (784666, 6.4208317),\n",
       "   (554076, 6.5214062),\n",
       "   (746412, 6.5851645),\n",
       "   (310403, 6.6140852),\n",
       "   (221939, 6.6206975),\n",
       "   (537426, 6.6897359),\n",
       "   (252446, 6.6952157),\n",
       "   (213766, 6.6982236),\n",
       "   (525812, 6.7011361),\n",
       "   (324474, 6.7080207),\n",
       "   (513877, 6.7279949),\n",
       "   (241118, 6.7392693),\n",
       "   (325299, 6.7433839),\n",
       "   (263530, 6.7556529),\n",
       "   (14922, 6.7625813),\n",
       "   (326653, 6.780272),\n",
       "   (308841, 6.7928009)]),\n",
       " (196630,\n",
       "  [(196630, 0.0),\n",
       "   (152631, 4.2335167),\n",
       "   (352980, 4.387979),\n",
       "   (862758, 4.4391966),\n",
       "   (298062, 4.5201674),\n",
       "   (957679, 4.5968466),\n",
       "   (929371, 4.5989141),\n",
       "   (12246, 4.6220965),\n",
       "   (12290, 4.6409616),\n",
       "   (854613, 4.6579285),\n",
       "   (671213, 4.65907),\n",
       "   (739633, 4.7726851),\n",
       "   (161359, 4.7900782),\n",
       "   (962367, 4.8005438),\n",
       "   (571827, 4.8105888),\n",
       "   (513912, 4.825386),\n",
       "   (12297, 4.8574467),\n",
       "   (450338, 4.8957286),\n",
       "   (190012, 4.9172301),\n",
       "   (349539, 4.9395795)]),\n",
       " (491544,\n",
       "  [(491544, 0.00390625),\n",
       "   (291610, 4.8946133),\n",
       "   (432853, 5.2619123),\n",
       "   (901132, 5.3832669),\n",
       "   (356760, 5.5075574),\n",
       "   (771268, 5.5125985),\n",
       "   (899710, 5.5578642),\n",
       "   (350609, 5.6457782),\n",
       "   (959174, 5.7618289),\n",
       "   (478564, 5.7996583),\n",
       "   (794775, 5.8168154),\n",
       "   (271110, 5.8366375),\n",
       "   (709722, 5.8640118),\n",
       "   (370876, 5.8970804),\n",
       "   (626073, 5.9157524),\n",
       "   (258435, 5.9184623),\n",
       "   (914970, 5.9543743),\n",
       "   (472607, 6.0185609),\n",
       "   (625134, 6.0251956),\n",
       "   (767026, 6.0558324)]),\n",
       " (655386,\n",
       "  [(655386, 0.0),\n",
       "   (649316, 6.0310531),\n",
       "   (310630, 6.0562615),\n",
       "   (147408, 6.0850425),\n",
       "   (394736, 6.148067),\n",
       "   (709361, 6.1565413),\n",
       "   (711783, 6.1763206),\n",
       "   (779243, 6.2126555),\n",
       "   (319095, 6.2769709),\n",
       "   (100420, 6.2843852),\n",
       "   (343370, 6.2921734),\n",
       "   (109067, 6.3244944),\n",
       "   (244311, 6.3295159),\n",
       "   (752994, 6.3833036),\n",
       "   (402645, 6.3938942),\n",
       "   (361187, 6.4071159),\n",
       "   (356850, 6.4615479),\n",
       "   (412754, 6.4637055),\n",
       "   (358522, 6.5031242),\n",
       "   (721880, 6.5080829)]),\n",
       " (360477,\n",
       "  [(360477, 0.0),\n",
       "   (534146, 3.9221973),\n",
       "   (396849, 4.7517409),\n",
       "   (500223, 5.1988883),\n",
       "   (579714, 5.3422618),\n",
       "   (661687, 5.351841),\n",
       "   (460575, 5.4334688),\n",
       "   (954111, 5.6711512),\n",
       "   (299427, 5.6766119),\n",
       "   (528755, 5.7804837),\n",
       "   (162444, 5.7974248),\n",
       "   (531327, 5.8109436),\n",
       "   (494885, 5.9359078),\n",
       "   (212187, 5.9911118),\n",
       "   (499373, 6.0919542),\n",
       "   (285159, 6.1430736),\n",
       "   (935021, 6.1560125),\n",
       "   (806780, 6.1565218),\n",
       "   (250638, 6.1965003),\n",
       "   (253221, 6.2217479)]),\n",
       " (720927,\n",
       "  [(720927, 0.0),\n",
       "   (320571, 5.0878186),\n",
       "   (408162, 5.1553159),\n",
       "   (950274, 5.1995053),\n",
       "   (279705, 5.3381076),\n",
       "   (219366, 5.3456488),\n",
       "   (908894, 5.3674669),\n",
       "   (866596, 5.3928595),\n",
       "   (958938, 5.4087954),\n",
       "   (67745, 5.458178),\n",
       "   (2687, 5.5461259),\n",
       "   (526080, 5.5817356),\n",
       "   (88898, 5.6486263),\n",
       "   (308359, 5.7086401),\n",
       "   (251368, 5.7931075),\n",
       "   (422158, 5.8193445),\n",
       "   (932150, 5.8304791),\n",
       "   (270128, 5.8364801),\n",
       "   (917345, 5.8434124),\n",
       "   (476158, 5.8593488)]),\n",
       " (524326,\n",
       "  [(524326, 0.0047841598),\n",
       "   (305634, 5.6560826),\n",
       "   (410080, 5.9153047),\n",
       "   (739467, 6.0756125),\n",
       "   (29462, 6.1198492),\n",
       "   (291479, 6.1219301),\n",
       "   (211367, 6.1396813),\n",
       "   (50026, 6.2450128),\n",
       "   (525936, 6.3179598),\n",
       "   (347497, 6.365941),\n",
       "   (298062, 6.3668222),\n",
       "   (793213, 6.3689237),\n",
       "   (348512, 6.3910761),\n",
       "   (238039, 6.4053516),\n",
       "   (375610, 6.4256396),\n",
       "   (176455, 6.4443049),\n",
       "   (258228, 6.4569674),\n",
       "   (420417, 6.4581051),\n",
       "   (369291, 6.4617105),\n",
       "   (96138, 6.4690881)]),\n",
       " (469681,\n",
       "  [(469681, 0.0),\n",
       "   (656253, 5.2918019),\n",
       "   (212187, 5.6518183),\n",
       "   (779654, 5.7706203),\n",
       "   (884555, 5.7864351),\n",
       "   (294480, 5.7977381),\n",
       "   (782282, 5.8884115),\n",
       "   (554887, 5.9723687),\n",
       "   (437473, 5.9870524),\n",
       "   (499373, 6.084435),\n",
       "   (554882, 6.0919499),\n",
       "   (625195, 6.121057),\n",
       "   (212147, 6.1626248),\n",
       "   (33334, 6.1836238),\n",
       "   (462613, 6.2384434),\n",
       "   (105690, 6.2459712),\n",
       "   (344526, 6.2671294),\n",
       "   (784551, 6.3131003),\n",
       "   (75805, 6.3151851),\n",
       "   (75629, 6.3237562)]),\n",
       " (393258,\n",
       "  [(393258, 0.0),\n",
       "   (168177, 3.5963216),\n",
       "   (741491, 3.9100215),\n",
       "   (719959, 4.0547523),\n",
       "   (55094, 4.2055006),\n",
       "   (42367, 4.2057934),\n",
       "   (316275, 4.2169037),\n",
       "   (416143, 4.3673625),\n",
       "   (279705, 4.4074469),\n",
       "   (473486, 4.4275527),\n",
       "   (714486, 4.4411349),\n",
       "   (41905, 4.5031662),\n",
       "   (212344, 4.5293241),\n",
       "   (646253, 4.541337),\n",
       "   (404568, 4.5458522),\n",
       "   (680208, 4.5717311),\n",
       "   (708941, 4.627872),\n",
       "   (614716, 4.7028623),\n",
       "   (546962, 4.7169471),\n",
       "   (494547, 4.7880988)])]"
      ]
     },
     "execution_count": 40,
     "metadata": {},
     "output_type": "execute_result"
    }
   ],
   "source": [
    "idx_to_neighbors.items()[:20]"
   ]
  },
  {
   "cell_type": "code",
   "execution_count": 25,
   "metadata": {
    "collapsed": false
   },
   "outputs": [],
   "source": [
    "def si(idx):\n",
    "    chk = idx/5000\n",
    "    i = idx % 5000\n",
    "    plt.imshow(to_rgb(image_hdf5['Chunk{}'.format(chk)][i][:,:,0]), cmap=mpl.cm.gray) "
   ]
  },
  {
   "cell_type": "code",
   "execution_count": 53,
   "metadata": {
    "collapsed": false
   },
   "outputs": [
    {
     "data": {
      "image/png": "[encoded data removed]",
      "text/plain": [
       "<matplotlib.figure.Figure at 0x7fc13c9d9190>"
      ]
     },
     "metadata": {},
     "output_type": "display_data"
    }
   ],
   "source": [
    "si(935980)"
   ]
  },
  {
   "cell_type": "code",
   "execution_count": 54,
   "metadata": {
    "collapsed": true
   },
   "outputs": [],
   "source": [
    "idx_to_noun_phrases = pickle.load(open(\"/data/nearest_neighbor_tagging/idx_to_noun_phrases_animals.pkl\", 'r'))"
   ]
  },
  {
   "cell_type": "code",
   "execution_count": 72,
   "metadata": {
    "collapsed": true
   },
   "outputs": [],
   "source": [
    "all_words = []\n",
    "all_words.extend(idx_to_noun_phrases[294917])\n",
    "for item in idx_to_neighbors[294917]:\n",
    "    all_words.extend(idx_to_noun_phrases[item[0]])"
   ]
  },
  {
   "cell_type": "code",
   "execution_count": 80,
   "metadata": {
    "collapsed": false
   },
   "outputs": [
    {
     "data": {
      "text/plain": [
       "['upper',\n",
       " 'soc',\n",
       " 'gr',\n",
       " 'plate',\n",
       " 'rufous',\n",
       " 'b.',\n",
       " 'fuscous',\n",
       " 'feathers',\n",
       " 'paeif',\n",
       " 'surface',\n",
       " 'neous',\n",
       " 'rusty',\n",
       " 'boitnp',\n",
       " 'female',\n",
       " 'cruise',\n",
       " 'myiagra',\n",
       " 'pale',\n",
       " 'id',\n",
       " 'contents',\n",
       " 'lakno',\n",
       " 'trop',\n",
       " 'outer',\n",
       " 'aud',\n",
       " 'm.',\n",
       " 'rev',\n",
       " 'lava',\n",
       " 'the',\n",
       " 'tail',\n",
       " 'fig',\n",
       " 'hebrides',\n",
       " 'ocean',\n",
       " 'feather',\n",
       " 'specimens',\n",
       " 'g.',\n",
       " 'viii',\n",
       " 'caledonica',\n",
       " 'brown',\n",
       " 'eyes',\n",
       " 'spicillata',\n",
       " 'slate',\n",
       " 'dark',\n",
       " 'breast',\n",
       " 'i.',\n",
       " 'vanua',\n",
       " 'caledonia',\n",
       " 'wings',\n",
       " 'greyish',\n",
       " 'proc',\n",
       " 'colour',\n",
       " 'melanura',\n",
       " 'zool',\n",
       " 'j.',\n",
       " 'per-',\n",
       " 'cat',\n",
       " 'p',\n",
       " 'length',\n",
       " 'obscure',\n",
       " 'of',\n",
       " 'r.',\n",
       " 'homb']"
      ]
     },
     "execution_count": 80,
     "metadata": {},
     "output_type": "execute_result"
    }
   ],
   "source": [
    "list([str(x) for x in idx_to_noun_phrases[294917]])"
   ]
  },
  {
   "cell_type": "code",
   "execution_count": 77,
   "metadata": {
    "collapsed": false
   },
   "outputs": [
    {
     "data": {
      "text/plain": [
       "[(u'of', 11),\n",
       " (u'the', 9),\n",
       " (u'plate', 7),\n",
       " (u'feathers', 6),\n",
       " (u\"'s\", 6),\n",
       " (u'brown', 6),\n",
       " (u'upper', 6),\n",
       " (u'dark', 6),\n",
       " (u'rufous', 6),\n",
       " (u'outer', 6),\n",
       " (u'birds', 5),\n",
       " (u'tail', 5),\n",
       " (u'g.', 5),\n",
       " (u'length', 5),\n",
       " (u'wings', 4),\n",
       " (u'black', 4),\n",
       " (u'large', 4),\n",
       " (u'small', 4),\n",
       " (u'pale', 4),\n",
       " (u'bird', 4),\n",
       " (u'cruise', 4),\n",
       " (u'feather', 4),\n",
       " (u'>', 4),\n",
       " (u'colour', 4),\n",
       " (u'female', 4),\n",
       " (u'specimens', 4),\n",
       " (u'aud', 3),\n",
       " (u'rusty', 3),\n",
       " (u'blue', 3),\n",
       " (u'dry', 3)]"
      ]
     },
     "execution_count": 77,
     "metadata": {},
     "output_type": "execute_result"
    }
   ],
   "source": [
    "from collections import Counter\n",
    "Counter(all_words).most_common(30)"
   ]
  }
 ],
 "metadata": {
  "kernelspec": {
   "display_name": "Python 2",
   "language": "python",
   "name": "python2"
  },
  "language_info": {
   "codemirror_mode": {
    "name": "ipython",
    "version": 2
   },
   "file_extension": ".py",
   "mimetype": "text/x-python",
   "name": "python",
   "nbconvert_exporter": "python",
   "pygments_lexer": "ipython2",
   "version": "2.7.6"
  }
 },
 "nbformat": 4,
 "nbformat_minor": 0
}
