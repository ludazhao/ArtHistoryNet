{
 "cells": [
  {
   "cell_type": "code",
   "execution_count": 1,
   "metadata": {
    "collapsed": true
   },
   "outputs": [],
   "source": [
    "import os.path\n",
    "import re\n",
    "import sys\n",
    "import tarfile\n",
    "import time\n",
    "import multiprocessing as mp\n",
    "import itertools\n",
    "\n",
    "import tensorflow.python.platform\n",
    "from six.moves import urllib\n",
    "import numpy as np\n",
    "import tensorflow as tf\n",
    "import h5py\n",
    "import glob\n",
    "import cPickle as pickle\n",
    "import matplotlib as mpl\n",
    "import matplotlib.pyplot as plt\n",
    "import matplotlib.image as mpimg\n",
    "from tensorflow.python.platform import gfile\n",
    "\n",
    "from run_inference import predict_star, predict\n",
    "import pandas as pd\n",
    "import seaborn as sns\n",
    "\n",
    "%matplotlib inline\n",
    "%load_ext autoreload\n",
    "%autoreload 2"
   ]
  },
  {
   "cell_type": "code",
   "execution_count": 2,
   "metadata": {
    "collapsed": false
   },
   "outputs": [
    {
     "name": "stdout",
     "output_type": "stream",
     "text": [
      "/data/nearest_neighbor_tagging/idx_to_noun_phrases_90000.pkl\n",
      "/data/nearest_neighbor_tagging/idx_to_noun_phrases_460000.pkl\n"
     ]
    }
   ],
   "source": [
    "files = glob.glob(\"/data/nearest_neighbor_tagging/idx_to_noun_phrases_*\")\n",
    "for fn in files:\n",
    "    try:\n",
    "        data = pickle.load(open(fn, 'r'))\n",
    "    except:\n",
    "        print fn"
   ]
  }
 ],
 "metadata": {
  "kernelspec": {
   "display_name": "Python 2",
   "language": "python",
   "name": "python2"
  },
  "language_info": {
   "codemirror_mode": {
    "name": "ipython",
    "version": 2
   },
   "file_extension": ".py",
   "mimetype": "text/x-python",
   "name": "python",
   "nbconvert_exporter": "python",
   "pygments_lexer": "ipython2",
   "version": "2.7.6"
  }
 },
 "nbformat": 4,
 "nbformat_minor": 0
}
