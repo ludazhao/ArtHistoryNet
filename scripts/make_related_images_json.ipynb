{
 "cells": [
  {
   "cell_type": "markdown",
   "metadata": {},
   "source": [
    "# Script to make json for dynamoDB"
   ]
  },
  {
   "cell_type": "code",
   "execution_count": 1,
   "metadata": {
    "collapsed": true
   },
   "outputs": [],
   "source": [
    "import json\n",
    "import cPickle as pickle\n",
    "import collections\n",
    "import glob"
   ]
  },
  {
   "cell_type": "code",
   "execution_count": 2,
   "metadata": {
    "collapsed": false
   },
   "outputs": [],
   "source": [
    "(idx_to_url, blid_to_url) = pickle.load(open(\"/data/image_to_url_mappings.pkl\"))"
   ]
  },
  {
   "cell_type": "code",
   "execution_count": 11,
   "metadata": {
    "collapsed": false
   },
   "outputs": [
    {
     "name": "stdout",
     "output_type": "stream",
     "text": [
      "In: /data/nearest_neighbor_tagging/nearest_neighbors/diagrams.pkl\n",
      "Out: /data/nearest_neighbor_tagging/nearest_neighbors/diagrams_url.json\n",
      "In: /data/nearest_neighbor_tagging/nearest_neighbors/nature.pkl\n",
      "Out: /data/nearest_neighbor_tagging/nearest_neighbors/nature_url.json\n",
      "In: /data/nearest_neighbor_tagging/nearest_neighbors/animals.pkl\n",
      "Out: /data/nearest_neighbor_tagging/nearest_neighbors/animals_url.json\n",
      "In: /data/nearest_neighbor_tagging/nearest_neighbors/seals.pkl\n",
      "Out: /data/nearest_neighbor_tagging/nearest_neighbors/seals_url.json\n",
      "In: /data/nearest_neighbor_tagging/nearest_neighbors/objects.pkl\n",
      "Out: /data/nearest_neighbor_tagging/nearest_neighbors/objects_url.json\n",
      "In: /data/nearest_neighbor_tagging/nearest_neighbors/architecture.pkl\n",
      "Out: /data/nearest_neighbor_tagging/nearest_neighbors/architecture_url.json\n",
      "In: /data/nearest_neighbor_tagging/nearest_neighbors/landscapes.pkl\n",
      "Out: /data/nearest_neighbor_tagging/nearest_neighbors/landscapes_url.json\n",
      "In: /data/nearest_neighbor_tagging/nearest_neighbors/people.pkl\n",
      "Out: /data/nearest_neighbor_tagging/nearest_neighbors/people_url.json\n",
      "In: /data/nearest_neighbor_tagging/nearest_neighbors/maps.pkl\n",
      "Out: /data/nearest_neighbor_tagging/nearest_neighbors/maps_url.json\n",
      "In: /data/nearest_neighbor_tagging/nearest_neighbors/miniatures.pkl\n",
      "Out: /data/nearest_neighbor_tagging/nearest_neighbors/miniatures_url.json\n",
      "In: /data/nearest_neighbor_tagging/nearest_neighbors/decorations.pkl\n",
      "Out: /data/nearest_neighbor_tagging/nearest_neighbors/decorations_url.json\n",
      "In: /data/nearest_neighbor_tagging/nearest_neighbors/text.pkl\n",
      "Out: /data/nearest_neighbor_tagging/nearest_neighbors/text_url.json\n"
     ]
    }
   ],
   "source": [
    "nearest_neighbor_files = glob.glob(\"/data/nearest_neighbor_tagging/nearest_neighbors/*.pkl\")\n",
    "for fn in nearest_neighbor_files:\n",
    "    img_to_related = collections.defaultdict(lambda: {\"Caption\": \"\", \"RelatedImages\": []})\n",
    "    print \"In:\", fn\n",
    "    ofn = fn[:-4] + '_url.json'\n",
    "    print \"Out:\", ofn\n",
    "    \n",
    "    idx_img_to_related = pickle.load(open(fn, 'r'))\n",
    "    for idx in idx_img_to_related:\n",
    "        related = idx_img_to_related[idx]\n",
    "        img_to_related[int(idx_to_url[idx])][\"RelatedImages\"] = [int(idx_to_url[x[0]]) for x in idx_img_to_related[idx]]\n",
    "    with open(ofn, 'w') as outfile:\n",
    "        json.dump(img_to_related, outfile)"
   ]
  },
  {
   "cell_type": "code",
   "execution_count": 12,
   "metadata": {
    "collapsed": true
   },
   "outputs": [],
   "source": [
    "a = json.load(open(\"/data/nearest_neighbor_tagging/nearest_neighbors/text_url.json\", 'r'))"
   ]
  },
  {
   "cell_type": "code",
   "execution_count": 13,
   "metadata": {
    "collapsed": false
   },
   "outputs": [
    {
     "data": {
      "text/plain": [
       "[u'11192707886',\n",
       " u'11054717454',\n",
       " u'11291674873',\n",
       " u'11161476554',\n",
       " u'11073954875',\n",
       " u'11032344504',\n",
       " u'11016774163',\n",
       " u'11041147293',\n",
       " u'11130436283',\n",
       " u'11288333375']"
      ]
     },
     "execution_count": 13,
     "metadata": {},
     "output_type": "execute_result"
    }
   ],
   "source": [
    "a.keys()[:10]"
   ]
  },
  {
   "cell_type": "code",
   "execution_count": 14,
   "metadata": {
    "collapsed": false
   },
   "outputs": [
    {
     "data": {
      "text/plain": [
       "{u'Caption': u'',\n",
       " u'RelatedImages': [11279185216,\n",
       "  11153416603,\n",
       "  11179824755,\n",
       "  11086059814,\n",
       "  11305884674,\n",
       "  11096140375,\n",
       "  11098259476,\n",
       "  11154564375,\n",
       "  11230509194,\n",
       "  11280132014,\n",
       "  11298270626,\n",
       "  11160835024,\n",
       "  11279499713,\n",
       "  11083825104,\n",
       "  11280057136,\n",
       "  11095617076,\n",
       "  11305041304,\n",
       "  11279012965,\n",
       "  11304460696]}"
      ]
     },
     "execution_count": 14,
     "metadata": {},
     "output_type": "execute_result"
    }
   ],
   "source": [
    "a['11288333375']"
   ]
  },
  {
   "cell_type": "markdown",
   "metadata": {},
   "source": [
    "## Convert 10K captions to flickr URL format"
   ]
  },
  {
   "cell_type": "code",
   "execution_count": 3,
   "metadata": {
    "collapsed": true
   },
   "outputs": [],
   "source": [
    "captions = json.load(open(\"/data/captioning/10K_captions_coco.json\", 'r'))"
   ]
  },
  {
   "cell_type": "code",
   "execution_count": 6,
   "metadata": {
    "collapsed": false
   },
   "outputs": [
    {
     "data": {
      "text/plain": [
       "[{u'caption': u'a man in a suit and tie standing next to a tree',\n",
       "  u'fn': u'001915063_01_000011_1_.jpg',\n",
       "  u'image_id': u'1',\n",
       "  u'tag': u'Animals'},\n",
       " {u'caption': u'a  cow standing in a forest',\n",
       "  u'fn': u'001335576_0_000331_1_.jpg',\n",
       "  u'image_id': u'2',\n",
       "  u'tag': u'Animals'}]"
      ]
     },
     "execution_count": 6,
     "metadata": {},
     "output_type": "execute_result"
    }
   ],
   "source": [
    "captions[:2]"
   ]
  },
  {
   "cell_type": "code",
   "execution_count": 14,
   "metadata": {
    "collapsed": false
   },
   "outputs": [
    {
     "name": "stdout",
     "output_type": "stream",
     "text": [
      "47\n"
     ]
    }
   ],
   "source": [
    "captions_url = []\n",
    "ctr = 0\n",
    "for caption in captions:\n",
    "    fn = caption[\"fn\"][:-4]\n",
    "    try:\n",
    "        url = blid_to_url[fn]\n",
    "    except:\n",
    "        url = \"unknown\"\n",
    "        ctr += 1\n",
    "    caption[u'url'] = url\n",
    "    captions_url.append(caption)\n",
    "print ctr"
   ]
  },
  {
   "cell_type": "code",
   "execution_count": 15,
   "metadata": {
    "collapsed": false
   },
   "outputs": [
    {
     "data": {
      "text/plain": [
       "8974"
      ]
     },
     "execution_count": 15,
     "metadata": {},
     "output_type": "execute_result"
    }
   ],
   "source": [
    "len(captions_url)"
   ]
  },
  {
   "cell_type": "code",
   "execution_count": 23,
   "metadata": {
    "collapsed": false
   },
   "outputs": [
    {
     "data": {
      "text/plain": [
       "[{u'caption': u'a man is riding a wave on a surfboard',\n",
       "  u'fn': u'002902984_0_000367_1_.jpg',\n",
       "  u'image_id': u'337',\n",
       "  u'tag': u'Nature',\n",
       "  u'url': '11233033546'},\n",
       " {u'caption': u'a view of a mountain range from a mountain',\n",
       "  u'fn': u'000868098_0_000220_1_.jpg',\n",
       "  u'image_id': u'338',\n",
       "  u'tag': u'Nature',\n",
       "  u'url': '11272422024'},\n",
       " {u'caption': u'a mountain range',\n",
       "  u'fn': u'003321098_0_000134_1_.jpg',\n",
       "  u'image_id': u'339',\n",
       "  u'tag': u'Nature',\n",
       "  u'url': '11151338755'},\n",
       " {u'caption': u'a tree in the woods',\n",
       "  u'fn': u'001782251_01_000358_1_.jpg',\n",
       "  u'image_id': u'340',\n",
       "  u'tag': u'Nature',\n",
       "  u'url': '11159421074'},\n",
       " {u'caption': u'a man is standing on a boat in the water',\n",
       "  u'fn': u'002421511_0_000098_1_.jpg',\n",
       "  u'image_id': u'342',\n",
       "  u'tag': u'Nature',\n",
       "  u'url': '11115076324'}]"
      ]
     },
     "execution_count": 23,
     "metadata": {},
     "output_type": "execute_result"
    }
   ],
   "source": [
    "captions_url[1323:1328]"
   ]
  },
  {
   "cell_type": "code",
   "execution_count": 24,
   "metadata": {
    "collapsed": true
   },
   "outputs": [],
   "source": [
    "json.dump(captions_url, open(\"/data/captioning/10K_captions_coco_url.json\", 'w'))"
   ]
  },
  {
   "cell_type": "code",
   "execution_count": 26,
   "metadata": {
    "collapsed": false
   },
   "outputs": [
    {
     "data": {
      "text/plain": [
       "[{u'caption': u'a man in a suit and tie standing next to a tree',\n",
       "  u'fn': u'001915063_01_000011_1_.jpg',\n",
       "  u'image_id': u'1',\n",
       "  u'tag': u'Animals',\n",
       "  u'url': u'11016598615'},\n",
       " {u'caption': u'a  cow standing in a forest',\n",
       "  u'fn': u'001335576_0_000331_1_.jpg',\n",
       "  u'image_id': u'2',\n",
       "  u'tag': u'Animals',\n",
       "  u'url': u'11016848403'},\n",
       " {u'caption': u'a bike parked on the side of a road',\n",
       "  u'fn': u'000280426_0_000279_1_.jpg',\n",
       "  u'image_id': u'3',\n",
       "  u'tag': u'Animals',\n",
       "  u'url': u'11284038895'},\n",
       " {u'caption': u'a couple of people on a horse drawn carriage',\n",
       "  u'fn': u'002703792_0_000041_1_.jpg',\n",
       "  u'image_id': u'5',\n",
       "  u'tag': u'Animals',\n",
       "  u'url': u'11017644493'},\n",
       " {u'caption': u'a cat is sitting on top of a dog',\n",
       "  u'fn': u'000210133_0_000081_1_.jpg',\n",
       "  u'image_id': u'7',\n",
       "  u'tag': u'Animals',\n",
       "  u'url': u'11115101274'}]"
      ]
     },
     "execution_count": 26,
     "metadata": {},
     "output_type": "execute_result"
    }
   ],
   "source": [
    "b = json.load(open(\"/data/captioning/10K_captions_coco_url.json\", 'r'))\n",
    "b[:5]"
   ]
  }
 ],
 "metadata": {
  "kernelspec": {
   "display_name": "Python 2",
   "language": "python",
   "name": "python2"
  },
  "language_info": {
   "codemirror_mode": {
    "name": "ipython",
    "version": 2
   },
   "file_extension": ".py",
   "mimetype": "text/x-python",
   "name": "python",
   "nbconvert_exporter": "python",
   "pygments_lexer": "ipython2",
   "version": "2.7.6"
  }
 },
 "nbformat": 4,
 "nbformat_minor": 0
}
