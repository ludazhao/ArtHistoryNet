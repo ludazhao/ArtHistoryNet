{
 "cells": [
  {
   "cell_type": "code",
   "execution_count": 1,
   "metadata": {
    "collapsed": false
   },
   "outputs": [],
   "source": [
    "import h5py\n",
    "import os\n",
    "import cPickle as pickle\n",
    "import numpy as np\n",
    "import matplotlib as mpl\n",
    "import matplotlib.pyplot as plt\n",
    "import matplotlib.image as mpimg\n",
    "import pandas as pd\n",
    "import seaborn as sns\n",
    "import collections\n",
    "import Queue\n",
    "from collections import Counter\n",
    "\n",
    "%matplotlib inline\n",
    "%load_ext autoreload\n",
    "%autoreload 2"
   ]
  },
  {
   "cell_type": "code",
   "execution_count": 2,
   "metadata": {
    "collapsed": true
   },
   "outputs": [],
   "source": [
    "(image_metadata, book_metadata, image_to_idx) = pickle.load(open(\"/data/all_metadata_1M_tags.pkl\", 'r'))\n",
    "image_hdf5 = h5py.File('/data/image_data.hdf5','r')"
   ]
  },
  {
   "cell_type": "code",
   "execution_count": 3,
   "metadata": {
    "collapsed": true
   },
   "outputs": [],
   "source": [
    "ocr_hdf5 = h5py.File('/data/ocr_data.hdf5','r')"
   ]
  },
  {
   "cell_type": "markdown",
   "metadata": {},
   "source": [
    "## Set up natural language processing"
   ]
  },
  {
   "cell_type": "code",
   "execution_count": 4,
   "metadata": {
    "collapsed": true
   },
   "outputs": [],
   "source": [
    "# coding=UTF-8\n",
    "import nltk\n",
    "from nltk.corpus import brown\n",
    "\n",
    "# This is a fast and simple noun phrase extractor (based on NLTK)\n",
    "# Feel free to use it, just keep a link back to this post\n",
    "# http://thetokenizer.com/2013/05/09/efficient-way-to-extract-the-main-topics-of-a-sentence/\n",
    "# Create by Shlomi Babluki\n",
    "# May, 2013\n",
    "\n",
    "# This is our fast Part of Speech tagger\n",
    "#############################################################################\n",
    "brown_train = brown.tagged_sents(categories='news')\n",
    "regexp_tagger = nltk.RegexpTagger(\n",
    "    [(r'^-?[0-9]+(.[0-9]+)?$', 'CD'),\n",
    "     (r'(-|:|;)$', ':'),\n",
    "     (r'\\'*$', 'MD'),\n",
    "     (r'(The|the|A|a|An|an)$', 'AT'),\n",
    "     (r'.*able$', 'JJ'),\n",
    "     (r'^[A-Z].*$', 'NNP'),\n",
    "     (r'.*ness$', 'NN'),\n",
    "     (r'.*ly$', 'RB'),\n",
    "     (r'.*s$', 'NNS'),\n",
    "     (r'.*ing$', 'VBG'),\n",
    "     (r'.*ed$', 'VBD'),\n",
    "     (r'.*', 'NN')\n",
    "])\n",
    "unigram_tagger = nltk.UnigramTagger(brown_train, backoff=regexp_tagger)\n",
    "bigram_tagger = nltk.BigramTagger(brown_train, backoff=unigram_tagger)\n",
    "#############################################################################\n",
    "\n",
    "\n",
    "# This is our semi-CFG; Extend it according to your own needs\n",
    "#############################################################################\n",
    "cfg = {}\n",
    "cfg[\"NNP+NNP\"] = \"NNP\"\n",
    "cfg[\"NN+NN\"] = \"NNI\"\n",
    "cfg[\"NNI+NN\"] = \"NNI\"\n",
    "cfg[\"JJ+JJ\"] = \"JJ\"\n",
    "cfg[\"JJ+NN\"] = \"NNI\"\n",
    "#############################################################################\n",
    "\n",
    "\n",
    "class NPExtractor(object):\n",
    "\n",
    "    def __init__(self, sentence):\n",
    "        self.sentence = sentence\n",
    "\n",
    "    # Split the sentence into singlw words/tokens\n",
    "    def tokenize_sentence(self, sentence):\n",
    "        tokens = nltk.word_tokenize(sentence)\n",
    "        return tokens\n",
    "\n",
    "    # Normalize brown corpus' tags (\"NN\", \"NN-PL\", \"NNS\" > \"NN\")\n",
    "    def normalize_tags(self, tagged):\n",
    "        n_tagged = []\n",
    "        for t in tagged:\n",
    "            if t[1] == \"NP-TL\" or t[1] == \"NP\":\n",
    "                n_tagged.append((t[0], \"NNP\"))\n",
    "                continue\n",
    "            if t[1].endswith(\"-TL\"):\n",
    "                n_tagged.append((t[0], t[1][:-3]))\n",
    "                continue\n",
    "            if t[1].endswith(\"S\"):\n",
    "                n_tagged.append((t[0], t[1][:-1]))\n",
    "                continue\n",
    "            n_tagged.append((t[0], t[1]))\n",
    "        return n_tagged\n",
    "\n",
    "    # Extract the main topics from the sentence\n",
    "    def extract(self):\n",
    "\n",
    "        tokens = self.tokenize_sentence(self.sentence)\n",
    "        tags = self.normalize_tags(bigram_tagger.tag(tokens))\n",
    "\n",
    "        merge = True\n",
    "        while merge:\n",
    "            merge = False\n",
    "            for x in range(0, len(tags) - 1):\n",
    "                t1 = tags[x]\n",
    "                t2 = tags[x + 1]\n",
    "                key = \"%s+%s\" % (t1[1], t2[1])\n",
    "                value = cfg.get(key, '')\n",
    "                if value:\n",
    "                    merge = True\n",
    "                    tags.pop(x)\n",
    "                    tags.pop(x)\n",
    "                    match = \"%s %s\" % (t1[0], t2[0])\n",
    "                    pos = value\n",
    "                    tags.insert(x, (match, pos))\n",
    "                    break\n",
    "\n",
    "        matches = []\n",
    "        for t in tags:\n",
    "            if t[1] == \"NNP\" or t[1] == \"NNI\":\n",
    "            #if t[1] == \"NNP\" or t[1] == \"NNI\" or t[1] == \"NN\":\n",
    "                matches.append(t[0])\n",
    "        return matches"
   ]
  },
  {
   "cell_type": "markdown",
   "metadata": {},
   "source": [
    "## Do TF-IDF"
   ]
  },
  {
   "cell_type": "markdown",
   "metadata": {},
   "source": [
    "we are sampling 10K images"
   ]
  },
  {
   "cell_type": "code",
   "execution_count": 5,
   "metadata": {
    "collapsed": true
   },
   "outputs": [],
   "source": [
    "def get_noun_phrases_from_img(chunk, img):\n",
    "    chunk = int(chunk)\n",
    "    img = int(img)\n",
    "    \n",
    "    phrase = ' '.join(ocr_hdf5['Chunk{}'.format(chunk)][img][1:]).decode(\"ascii\", errors=\"ignore\")\n",
    "    np_extractor = NPExtractor(phrase)\n",
    "    multiword_res = [x.lower() for x in np_extractor.extract()]\n",
    "    \n",
    "    res = []\n",
    "    for word in multiword_res:\n",
    "        res.extend(word.split(' '))\n",
    "        \n",
    "    # number of items in the set divided by total length; a marker of English or not-English\n",
    "    pct_np = float(len(set(res)))/len(phrase)\n",
    "    \n",
    "    # get the words that appear most often\n",
    "    #print Counter(res).most_common(10)\n",
    "\n",
    "    return pct_np, res\n",
    "\n",
    "def get_noun_phrases_from_text(txt):\n",
    "    np_extractor = NPExtractor(txt)\n",
    "    multiword_res = [x.lower() for x in np_extractor.extract()]\n",
    "    \n",
    "    res = []\n",
    "    for word in multiword_res:\n",
    "        res.extend(word.split(' '))\n",
    "    \n",
    "    res = [x for x in res if len(x) > 3]\n",
    "    return res"
   ]
  },
  {
   "cell_type": "code",
   "execution_count": 6,
   "metadata": {
    "collapsed": false
   },
   "outputs": [
    {
     "name": "stdout",
     "output_type": "stream",
     "text": [
      "0\n",
      "50\n",
      "100\n",
      "150\n"
     ]
    }
   ],
   "source": [
    "sampled_images = []\n",
    "sampled_text = []\n",
    "for_lang = ['avec', 'sich', 'eine', 'nach', 'auch', 'nicht', 'wurde', 'alle']\n",
    "for chunk in range(200):\n",
    "    if chunk % 50 == 0: \n",
    "        print(chunk)\n",
    "    for index in np.random.choice(range(5000), 50):\n",
    "        try:\n",
    "            ocr = ' '.join(ocr_hdf5['Chunk{}'.format(chunk)][index][1:]).decode(\"ascii\", errors=\"ignore\")\n",
    "            if ocr == '   ': continue\n",
    "            if any(word in ocr for word in for_lang): continue\n",
    "#             pct, words = get_noun_phrases_from_img(chunk, index)\n",
    "#             if pct > 0.03: continue\n",
    "            sampled_images.append((chunk, index))\n",
    "            sampled_text.append(ocr)\n",
    "        except:\n",
    "            pass\n",
    "    \n",
    "np.random.shuffle(sampled_text)"
   ]
  },
  {
   "cell_type": "code",
   "execution_count": 8,
   "metadata": {
    "collapsed": false
   },
   "outputs": [
    {
     "name": "stdout",
     "output_type": "stream",
     "text": [
      "CPU times: user 43.9 s, sys: 14.6 ms, total: 43.9 s\n",
      "Wall time: 43.9 s\n",
      "(1000, 82)\n"
     ]
    }
   ],
   "source": [
    "from sklearn.feature_extraction.text import TfidfVectorizer\n",
    "\n",
    "#define vectorizer parameters\n",
    "tfidf_vectorizer = TfidfVectorizer(max_df=0.8, max_features=200000,\n",
    "                                 min_df=0.05, stop_words='english',\n",
    "                                 use_idf=True, tokenizer=get_noun_phrases_from_text, ngram_range=(1,1))\n",
    "\n",
    "%time tfidf_matrix = tfidf_vectorizer.fit_transform(sampled_text[:1000]) #fit the vectorizer to synopses\n",
    "\n",
    "print(tfidf_matrix.shape)"
   ]
  },
  {
   "cell_type": "code",
   "execution_count": 9,
   "metadata": {
    "collapsed": false
   },
   "outputs": [
    {
     "data": {
      "text/plain": [
       "[u'ancient',\n",
       " u'beautiful',\n",
       " u'black',\n",
       " u'certain',\n",
       " u'chapter',\n",
       " u'charles',\n",
       " u'chief',\n",
       " u'church',\n",
       " u'city',\n",
       " u'country',\n",
       " u'dear',\n",
       " u'different',\n",
       " u'early',\n",
       " u'english',\n",
       " u'eyes',\n",
       " u'fair',\n",
       " u'family',\n",
       " u'father',\n",
       " u'fine',\n",
       " u'form',\n",
       " u'general',\n",
       " u'george',\n",
       " u'good',\n",
       " u'grand',\n",
       " u'great',\n",
       " u'green',\n",
       " u'hand',\n",
       " u'heart',\n",
       " u'henry',\n",
       " u'high',\n",
       " u'home',\n",
       " u'house',\n",
       " u'human',\n",
       " u'james',\n",
       " u'john',\n",
       " u'king',\n",
       " u'lady',\n",
       " u'land',\n",
       " u'large',\n",
       " u'late',\n",
       " u'life',\n",
       " u'light',\n",
       " u'london',\n",
       " u'long',\n",
       " u'lord',\n",
       " u'morning',\n",
       " u'mrs.',\n",
       " u'noble',\n",
       " u'numerous',\n",
       " u'open',\n",
       " u'people',\n",
       " u'place',\n",
       " u'poor',\n",
       " u'present',\n",
       " u'public',\n",
       " u'right',\n",
       " u'river',\n",
       " u'round',\n",
       " u'royal',\n",
       " u'short',\n",
       " u'small',\n",
       " u'square',\n",
       " u'state',\n",
       " u'stone',\n",
       " u'street',\n",
       " u'sweet',\n",
       " u'thomas',\n",
       " u'thou',\n",
       " u'till',\n",
       " u'time',\n",
       " u'tion',\n",
       " u'town',\n",
       " u'various',\n",
       " u'water',\n",
       " u'western',\n",
       " u'white',\n",
       " u'william',\n",
       " u'woman',\n",
       " u'work',\n",
       " u'world',\n",
       " u'years',\n",
       " u'young']"
      ]
     },
     "execution_count": 9,
     "metadata": {},
     "output_type": "execute_result"
    }
   ],
   "source": [
    "terms = tfidf_vectorizer.get_feature_names()\n",
    "terms"
   ]
  },
  {
   "cell_type": "code",
   "execution_count": 16,
   "metadata": {
    "collapsed": false
   },
   "outputs": [
    {
     "data": {
      "text/plain": [
       "array([70, 62, 33, ..., 48, 83, 81], dtype=int32)"
      ]
     },
     "execution_count": 16,
     "metadata": {},
     "output_type": "execute_result"
    }
   ],
   "source": [
    "tfidf_matrix."
   ]
  },
  {
   "cell_type": "markdown",
   "metadata": {},
   "source": [
    "## K-means"
   ]
  },
  {
   "cell_type": "code",
   "execution_count": 10,
   "metadata": {
    "collapsed": false
   },
   "outputs": [
    {
     "name": "stdout",
     "output_type": "stream",
     "text": [
      "CPU times: user 364 ms, sys: 3.98 ms, total: 368 ms\n",
      "Wall time: 367 ms\n"
     ]
    }
   ],
   "source": [
    "from sklearn.cluster import KMeans\n",
    "\n",
    "num_clusters = 5\n",
    "\n",
    "km = KMeans(n_clusters=num_clusters)\n",
    "%time km.fit(tfidf_matrix)\n",
    "clusters = km.labels_.tolist()"
   ]
  },
  {
   "cell_type": "code",
   "execution_count": 15,
   "metadata": {
    "collapsed": true
   },
   "outputs": [],
   "source": [
    "from sklearn.externals import joblib\n",
    "\n",
    "#uncomment the below to save your model \n",
    "#since I've already run my model I am loading from the pickle\n",
    "\n",
    "joblib.dump(km, '/data/ocr_clustering/doc_cluster.pkl')\n",
    "\n",
    "km = joblib.load('/data/ocr_clustering/doc_cluster.pkl')\n",
    "clusters = km.labels_.tolist()"
   ]
  },
  {
   "cell_type": "code",
   "execution_count": 11,
   "metadata": {
    "collapsed": false
   },
   "outputs": [
    {
     "name": "stdout",
     "output_type": "stream",
     "text": [
      "Top terms per cluster:\n",
      "\n",
      "Cluster 0 words: great, large, small, river, tion, western,\n",
      "Number of images: 199\n",
      "\n",
      "Cluster 1 words: john, street, lord, general, william, charles,\n",
      "Number of images: 145\n",
      "\n",
      "Cluster 2 words: good, thou, poor, long, young, heart,\n",
      "Number of images: 185\n",
      "\n",
      "Cluster 3 words: till, chapter, grand, king, land, woman,\n",
      "Number of images: 415\n",
      "\n",
      "Cluster 4 words: mrs., lady, young, dear, chapter, good,\n",
      "Number of images: 56\n",
      "\n",
      "\n",
      "\n"
     ]
    }
   ],
   "source": [
    "from __future__ import print_function\n",
    "\n",
    "terms = tfidf_vectorizer.get_feature_names()\n",
    "print(\"Top terms per cluster:\")\n",
    "print()\n",
    "\n",
    "#sort cluster centers by proximity to centroid\n",
    "order_centroids = km.cluster_centers_.argsort()[:, ::-1] \n",
    "\n",
    "for i in range(num_clusters):\n",
    "    print(\"Cluster %d words:\" % i, end='')\n",
    "    \n",
    "    for ind in order_centroids[i, :6]: #replace 6 with n words per cluster\n",
    "        print(' %s' % terms[ind], end=',')\n",
    "    print() #add whitespace\n",
    "    print(\"Number of images: {}\".format(clusters.count(i)))\n",
    "    print() #add whitespace\n",
    "    \n",
    "print()\n",
    "print()"
   ]
  },
  {
   "cell_type": "markdown",
   "metadata": {},
   "source": [
    "## PCA"
   ]
  },
  {
   "cell_type": "code",
   "execution_count": 43,
   "metadata": {
    "collapsed": false
   },
   "outputs": [],
   "source": [
    "import sklearn\n",
    "tsne = sklearn.manifold.TSNE(2)\n",
    "tfidf_matrix_pca = tsne.fit_transform(tfidf_matrix.toarray())"
   ]
  },
  {
   "cell_type": "code",
   "execution_count": 44,
   "metadata": {
    "collapsed": false
   },
   "outputs": [
    {
     "data": {
      "text/plain": [
       "<seaborn.axisgrid.PairGrid at 0x7fe352751150>"
      ]
     },
     "execution_count": 44,
     "metadata": {},
     "output_type": "execute_result"
    },
    {
     "data": {
      "image/png": "[encoded data removed]",
      "text/plain": [
       "<matplotlib.figure.Figure at 0x7fe352751f10>"
      ]
     },
     "metadata": {},
     "output_type": "display_data"
    }
   ],
   "source": [
    "sns.pairplot(pd.DataFrame(tfidf_matrix_pca))"
   ]
  },
  {
   "cell_type": "markdown",
   "metadata": {},
   "source": [
    "## Hierarchical"
   ]
  },
  {
   "cell_type": "code",
   "execution_count": 42,
   "metadata": {
    "collapsed": false
   },
   "outputs": [
    {
     "data": {
      "image/png": "[encoded data removed]",
      "text/plain": [
       "<matplotlib.figure.Figure at 0x7fe3527ca5d0>"
      ]
     },
     "metadata": {},
     "output_type": "display_data"
    }
   ],
   "source": [
    "from scipy.cluster.hierarchy import ward, dendrogram\n",
    "from sklearn.metrics.pairwise import cosine_similarity\n",
    "dist = 1 - cosine_similarity(tfidf_matrix)\n",
    "\n",
    "linkage_matrix = ward(dist) #define the linkage_matrix using ward clustering pre-computed distances\n",
    "\n",
    "fig, ax = plt.subplots(figsize=(5,5)) # set size\n",
    "ax = dendrogram(linkage_matrix, orientation=\"right\");\n",
    "\n",
    "plt.tick_params(\\\n",
    "    axis= 'x',          # changes apply to the x-axis\n",
    "    which='both',      # both major and minor ticks are affected\n",
    "    bottom='off',      # ticks along the bottom edge are off\n",
    "    top='off',         # ticks along the top edge are off\n",
    "    labelbottom='off')\n",
    "\n",
    "plt.tight_layout() #show plot with tight layout\n",
    "\n",
    "#uncomment below to save figure\n",
    "#plt.savefig('ward_clusters.png', dpi=200) #save figure as ward_clusters"
   ]
  },
  {
   "cell_type": "markdown",
   "metadata": {
    "collapsed": true
   },
   "source": [
    "## Latent Dirichlet Association"
   ]
  },
  {
   "cell_type": "code",
   "execution_count": 12,
   "metadata": {
    "collapsed": false
   },
   "outputs": [],
   "source": [
    "from gensim import corpora, models, similarities "
   ]
  },
  {
   "cell_type": "code",
   "execution_count": 13,
   "metadata": {
    "collapsed": false
   },
   "outputs": [
    {
     "name": "stdout",
     "output_type": "stream",
     "text": [
      "CPU times: user 38.5 s, sys: 8.63 ms, total: 38.5 s\n",
      "Wall time: 38.4 s\n",
      "CPU times: user 308 ms, sys: 16.4 ms, total: 324 ms\n",
      "Wall time: 300 ms\n"
     ]
    }
   ],
   "source": [
    "stopwords = nltk.corpus.stopwords.words('english')\n",
    "%time tokenized_text = [get_noun_phrases_from_text(text) for text in sampled_text[:1000]]\n",
    "%time texts = [[word for word in text if word not in stopwords] for text in tokenized_text]    "
   ]
  },
  {
   "cell_type": "code",
   "execution_count": 9,
   "metadata": {
    "collapsed": false
   },
   "outputs": [
    {
     "name": "stdout",
     "output_type": "stream",
     "text": [
      "CPU times: user 32.9 s, sys: 0 ns, total: 32.9 s\n",
      "Wall time: 32.9 s\n"
     ]
    }
   ],
   "source": [
    "%time a = [get_noun_phrases_from_text(text) for text in sampled_text[:1000]]"
   ]
  },
  {
   "cell_type": "code",
   "execution_count": 14,
   "metadata": {
    "collapsed": false
   },
   "outputs": [],
   "source": [
    "#create a Gensim dictionary from the texts\n",
    "dictionary = corpora.Dictionary(texts)\n",
    "\n",
    "#remove extremes (similar to the min/max df step used when creating the tf-idf matrix)\n",
    "dictionary.filter_extremes(no_below=0.05, no_above=0.8)\n",
    "\n",
    "#convert the dictionary to a bag of words corpus for reference\n",
    "corpus = [dictionary.doc2bow(text) for text in texts]"
   ]
  },
  {
   "cell_type": "code",
   "execution_count": 15,
   "metadata": {
    "collapsed": false
   },
   "outputs": [
    {
     "name": "stdout",
     "output_type": "stream",
     "text": [
      "CPU times: user 1min 8s, sys: 17 ms, total: 1min 8s\n",
      "Wall time: 1min 8s\n"
     ]
    }
   ],
   "source": [
    "%time lda = models.LdaModel(corpus, num_topics=5, id2word=dictionary, update_every=5, chunksize=500, passes=20)"
   ]
  },
  {
   "cell_type": "code",
   "execution_count": 16,
   "metadata": {
    "collapsed": false
   },
   "outputs": [
    {
     "data": {
      "text/plain": [
       "[(0,\n",
       "  u'0.004*till + 0.003*john + 0.001*thomas + 0.001*hans + 0.001*seat + 0.001*gustaf + 0.001*fven + 0.001*hade + 0.001*large + 0.001*james'),\n",
       " (1,\n",
       "  u'0.002*para + 0.002*great + 0.002*london + 0.002*large + 0.002*illustrations + 0.002*part + 0.001*small + 0.001*ship + 0.001*crown + 0.001*good'),\n",
       " (2,\n",
       "  u'0.002*hogy + 0.001*volt + 0.001*mint + 0.001*dans + 0.001*lead + 0.001*bill + 0.001*cloth + 0.001*buffalo + 0.001*coal + 0.001*para'),\n",
       " (3,\n",
       "  u'0.003*great + 0.003*good + 0.003*miss + 0.003*john + 0.003*mrs. + 0.002*young + 0.002*life + 0.002*london + 0.002*english + 0.002*large'),\n",
       " (4,\n",
       "  u'0.004*great + 0.003*john + 0.002*thou + 0.002*large + 0.002*mrs. + 0.002*long + 0.002*small + 0.002*london + 0.002*chapter + 0.002*good')]"
      ]
     },
     "execution_count": 16,
     "metadata": {},
     "output_type": "execute_result"
    }
   ],
   "source": [
    "lda.show_topics()"
   ]
  },
  {
   "cell_type": "code",
   "execution_count": 17,
   "metadata": {
    "collapsed": false
   },
   "outputs": [
    {
     "name": "stdout",
     "output_type": "stream",
     "text": [
      "['till', 'john', 'thomas', 'hans', 'seat']\n",
      "\n",
      "['para', 'great', 'london', 'large', 'illustrations']\n",
      "\n",
      "['hogy', 'volt', 'mint', 'dans', 'lead']\n",
      "\n",
      "['great', 'good', 'miss', 'john', 'mrs.']\n",
      "\n",
      "['great', 'john', 'thou', 'large', 'mrs.']\n",
      "\n"
     ]
    }
   ],
   "source": [
    "topics_matrix = lda.show_topics(formatted=False, num_words=20)\n",
    "\n",
    "for i in topics_matrix:\n",
    "    print([str(word[0]) for word in i[1]][:5])\n",
    "    print()"
   ]
  }
 ],
 "metadata": {
  "kernelspec": {
   "display_name": "Python 2",
   "language": "python",
   "name": "python2"
  },
  "language_info": {
   "codemirror_mode": {
    "name": "ipython",
    "version": 2
   },
   "file_extension": ".py",
   "mimetype": "text/x-python",
   "name": "python",
   "nbconvert_exporter": "python",
   "pygments_lexer": "ipython2",
   "version": "2.7.6"
  }
 },
 "nbformat": 4,
 "nbformat_minor": 0
}
